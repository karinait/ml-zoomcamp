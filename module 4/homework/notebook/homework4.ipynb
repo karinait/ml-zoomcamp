{
 "cells": [
  {
   "cell_type": "code",
   "execution_count": 820,
   "id": "17bd8434-3673-4b2c-af80-76756c5ede9e",
   "metadata": {},
   "outputs": [],
   "source": [
    "import pandas as pd\n",
    "import numpy as np"
   ]
  },
  {
   "cell_type": "code",
   "execution_count": 821,
   "id": "abc80ad3-4629-47ed-9f3c-44b45eba3bef",
   "metadata": {},
   "outputs": [],
   "source": [
    "import pandas as pd\n",
    "import numpy as np"
   ]
  },
  {
   "cell_type": "code",
   "execution_count": 822,
   "id": "5a85b0ba-76d5-4d51-8839-ccd2c54ae96b",
   "metadata": {},
   "outputs": [],
   "source": [
    "import pandas as pd\n",
    "import numpy as np"
   ]
  },
  {
   "cell_type": "code",
   "execution_count": 823,
   "id": "588edc44-7483-4c89-84f6-9b22413d64d1",
   "metadata": {},
   "outputs": [],
   "source": [
    "import pandas as pd\n",
    "import numpy as np"
   ]
  },
  {
   "cell_type": "code",
   "execution_count": 824,
   "id": "46731394-24b7-4293-a665-d5569947120f",
   "metadata": {},
   "outputs": [
    {
     "name": "stdout",
     "output_type": "stream",
     "text": [
      "--2024-10-22 18:17:20--  https://archive.ics.uci.edu/static/public/222/bank+marketing.zip\n",
      "Resolving archive.ics.uci.edu (archive.ics.uci.edu)... 128.195.10.252\n",
      "Connecting to archive.ics.uci.edu (archive.ics.uci.edu)|128.195.10.252|:443... connected.\n",
      "HTTP request sent, awaiting response... 200 OK\n",
      "Length: unspecified\n",
      "Saving to: ‘../dataset/data.zip’\n",
      "\n",
      "../dataset/data.zip     [   <=>              ] 999.85K  1.94MB/s    in 0.5s    \n",
      "\n",
      "2024-10-22 18:17:21 (1.94 MB/s) - ‘../dataset/data.zip’ saved [1023843]\n",
      "\n"
     ]
    }
   ],
   "source": [
    "!wget \"https://archive.ics.uci.edu/static/public/222/bank+marketing.zip\" -O \"../dataset/data.zip\""
   ]
  },
  {
   "cell_type": "code",
   "execution_count": 825,
   "id": "5fe7cf2b-6bbf-4ac6-899a-2c88a2b5220c",
   "metadata": {},
   "outputs": [
    {
     "name": "stdout",
     "output_type": "stream",
     "text": [
      "Archive:  ../dataset/data.zip\n",
      " extracting: ../dataset/bank.zip     \n",
      " extracting: ../dataset/bank-additional.zip  \n"
     ]
    }
   ],
   "source": [
    "!unzip -o \"../dataset/data.zip\" -d \"../dataset/\""
   ]
  },
  {
   "cell_type": "code",
   "execution_count": 826,
   "id": "e858b7d3-4869-4200-bc63-ce514cd615d5",
   "metadata": {},
   "outputs": [
    {
     "name": "stdout",
     "output_type": "stream",
     "text": [
      "Archive:  ../dataset/bank.zip\n",
      "  inflating: ../dataset/bank-full.csv  \n",
      "  inflating: ../dataset/bank-names.txt  \n",
      "  inflating: ../dataset/bank.csv     \n"
     ]
    }
   ],
   "source": [
    "!unzip -o \"../dataset/bank.zip\" -d \"../dataset/\""
   ]
  },
  {
   "cell_type": "code",
   "execution_count": 827,
   "id": "4d42442b-6689-45b1-95a2-1c8d872bcb8a",
   "metadata": {},
   "outputs": [],
   "source": [
    "df = pd.read_csv(\"../dataset/bank-full.csv\", sep=';')"
   ]
  },
  {
   "cell_type": "code",
   "execution_count": 828,
   "id": "5cb7b949-0edf-4fbf-ac84-072039eb0202",
   "metadata": {},
   "outputs": [],
   "source": [
    "columns = ['age', 'job', 'marital', 'education', 'balance', 'housing','contact', 'day', 'month', 'duration', 'campaign', 'pdays',\n",
    "       'previous', 'poutcome', 'y']"
   ]
  },
  {
   "cell_type": "code",
   "execution_count": 829,
   "id": "8c74a1a5-adda-44ec-a9fd-79b8915948f5",
   "metadata": {},
   "outputs": [
    {
     "data": {
      "text/plain": [
       "45211"
      ]
     },
     "execution_count": 829,
     "metadata": {},
     "output_type": "execute_result"
    }
   ],
   "source": [
    "df=df[columns]\n",
    "len(df)"
   ]
  },
  {
   "cell_type": "code",
   "execution_count": 830,
   "id": "70bf5d40-0658-4d09-aaac-5df27b3a33cd",
   "metadata": {},
   "outputs": [
    {
     "data": {
      "text/plain": [
       "age          0\n",
       "job          0\n",
       "marital      0\n",
       "education    0\n",
       "balance      0\n",
       "housing      0\n",
       "contact      0\n",
       "day          0\n",
       "month        0\n",
       "duration     0\n",
       "campaign     0\n",
       "pdays        0\n",
       "previous     0\n",
       "poutcome     0\n",
       "y            0\n",
       "dtype: int64"
      ]
     },
     "execution_count": 830,
     "metadata": {},
     "output_type": "execute_result"
    }
   ],
   "source": [
    "df.isnull().sum()"
   ]
  },
  {
   "cell_type": "code",
   "execution_count": 831,
   "id": "aa6aabd9-4cc9-43da-ba3f-89fdde439b60",
   "metadata": {},
   "outputs": [
    {
     "data": {
      "text/plain": [
       "y\n",
       "0    39922\n",
       "1     5289\n",
       "Name: count, dtype: int64"
      ]
     },
     "execution_count": 831,
     "metadata": {},
     "output_type": "execute_result"
    }
   ],
   "source": [
    "df.y=(df.y==\"yes\").astype(int)\n",
    "df.y.value_counts()"
   ]
  },
  {
   "cell_type": "code",
   "execution_count": 832,
   "id": "64a66661-9cf9-48d5-8692-f5f8f09108d4",
   "metadata": {},
   "outputs": [],
   "source": [
    "from sklearn.model_selection import train_test_split"
   ]
  },
  {
   "cell_type": "code",
   "execution_count": 833,
   "id": "93f1b858-3fae-4ecd-befb-c75c4442d2e5",
   "metadata": {},
   "outputs": [],
   "source": [
    "df_full_train, df_test = train_test_split(df, test_size=0.20, random_state=1)\n",
    "df_train, df_val = train_test_split(df_full_train, test_size=0.25, random_state=1)"
   ]
  },
  {
   "cell_type": "code",
   "execution_count": 834,
   "id": "8d72ce83-3621-4c6e-833e-6888e8161c9b",
   "metadata": {},
   "outputs": [
    {
     "data": {
      "text/plain": [
       "(27126, 9042, 9043)"
      ]
     },
     "execution_count": 834,
     "metadata": {},
     "output_type": "execute_result"
    }
   ],
   "source": [
    "len(df_train), len(df_val), len(df_test)"
   ]
  },
  {
   "cell_type": "markdown",
   "id": "0c76a1c4-e606-4660-8264-2d97c46e8436",
   "metadata": {},
   "source": [
    "# Question 1: ROC AUC feature importance"
   ]
  },
  {
   "cell_type": "code",
   "execution_count": 835,
   "id": "98212ff8-80c0-49c7-98ea-4041e0e49693",
   "metadata": {},
   "outputs": [],
   "source": [
    "y_train = df_train.y.values\n",
    "y_val = df_val.y.values\n",
    "y_test = df_test.y.values"
   ]
  },
  {
   "cell_type": "code",
   "execution_count": 836,
   "id": "57096c4b-37f2-4bd2-91f6-a1c2a8674d67",
   "metadata": {},
   "outputs": [],
   "source": [
    "del df_train[\"y\"]\n",
    "del df_val[\"y\"]\n",
    "del df_test[\"y\"]"
   ]
  },
  {
   "cell_type": "code",
   "execution_count": 837,
   "id": "af69b93e-cf99-452f-9ac1-0b5e589dd35b",
   "metadata": {},
   "outputs": [],
   "source": [
    "numerical=['age', 'balance', 'day', 'duration', 'campaign', 'pdays', 'previous']"
   ]
  },
  {
   "cell_type": "code",
   "execution_count": 838,
   "id": "1c644625-7c8b-4df7-bf10-de729a249c17",
   "metadata": {},
   "outputs": [],
   "source": [
    "df_train.reset_index(drop=True, inplace=True)\n",
    "df_val.reset_index(drop=True, inplace=True)\n",
    "df_test.reset_index(drop=True, inplace=True)"
   ]
  },
  {
   "cell_type": "code",
   "execution_count": 839,
   "id": "cd7e1274-891a-43bd-b60c-a9af5e8ddddc",
   "metadata": {},
   "outputs": [],
   "source": [
    "from sklearn.metrics import roc_auc_score\n",
    "from sklearn.metrics import roc_curve\n",
    "from sklearn.metrics import auc"
   ]
  },
  {
   "cell_type": "code",
   "execution_count": 840,
   "id": "80f99d59-d402-4798-9119-9d1e6482cdbe",
   "metadata": {},
   "outputs": [],
   "source": [
    "import matplotlib.pyplot as plt\n",
    "import seaborn as sns"
   ]
  },
  {
   "cell_type": "code",
   "execution_count": null,
   "id": "62aa52e3-d702-4c30-821b-5de6b1f729d2",
   "metadata": {},
   "outputs": [],
   "source": []
  },
  {
   "cell_type": "code",
   "execution_count": 841,
   "id": "6789b9b0-9bf8-44bf-88ca-513e6c376f82",
   "metadata": {},
   "outputs": [
    {
     "data": {
      "text/plain": [
       "<matplotlib.legend.Legend at 0x73607b74cef0>"
      ]
     },
     "execution_count": 841,
     "metadata": {},
     "output_type": "execute_result"
    },
    {
     "data": {
      "image/png": "[encoded data removed]",
      "text/plain": [
       "<Figure size 500x500 with 1 Axes>"
      ]
     },
     "metadata": {},
     "output_type": "display_data"
    }
   ],
   "source": [
    "results_dict = {}\n",
    "plt.figure(figsize=(5,5))\n",
    "plt.plot ([0,1], [0,1], label = 'Random', linestyle = '--')\n",
    "for col in numerical:\n",
    "    fpr, tpr, thresholds = roc_curve(y_true=y_train, y_score=df_train[col])\n",
    "    auc_score_result = auc(fpr, tpr)\n",
    "    if (auc_score_result < 0.5):\n",
    "        fpr, tpr, thresholds = roc_curve(y_true=y_train, y_score=-df_train[col])        \n",
    "        auc_score_result = auc(fpr,tpr)\n",
    "    plt.plot(fpr,tpr, label =col)        \n",
    "    results_dict[col]=auc_score_result\n",
    "\n",
    "plt.xlabel('FPR')\n",
    "plt.ylabel('TPR')\n",
    "plt.legend()\n",
    "\n"
   ]
  },
  {
   "cell_type": "code",
   "execution_count": 842,
   "id": "1b6c6299-4db0-480e-b43b-7653d96b2ee9",
   "metadata": {},
   "outputs": [
    {
     "data": {
      "text/plain": [
       "[('duration', 0.8147002759670778),\n",
       " ('previous', 0.5985653242764153),\n",
       " ('pdays', 0.5901276247352144),\n",
       " ('balance', 0.5888313805382317),\n",
       " ('campaign', 0.5714543015682159),\n",
       " ('day', 0.525957882383908),\n",
       " ('age', 0.512185717527344)]"
      ]
     },
     "execution_count": 842,
     "metadata": {},
     "output_type": "execute_result"
    }
   ],
   "source": [
    "sorted_aucs = sorted(results_dict.items(), key=lambda item: item[1], reverse=True)\n",
    "sorted_aucs\n"
   ]
  },
  {
   "cell_type": "markdown",
   "id": "49089756-bea0-4e79-a157-31e479eaeb94",
   "metadata": {},
   "source": [
    "ANSWER Q1"
   ]
  },
  {
   "cell_type": "code",
   "execution_count": 843,
   "id": "c97ddcc9-0e49-4c55-a4a5-081fa0f3bb95",
   "metadata": {},
   "outputs": [
    {
     "name": "stdout",
     "output_type": "stream",
     "text": [
      "The numerical value with highest AUC is 'duration' \n"
     ]
    }
   ],
   "source": [
    "print (f'The numerical value with highest AUC is \\'{sorted_aucs[0][0]}\\' ')\n"
   ]
  },
  {
   "cell_type": "markdown",
   "id": "364581de-7dd7-4ad5-a40f-5bd8d29fef59",
   "metadata": {},
   "source": [
    "# Question 2: Training the model"
   ]
  },
  {
   "cell_type": "code",
   "execution_count": 844,
   "id": "ad646605-0760-4627-ba5a-5f41ebb38d81",
   "metadata": {},
   "outputs": [],
   "source": [
    "from sklearn.feature_extraction import DictVectorizer\n",
    "from sklearn.linear_model import LogisticRegression"
   ]
  },
  {
   "cell_type": "code",
   "execution_count": 845,
   "id": "d281cddb-3587-471a-ada1-7f15fd24598a",
   "metadata": {},
   "outputs": [],
   "source": [
    "def train_and_get_auc(df_train, y_train, df_val, y_val, model):\n",
    "    dv = DictVectorizer()\n",
    "    _train_dicts = df_train.to_dict(orient='records')\n",
    "    _X_train = dv.fit_transform(_train_dicts)\n",
    "    model.fit(_X_train, y_train)\n",
    "    _val_dicts = df_val.to_dict(orient='records')    \n",
    "    _X_val = dv.transform(_val_dicts)\n",
    "    y_pred = model.predict_proba(_X_val)[:, 1]\n",
    "    auc = roc_auc_score(y_val, y_pred).round(3)\n",
    "    return auc\n"
   ]
  },
  {
   "cell_type": "code",
   "execution_count": 846,
   "id": "4d8d2b27-31a3-4cf1-be9c-89fb39b38ffe",
   "metadata": {},
   "outputs": [
    {
     "data": {
      "text/plain": [
       "0.9"
      ]
     },
     "execution_count": 846,
     "metadata": {},
     "output_type": "execute_result"
    }
   ],
   "source": [
    "model = LogisticRegression(solver='liblinear', C=1.0, max_iter=1000)\n",
    "auc=train_and_get_auc(df_train, y_train, df_val, y_val, model)\n",
    "auc"
   ]
  },
  {
   "cell_type": "markdown",
   "id": "f27403f5-44e6-4d07-8342-e6d300b5d706",
   "metadata": {},
   "source": [
    "ANSWER Q2:"
   ]
  },
  {
   "cell_type": "code",
   "execution_count": 847,
   "id": "6bfe0244-3ee2-4b1c-aa8d-6bb72b751ad6",
   "metadata": {},
   "outputs": [
    {
     "name": "stdout",
     "output_type": "stream",
     "text": [
      "The AUC of the model in the validation dataset is 0.9\n"
     ]
    }
   ],
   "source": [
    "print (f'The AUC of the model in the validation dataset is {auc}')"
   ]
  },
  {
   "cell_type": "markdown",
   "id": "c0d5c02e-f796-4933-9fc6-52b8299b018c",
   "metadata": {},
   "source": [
    "# Question 3: Precision and Recall"
   ]
  },
  {
   "cell_type": "code",
   "execution_count": 848,
   "id": "5574b81c-7346-4d37-81c6-41cf7b1d558c",
   "metadata": {},
   "outputs": [],
   "source": [
    "def evaluate_model_with_threshold(t):\n",
    "    actual_positive = (y_val==1)\n",
    "    actual_negative = (y_val==0)\n",
    "    predict_positive = (y_pred >=t)\n",
    "    predict_negative = (y_pred <t)\n",
    "\n",
    "    tp = (predict_positive & actual_positive).sum()\n",
    "    fp = (predict_positive & actual_negative).sum()\n",
    "    tn = (predict_negative & actual_negative).sum()\n",
    "    fn = (predict_negative & actual_positive).sum()  \n",
    "\n",
    "    if tp+fp>0:\n",
    "        precision = tp/(tp+fp)\n",
    "    else:       \n",
    "        precision = np.nan\n",
    "\n",
    "    if tp+fn>0:\n",
    "        recall = tp/(tp+fn)\n",
    "    else:       \n",
    "        recall = np.nan     \n",
    "    return  precision, recall"
   ]
  },
  {
   "cell_type": "code",
   "execution_count": 849,
   "id": "71c511fa-e624-4c41-b911-6ed338aa82ec",
   "metadata": {},
   "outputs": [],
   "source": [
    "thresholds = np.linspace(0.0,1.0, num=101)"
   ]
  },
  {
   "cell_type": "code",
   "execution_count": 850,
   "id": "e9d62d12-d609-4f89-a018-97d05f3a30d7",
   "metadata": {},
   "outputs": [],
   "source": [
    "results = []\n",
    "for t in thresholds:\n",
    "    precision, recall = evaluate_model_with_threshold(t)\n",
    "    results.append((t, precision, recall))"
   ]
  },
  {
   "cell_type": "code",
   "execution_count": 851,
   "id": "a934242b-e270-46c6-93e8-51c5592e969b",
   "metadata": {},
   "outputs": [
    {
     "data": {
      "text/html": [
       "<div>\n",
       "<style scoped>\n",
       "    .dataframe tbody tr th:only-of-type {\n",
       "        vertical-align: middle;\n",
       "    }\n",
       "\n",
       "    .dataframe tbody tr th {\n",
       "        vertical-align: top;\n",
       "    }\n",
       "\n",
       "    .dataframe thead th {\n",
       "        text-align: right;\n",
       "    }\n",
       "</style>\n",
       "<table border=\"1\" class=\"dataframe\">\n",
       "  <thead>\n",
       "    <tr style=\"text-align: right;\">\n",
       "      <th></th>\n",
       "      <th>threshold</th>\n",
       "      <th>precision</th>\n",
       "      <th>recall</th>\n",
       "      <th>difference</th>\n",
       "      <th>f1</th>\n",
       "    </tr>\n",
       "  </thead>\n",
       "  <tbody>\n",
       "    <tr>\n",
       "      <th>0</th>\n",
       "      <td>0.00</td>\n",
       "      <td>0.121</td>\n",
       "      <td>1.000</td>\n",
       "      <td>0.879</td>\n",
       "      <td>0.215879</td>\n",
       "    </tr>\n",
       "    <tr>\n",
       "      <th>1</th>\n",
       "      <td>0.01</td>\n",
       "      <td>0.135</td>\n",
       "      <td>0.996</td>\n",
       "      <td>0.861</td>\n",
       "      <td>0.237772</td>\n",
       "    </tr>\n",
       "    <tr>\n",
       "      <th>2</th>\n",
       "      <td>0.02</td>\n",
       "      <td>0.159</td>\n",
       "      <td>0.995</td>\n",
       "      <td>0.836</td>\n",
       "      <td>0.274185</td>\n",
       "    </tr>\n",
       "    <tr>\n",
       "      <th>3</th>\n",
       "      <td>0.03</td>\n",
       "      <td>0.187</td>\n",
       "      <td>0.990</td>\n",
       "      <td>0.803</td>\n",
       "      <td>0.314579</td>\n",
       "    </tr>\n",
       "    <tr>\n",
       "      <th>4</th>\n",
       "      <td>0.04</td>\n",
       "      <td>0.220</td>\n",
       "      <td>0.974</td>\n",
       "      <td>0.754</td>\n",
       "      <td>0.358928</td>\n",
       "    </tr>\n",
       "  </tbody>\n",
       "</table>\n",
       "</div>"
      ],
      "text/plain": [
       "   threshold  precision  recall  difference        f1\n",
       "0       0.00      0.121   1.000       0.879  0.215879\n",
       "1       0.01      0.135   0.996       0.861  0.237772\n",
       "2       0.02      0.159   0.995       0.836  0.274185\n",
       "3       0.03      0.187   0.990       0.803  0.314579\n",
       "4       0.04      0.220   0.974       0.754  0.358928"
      ]
     },
     "execution_count": 851,
     "metadata": {},
     "output_type": "execute_result"
    }
   ],
   "source": [
    "evaluation_df.head()"
   ]
  },
  {
   "cell_type": "code",
   "execution_count": 852,
   "id": "aab051b7-3022-45ce-ab78-db910084b6ef",
   "metadata": {},
   "outputs": [
    {
     "name": "stdout",
     "output_type": "stream",
     "text": [
      "El threshold que da la mayor precisión es: 0.9 con precisión: 0.731\n"
     ]
    }
   ],
   "source": [
    "max_precision_index = evaluation_df['precision'].idxmax()\n",
    "max_precision_threshold = evaluation_df['threshold'].iloc[max_precision_index]\n",
    "max_precision_value = evaluation_df['precision'].iloc[max_precision_index]\n",
    "print(f\"El threshold que da la mayor precisión es: {max_precision_threshold} con precisión: {max_precision_value}\")"
   ]
  },
  {
   "cell_type": "code",
   "execution_count": 853,
   "id": "3adb0e32-94ac-4501-b6f1-0e737d06e940",
   "metadata": {},
   "outputs": [
    {
     "data": {
      "text/plain": [
       "Text(0, 0.5, 'Score')"
      ]
     },
     "execution_count": 853,
     "metadata": {},
     "output_type": "execute_result"
    },
    {
     "data": {
      "image/png": "[encoded data removed]",
      "text/plain": [
       "<Figure size 500x500 with 1 Axes>"
      ]
     },
     "metadata": {},
     "output_type": "display_data"
    }
   ],
   "source": [
    "plt.figure(figsize=(5,5))\n",
    "plt.plot(evaluation_df['threshold'], evaluation_df['precision'], label='Precision', color='blue')\n",
    "plt.plot(evaluation_df['threshold'], evaluation_df['recall'], label='Recall', color='green')\n",
    "plt.xlabel('Threshold')\n",
    "plt.ylabel('Score')"
   ]
  },
  {
   "cell_type": "code",
   "execution_count": 854,
   "id": "99007fca-9bd4-4c8e-b393-ee04b84402ea",
   "metadata": {},
   "outputs": [
    {
     "data": {
      "text/plain": [
       "0.26"
      ]
     },
     "execution_count": 854,
     "metadata": {},
     "output_type": "execute_result"
    }
   ],
   "source": [
    "evaluation_df['difference'] = abs(evaluation_df['precision'] - evaluation_df['recall'])\n",
    "#eliminando el threshold 1.0\n",
    "result_matrix = evaluation_df[evaluation_df.threshold!=1.0]\n",
    "min_difference_index = result_matrix['difference'].idxmin()\n",
    "interception_threshold=result_matrix.iloc[min_difference_index]['threshold']\n",
    "interception_threshold"
   ]
  },
  {
   "cell_type": "markdown",
   "id": "96e3de16-286d-49b2-b070-355f765531c1",
   "metadata": {},
   "source": [
    "Anwer Q3"
   ]
  },
  {
   "cell_type": "code",
   "execution_count": 855,
   "id": "2c21d9d1-6d61-4743-adb8-442f3afac896",
   "metadata": {},
   "outputs": [
    {
     "name": "stdout",
     "output_type": "stream",
     "text": [
      "The precision and recall curves intercept at the threshold 0.26\n"
     ]
    }
   ],
   "source": [
    "print(f'The precision and recall curves intercept at the threshold {interception_threshold}')"
   ]
  },
  {
   "cell_type": "markdown",
   "id": "1003df78-9fff-41d8-ae72-2f545abdfc9a",
   "metadata": {},
   "source": [
    "# Question 4: F1 Score"
   ]
  },
  {
   "cell_type": "code",
   "execution_count": 856,
   "id": "63c1b15e-86bc-4744-b857-978e8bf73ee1",
   "metadata": {},
   "outputs": [],
   "source": [
    "evaluation_df['f1'] = 2*((evaluation_df.precision*evaluation_df.recall)/(evaluation_df.precision+evaluation_df.recall))"
   ]
  },
  {
   "cell_type": "code",
   "execution_count": 857,
   "id": "bd0b8890-8d39-4c57-85c9-9cc392607161",
   "metadata": {},
   "outputs": [],
   "source": [
    "max_f1_index = evaluation_df['f1'].idxmax()\n",
    "threshold_max_f1 = evaluation_df.iloc[max_f1_index][\"threshold\"]"
   ]
  },
  {
   "cell_type": "markdown",
   "id": "79abaab5-6ee9-4f89-912b-1f1cb8f8b329",
   "metadata": {},
   "source": [
    "ANSWER Q4:"
   ]
  },
  {
   "cell_type": "code",
   "execution_count": 858,
   "id": "e1276ff7-ab9f-4d4e-86ab-5f98a1adbe8f",
   "metadata": {},
   "outputs": [
    {
     "name": "stdout",
     "output_type": "stream",
     "text": [
      "F1 is maximal on the threshold: 0.22\n"
     ]
    }
   ],
   "source": [
    "print(f'F1 is maximal on the threshold: {threshold_max_f1}')"
   ]
  },
  {
   "cell_type": "markdown",
   "id": "410b9578-87c4-4979-b21f-bd79a77ef866",
   "metadata": {},
   "source": [
    "# Question 5: 5-Fold CV\n"
   ]
  },
  {
   "cell_type": "code",
   "execution_count": 859,
   "id": "25ff6475-ab1d-464a-92ca-1373bb9bf18a",
   "metadata": {},
   "outputs": [],
   "source": [
    "from sklearn.model_selection import KFold"
   ]
  },
  {
   "cell_type": "code",
   "execution_count": 860,
   "id": "ac05090e-63fc-44e3-be6b-873afb926821",
   "metadata": {},
   "outputs": [],
   "source": [
    "kfold =KFold(n_splits=5, shuffle=True, random_state=1)"
   ]
  },
  {
   "cell_type": "code",
   "execution_count": 861,
   "id": "0ce8c1e2-fb67-4006-bfb9-518b1f49318c",
   "metadata": {},
   "outputs": [],
   "source": [
    "model = LogisticRegression(solver='liblinear', C=1.0, max_iter=1000)\n",
    "scores = []\n",
    "for train_idx, val_idx in kfold.split(df_full_train):\n",
    "    df_train = df_full_train.iloc[train_idx]\n",
    "    df_val = df_full_train.iloc[val_idx]\n",
    "\n",
    "    y_train = df_train.y.values\n",
    "    y_val = df_val.y.values\n",
    "\n",
    "    del df_train[\"y\"]\n",
    "    del df_val[\"y\"]\n",
    "\n",
    "    auc = train_and_get_auc(df_train, y_train, df_val, y_val, model)\n",
    "    scores.append(auc)"
   ]
  },
  {
   "cell_type": "code",
   "execution_count": 862,
   "id": "bd4c4b87-14c6-42ce-be75-6ee71c77ca1c",
   "metadata": {},
   "outputs": [
    {
     "data": {
      "text/plain": [
       "[0.899, 0.899, 0.911, 0.908, 0.911]"
      ]
     },
     "execution_count": 862,
     "metadata": {},
     "output_type": "execute_result"
    }
   ],
   "source": [
    "scores"
   ]
  },
  {
   "cell_type": "code",
   "execution_count": 864,
   "id": "5b5cfb08-ecf1-4778-a3f7-5073e43a6785",
   "metadata": {},
   "outputs": [
    {
     "data": {
      "text/plain": [
       "0.005499090833947013"
      ]
     },
     "execution_count": 864,
     "metadata": {},
     "output_type": "execute_result"
    }
   ],
   "source": [
    "std_scores = np.std(scores)\n",
    "std_scores"
   ]
  },
  {
   "cell_type": "code",
   "execution_count": 871,
   "id": "0ea6c894-b778-41c7-a81a-12788ce12136",
   "metadata": {},
   "outputs": [
    {
     "data": {
      "text/plain": [
       "0.006"
      ]
     },
     "execution_count": 871,
     "metadata": {},
     "output_type": "execute_result"
    }
   ],
   "source": [
    "options_for_answer = [0.0001, 0.006, 0.06, 0.26]\n",
    "closest_number_to_std = min(options_for_answer, key=lambda x: abs(x - std_scores))\n",
    "closest_number_to_std"
   ]
  },
  {
   "cell_type": "markdown",
   "id": "a59f2e56-f89f-40f2-8025-11d4d07a856f",
   "metadata": {},
   "source": [
    "ANSWER Q5"
   ]
  },
  {
   "cell_type": "code",
   "execution_count": 872,
   "id": "f78a3017-008a-4f8e-bf16-e37dad7ad0bd",
   "metadata": {},
   "outputs": [
    {
     "name": "stdout",
     "output_type": "stream",
     "text": [
      "The standard deviation of the AUCs is: 0.006\n"
     ]
    }
   ],
   "source": [
    "print (f'The standard deviation of the AUCs is: {closest_number_to_std}')"
   ]
  },
  {
   "cell_type": "markdown",
   "id": "5982ecee-e2f7-4ebb-ba28-fad2a1f1f1bb",
   "metadata": {},
   "source": [
    "# Question 6: Hyperparameter Tuning"
   ]
  },
  {
   "cell_type": "code",
   "execution_count": 877,
   "id": "6c4744da-411c-417d-b35f-93e61d31d3e3",
   "metadata": {},
   "outputs": [],
   "source": [
    "from tqdm.notebook import tqdm"
   ]
  },
  {
   "cell_type": "code",
   "execution_count": 890,
   "id": "e8ea4e99-2bf5-4804-808c-799bf2add0a9",
   "metadata": {},
   "outputs": [
    {
     "data": {
      "text/plain": [
       "[(1e-06, 0.685),\n",
       " (1e-06, 0.7),\n",
       " (1e-06, 0.712),\n",
       " (1e-06, 0.709),\n",
       " (1e-06, 0.702),\n",
       " (0.001, 0.849),\n",
       " (0.001, 0.86),\n",
       " (0.001, 0.864),\n",
       " (0.001, 0.869),\n",
       " (0.001, 0.863),\n",
       " (1, 0.899),\n",
       " (1, 0.899),\n",
       " (1, 0.911),\n",
       " (1, 0.908),\n",
       " (1, 0.911)]"
      ]
     },
     "execution_count": 890,
     "metadata": {},
     "output_type": "execute_result"
    }
   ],
   "source": [
    "scores =[]\n",
    "for c in [0.000001, 0.001, 1]:\n",
    "    kfold =KFold(n_splits=5, shuffle=True, random_state=1)\n",
    "    model = LogisticRegression(solver='liblinear', C=c, max_iter=1000)\n",
    "    for train_idx, val_idx in kfold.split(df_full_train):\n",
    "        df_train = df_full_train.iloc[train_idx]\n",
    "        df_val = df_full_train.iloc[val_idx]\n",
    "    \n",
    "        y_train = df_train.y.values\n",
    "        y_val = df_val.y.values\n",
    "    \n",
    "        del df_train[\"y\"]\n",
    "        del df_val[\"y\"]\n",
    "    \n",
    "        auc = train_and_get_auc(df_train, y_train, df_val, y_val, model)\n",
    "        scores.append((c,auc))\n",
    "scores"
   ]
  },
  {
   "cell_type": "code",
   "execution_count": 892,
   "id": "c318ae57-a6b1-4622-a3cf-7856875bb604",
   "metadata": {},
   "outputs": [
    {
     "data": {
      "text/html": [
       "<div>\n",
       "<style scoped>\n",
       "    .dataframe tbody tr th:only-of-type {\n",
       "        vertical-align: middle;\n",
       "    }\n",
       "\n",
       "    .dataframe tbody tr th {\n",
       "        vertical-align: top;\n",
       "    }\n",
       "\n",
       "    .dataframe thead th {\n",
       "        text-align: right;\n",
       "    }\n",
       "</style>\n",
       "<table border=\"1\" class=\"dataframe\">\n",
       "  <thead>\n",
       "    <tr style=\"text-align: right;\">\n",
       "      <th></th>\n",
       "      <th>c</th>\n",
       "      <th>auc</th>\n",
       "    </tr>\n",
       "  </thead>\n",
       "  <tbody>\n",
       "    <tr>\n",
       "      <th>0</th>\n",
       "      <td>0.000001</td>\n",
       "      <td>0.685</td>\n",
       "    </tr>\n",
       "    <tr>\n",
       "      <th>1</th>\n",
       "      <td>0.000001</td>\n",
       "      <td>0.700</td>\n",
       "    </tr>\n",
       "    <tr>\n",
       "      <th>2</th>\n",
       "      <td>0.000001</td>\n",
       "      <td>0.712</td>\n",
       "    </tr>\n",
       "    <tr>\n",
       "      <th>3</th>\n",
       "      <td>0.000001</td>\n",
       "      <td>0.709</td>\n",
       "    </tr>\n",
       "    <tr>\n",
       "      <th>4</th>\n",
       "      <td>0.000001</td>\n",
       "      <td>0.702</td>\n",
       "    </tr>\n",
       "    <tr>\n",
       "      <th>5</th>\n",
       "      <td>0.001000</td>\n",
       "      <td>0.849</td>\n",
       "    </tr>\n",
       "    <tr>\n",
       "      <th>6</th>\n",
       "      <td>0.001000</td>\n",
       "      <td>0.860</td>\n",
       "    </tr>\n",
       "    <tr>\n",
       "      <th>7</th>\n",
       "      <td>0.001000</td>\n",
       "      <td>0.864</td>\n",
       "    </tr>\n",
       "    <tr>\n",
       "      <th>8</th>\n",
       "      <td>0.001000</td>\n",
       "      <td>0.869</td>\n",
       "    </tr>\n",
       "    <tr>\n",
       "      <th>9</th>\n",
       "      <td>0.001000</td>\n",
       "      <td>0.863</td>\n",
       "    </tr>\n",
       "    <tr>\n",
       "      <th>10</th>\n",
       "      <td>1.000000</td>\n",
       "      <td>0.899</td>\n",
       "    </tr>\n",
       "    <tr>\n",
       "      <th>11</th>\n",
       "      <td>1.000000</td>\n",
       "      <td>0.899</td>\n",
       "    </tr>\n",
       "    <tr>\n",
       "      <th>12</th>\n",
       "      <td>1.000000</td>\n",
       "      <td>0.911</td>\n",
       "    </tr>\n",
       "    <tr>\n",
       "      <th>13</th>\n",
       "      <td>1.000000</td>\n",
       "      <td>0.908</td>\n",
       "    </tr>\n",
       "    <tr>\n",
       "      <th>14</th>\n",
       "      <td>1.000000</td>\n",
       "      <td>0.911</td>\n",
       "    </tr>\n",
       "  </tbody>\n",
       "</table>\n",
       "</div>"
      ],
      "text/plain": [
       "           c    auc\n",
       "0   0.000001  0.685\n",
       "1   0.000001  0.700\n",
       "2   0.000001  0.712\n",
       "3   0.000001  0.709\n",
       "4   0.000001  0.702\n",
       "5   0.001000  0.849\n",
       "6   0.001000  0.860\n",
       "7   0.001000  0.864\n",
       "8   0.001000  0.869\n",
       "9   0.001000  0.863\n",
       "10  1.000000  0.899\n",
       "11  1.000000  0.899\n",
       "12  1.000000  0.911\n",
       "13  1.000000  0.908\n",
       "14  1.000000  0.911"
      ]
     },
     "execution_count": 892,
     "metadata": {},
     "output_type": "execute_result"
    }
   ],
   "source": [
    "scores_df = pd.DataFrame(scores, columns = ['c','auc'])\n",
    "scores_df"
   ]
  },
  {
   "cell_type": "code",
   "execution_count": 896,
   "id": "e682ba87-699b-4b62-9f13-b6c626ac5e65",
   "metadata": {},
   "outputs": [
    {
     "data": {
      "text/html": [
       "<div>\n",
       "<style scoped>\n",
       "    .dataframe tbody tr th:only-of-type {\n",
       "        vertical-align: middle;\n",
       "    }\n",
       "\n",
       "    .dataframe tbody tr th {\n",
       "        vertical-align: top;\n",
       "    }\n",
       "\n",
       "    .dataframe thead th {\n",
       "        text-align: right;\n",
       "    }\n",
       "</style>\n",
       "<table border=\"1\" class=\"dataframe\">\n",
       "  <thead>\n",
       "    <tr style=\"text-align: right;\">\n",
       "      <th></th>\n",
       "      <th>c</th>\n",
       "      <th>auc</th>\n",
       "    </tr>\n",
       "  </thead>\n",
       "  <tbody>\n",
       "    <tr>\n",
       "      <th>0</th>\n",
       "      <td>0.000001</td>\n",
       "      <td>0.7016</td>\n",
       "    </tr>\n",
       "    <tr>\n",
       "      <th>1</th>\n",
       "      <td>0.001000</td>\n",
       "      <td>0.8610</td>\n",
       "    </tr>\n",
       "    <tr>\n",
       "      <th>2</th>\n",
       "      <td>1.000000</td>\n",
       "      <td>0.9056</td>\n",
       "    </tr>\n",
       "  </tbody>\n",
       "</table>\n",
       "</div>"
      ],
      "text/plain": [
       "          c     auc\n",
       "0  0.000001  0.7016\n",
       "1  0.001000  0.8610\n",
       "2  1.000000  0.9056"
      ]
     },
     "execution_count": 896,
     "metadata": {},
     "output_type": "execute_result"
    }
   ],
   "source": [
    "c_auc_df = scores_df.groupby('c')['auc'].mean().reset_index()\n",
    "c_auc_df"
   ]
  },
  {
   "cell_type": "code",
   "execution_count": 898,
   "id": "16b70144-a385-4e57-8cff-2e6aac19423e",
   "metadata": {},
   "outputs": [
    {
     "data": {
      "text/plain": [
       "c      1.0000\n",
       "auc    0.9056\n",
       "Name: 2, dtype: float64"
      ]
     },
     "execution_count": 898,
     "metadata": {},
     "output_type": "execute_result"
    }
   ],
   "source": [
    "max_auc_index = c_auc_df['auc'].idxmax()\n",
    "c_auc_df.iloc[max_auc_index]"
   ]
  },
  {
   "cell_type": "markdown",
   "id": "5947f6b7-5338-44c4-8690-4ed24936a054",
   "metadata": {},
   "source": [
    "ANSWER Q6"
   ]
  },
  {
   "cell_type": "code",
   "execution_count": null,
   "id": "0ef4d881-6701-4a3e-8bb0-54c88f3aade3",
   "metadata": {},
   "outputs": [],
   "source": [
    "print('The c"
   ]
  }
 ],
 "metadata": {
  "kernelspec": {
   "display_name": "Python 3 (ipykernel)",
   "language": "python",
   "name": "python3"
  },
  "language_info": {
   "codemirror_mode": {
    "name": "ipython",
    "version": 3
   },
   "file_extension": ".py",
   "mimetype": "text/x-python",
   "name": "python",
   "nbconvert_exporter": "python",
   "pygments_lexer": "ipython3",
   "version": "3.12.4"
  }
 },
 "nbformat": 4,
 "nbformat_minor": 5
}
