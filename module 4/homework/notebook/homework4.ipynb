{
 "cells": [
  {
   "cell_type": "code",
   "execution_count": 355,
   "id": "17bd8434-3673-4b2c-af80-76756c5ede9e",
   "metadata": {},
   "outputs": [],
   "source": [
    "import pandas as pd\n",
    "import numpy as np"
   ]
  },
  {
   "cell_type": "code",
   "execution_count": 356,
   "id": "abc80ad3-4629-47ed-9f3c-44b45eba3bef",
   "metadata": {},
   "outputs": [],
   "source": [
    "import pandas as pd\n",
    "import numpy as np"
   ]
  },
  {
   "cell_type": "code",
   "execution_count": 357,
   "id": "5a85b0ba-76d5-4d51-8839-ccd2c54ae96b",
   "metadata": {},
   "outputs": [],
   "source": [
    "import pandas as pd\n",
    "import numpy as np"
   ]
  },
  {
   "cell_type": "code",
   "execution_count": 358,
   "id": "588edc44-7483-4c89-84f6-9b22413d64d1",
   "metadata": {},
   "outputs": [],
   "source": [
    "import pandas as pd\n",
    "import numpy as np"
   ]
  },
  {
   "cell_type": "code",
   "execution_count": 359,
   "id": "46731394-24b7-4293-a665-d5569947120f",
   "metadata": {},
   "outputs": [
    {
     "name": "stdout",
     "output_type": "stream",
     "text": [
      "--2024-10-23 10:38:55--  https://archive.ics.uci.edu/static/public/222/bank+marketing.zip\n",
      "Resolving archive.ics.uci.edu (archive.ics.uci.edu)... 128.195.10.252\n",
      "Connecting to archive.ics.uci.edu (archive.ics.uci.edu)|128.195.10.252|:443... connected.\n",
      "HTTP request sent, awaiting response... 200 OK\n",
      "Length: unspecified\n",
      "Saving to: ‘../dataset/data.zip’\n",
      "\n",
      "../dataset/data.zip     [      <=>           ] 999.85K   847KB/s    in 1.2s    \n",
      "\n",
      "2024-10-23 10:38:56 (847 KB/s) - ‘../dataset/data.zip’ saved [1023843]\n",
      "\n"
     ]
    }
   ],
   "source": [
    "!wget \"https://archive.ics.uci.edu/static/public/222/bank+marketing.zip\" -O \"../dataset/data.zip\""
   ]
  },
  {
   "cell_type": "code",
   "execution_count": 360,
   "id": "5fe7cf2b-6bbf-4ac6-899a-2c88a2b5220c",
   "metadata": {},
   "outputs": [
    {
     "name": "stdout",
     "output_type": "stream",
     "text": [
      "Archive:  ../dataset/data.zip\n",
      " extracting: ../dataset/bank.zip     \n",
      " extracting: ../dataset/bank-additional.zip  \n"
     ]
    }
   ],
   "source": [
    "!unzip -o \"../dataset/data.zip\" -d \"../dataset/\""
   ]
  },
  {
   "cell_type": "code",
   "execution_count": 361,
   "id": "e858b7d3-4869-4200-bc63-ce514cd615d5",
   "metadata": {},
   "outputs": [
    {
     "name": "stdout",
     "output_type": "stream",
     "text": [
      "Archive:  ../dataset/bank.zip\n",
      "  inflating: ../dataset/bank-full.csv  \n",
      "  inflating: ../dataset/bank-names.txt  \n",
      "  inflating: ../dataset/bank.csv     \n"
     ]
    }
   ],
   "source": [
    "!unzip -o \"../dataset/bank.zip\" -d \"../dataset/\""
   ]
  },
  {
   "cell_type": "code",
   "execution_count": 362,
   "id": "4d42442b-6689-45b1-95a2-1c8d872bcb8a",
   "metadata": {},
   "outputs": [],
   "source": [
    "df = pd.read_csv(\"../dataset/bank-full.csv\", sep=';')"
   ]
  },
  {
   "cell_type": "code",
   "execution_count": 363,
   "id": "5cb7b949-0edf-4fbf-ac84-072039eb0202",
   "metadata": {},
   "outputs": [],
   "source": [
    "columns = ['age', 'job', 'marital', 'education', 'balance', 'housing','contact', 'day', 'month', 'duration', 'campaign', 'pdays',\n",
    "       'previous', 'poutcome', 'y']"
   ]
  },
  {
   "cell_type": "code",
   "execution_count": 364,
   "id": "8c74a1a5-adda-44ec-a9fd-79b8915948f5",
   "metadata": {},
   "outputs": [
    {
     "data": {
      "text/plain": [
       "45211"
      ]
     },
     "execution_count": 364,
     "metadata": {},
     "output_type": "execute_result"
    }
   ],
   "source": [
    "df=df[columns]\n",
    "len(df)"
   ]
  },
  {
   "cell_type": "code",
   "execution_count": 365,
   "id": "70bf5d40-0658-4d09-aaac-5df27b3a33cd",
   "metadata": {},
   "outputs": [
    {
     "data": {
      "text/plain": [
       "age          0\n",
       "job          0\n",
       "marital      0\n",
       "education    0\n",
       "balance      0\n",
       "housing      0\n",
       "contact      0\n",
       "day          0\n",
       "month        0\n",
       "duration     0\n",
       "campaign     0\n",
       "pdays        0\n",
       "previous     0\n",
       "poutcome     0\n",
       "y            0\n",
       "dtype: int64"
      ]
     },
     "execution_count": 365,
     "metadata": {},
     "output_type": "execute_result"
    }
   ],
   "source": [
    "df.isnull().sum()"
   ]
  },
  {
   "cell_type": "code",
   "execution_count": 366,
   "id": "69621e35-52f1-4a52-97ff-dfa667c0b1cb",
   "metadata": {},
   "outputs": [
    {
     "data": {
      "text/html": [
       "<div>\n",
       "<style scoped>\n",
       "    .dataframe tbody tr th:only-of-type {\n",
       "        vertical-align: middle;\n",
       "    }\n",
       "\n",
       "    .dataframe tbody tr th {\n",
       "        vertical-align: top;\n",
       "    }\n",
       "\n",
       "    .dataframe thead th {\n",
       "        text-align: right;\n",
       "    }\n",
       "</style>\n",
       "<table border=\"1\" class=\"dataframe\">\n",
       "  <thead>\n",
       "    <tr style=\"text-align: right;\">\n",
       "      <th></th>\n",
       "      <th>age</th>\n",
       "      <th>job</th>\n",
       "      <th>marital</th>\n",
       "      <th>education</th>\n",
       "      <th>balance</th>\n",
       "      <th>housing</th>\n",
       "      <th>contact</th>\n",
       "      <th>day</th>\n",
       "      <th>month</th>\n",
       "      <th>duration</th>\n",
       "      <th>campaign</th>\n",
       "      <th>pdays</th>\n",
       "      <th>previous</th>\n",
       "      <th>poutcome</th>\n",
       "      <th>y</th>\n",
       "    </tr>\n",
       "  </thead>\n",
       "  <tbody>\n",
       "    <tr>\n",
       "      <th>0</th>\n",
       "      <td>58</td>\n",
       "      <td>management</td>\n",
       "      <td>married</td>\n",
       "      <td>tertiary</td>\n",
       "      <td>2143</td>\n",
       "      <td>yes</td>\n",
       "      <td>unknown</td>\n",
       "      <td>5</td>\n",
       "      <td>may</td>\n",
       "      <td>261</td>\n",
       "      <td>1</td>\n",
       "      <td>-1</td>\n",
       "      <td>0</td>\n",
       "      <td>unknown</td>\n",
       "      <td>no</td>\n",
       "    </tr>\n",
       "    <tr>\n",
       "      <th>10</th>\n",
       "      <td>41</td>\n",
       "      <td>admin.</td>\n",
       "      <td>divorced</td>\n",
       "      <td>secondary</td>\n",
       "      <td>270</td>\n",
       "      <td>yes</td>\n",
       "      <td>unknown</td>\n",
       "      <td>5</td>\n",
       "      <td>may</td>\n",
       "      <td>222</td>\n",
       "      <td>1</td>\n",
       "      <td>-1</td>\n",
       "      <td>0</td>\n",
       "      <td>unknown</td>\n",
       "      <td>no</td>\n",
       "    </tr>\n",
       "    <tr>\n",
       "      <th>20</th>\n",
       "      <td>28</td>\n",
       "      <td>blue-collar</td>\n",
       "      <td>married</td>\n",
       "      <td>secondary</td>\n",
       "      <td>723</td>\n",
       "      <td>yes</td>\n",
       "      <td>unknown</td>\n",
       "      <td>5</td>\n",
       "      <td>may</td>\n",
       "      <td>262</td>\n",
       "      <td>1</td>\n",
       "      <td>-1</td>\n",
       "      <td>0</td>\n",
       "      <td>unknown</td>\n",
       "      <td>no</td>\n",
       "    </tr>\n",
       "    <tr>\n",
       "      <th>30</th>\n",
       "      <td>57</td>\n",
       "      <td>technician</td>\n",
       "      <td>married</td>\n",
       "      <td>secondary</td>\n",
       "      <td>839</td>\n",
       "      <td>no</td>\n",
       "      <td>unknown</td>\n",
       "      <td>5</td>\n",
       "      <td>may</td>\n",
       "      <td>225</td>\n",
       "      <td>1</td>\n",
       "      <td>-1</td>\n",
       "      <td>0</td>\n",
       "      <td>unknown</td>\n",
       "      <td>no</td>\n",
       "    </tr>\n",
       "    <tr>\n",
       "      <th>40</th>\n",
       "      <td>44</td>\n",
       "      <td>services</td>\n",
       "      <td>divorced</td>\n",
       "      <td>secondary</td>\n",
       "      <td>2586</td>\n",
       "      <td>yes</td>\n",
       "      <td>unknown</td>\n",
       "      <td>5</td>\n",
       "      <td>may</td>\n",
       "      <td>160</td>\n",
       "      <td>1</td>\n",
       "      <td>-1</td>\n",
       "      <td>0</td>\n",
       "      <td>unknown</td>\n",
       "      <td>no</td>\n",
       "    </tr>\n",
       "    <tr>\n",
       "      <th>...</th>\n",
       "      <td>...</td>\n",
       "      <td>...</td>\n",
       "      <td>...</td>\n",
       "      <td>...</td>\n",
       "      <td>...</td>\n",
       "      <td>...</td>\n",
       "      <td>...</td>\n",
       "      <td>...</td>\n",
       "      <td>...</td>\n",
       "      <td>...</td>\n",
       "      <td>...</td>\n",
       "      <td>...</td>\n",
       "      <td>...</td>\n",
       "      <td>...</td>\n",
       "      <td>...</td>\n",
       "    </tr>\n",
       "    <tr>\n",
       "      <th>45170</th>\n",
       "      <td>19</td>\n",
       "      <td>student</td>\n",
       "      <td>single</td>\n",
       "      <td>primary</td>\n",
       "      <td>245</td>\n",
       "      <td>no</td>\n",
       "      <td>telephone</td>\n",
       "      <td>10</td>\n",
       "      <td>nov</td>\n",
       "      <td>98</td>\n",
       "      <td>2</td>\n",
       "      <td>110</td>\n",
       "      <td>2</td>\n",
       "      <td>other</td>\n",
       "      <td>no</td>\n",
       "    </tr>\n",
       "    <tr>\n",
       "      <th>45180</th>\n",
       "      <td>66</td>\n",
       "      <td>retired</td>\n",
       "      <td>married</td>\n",
       "      <td>secondary</td>\n",
       "      <td>3409</td>\n",
       "      <td>no</td>\n",
       "      <td>cellular</td>\n",
       "      <td>15</td>\n",
       "      <td>nov</td>\n",
       "      <td>414</td>\n",
       "      <td>2</td>\n",
       "      <td>27</td>\n",
       "      <td>6</td>\n",
       "      <td>failure</td>\n",
       "      <td>no</td>\n",
       "    </tr>\n",
       "    <tr>\n",
       "      <th>45190</th>\n",
       "      <td>32</td>\n",
       "      <td>blue-collar</td>\n",
       "      <td>married</td>\n",
       "      <td>secondary</td>\n",
       "      <td>136</td>\n",
       "      <td>no</td>\n",
       "      <td>cellular</td>\n",
       "      <td>16</td>\n",
       "      <td>nov</td>\n",
       "      <td>206</td>\n",
       "      <td>1</td>\n",
       "      <td>188</td>\n",
       "      <td>3</td>\n",
       "      <td>success</td>\n",
       "      <td>yes</td>\n",
       "    </tr>\n",
       "    <tr>\n",
       "      <th>45200</th>\n",
       "      <td>38</td>\n",
       "      <td>technician</td>\n",
       "      <td>married</td>\n",
       "      <td>secondary</td>\n",
       "      <td>557</td>\n",
       "      <td>yes</td>\n",
       "      <td>cellular</td>\n",
       "      <td>16</td>\n",
       "      <td>nov</td>\n",
       "      <td>1556</td>\n",
       "      <td>4</td>\n",
       "      <td>-1</td>\n",
       "      <td>0</td>\n",
       "      <td>unknown</td>\n",
       "      <td>yes</td>\n",
       "    </tr>\n",
       "    <tr>\n",
       "      <th>45210</th>\n",
       "      <td>37</td>\n",
       "      <td>entrepreneur</td>\n",
       "      <td>married</td>\n",
       "      <td>secondary</td>\n",
       "      <td>2971</td>\n",
       "      <td>no</td>\n",
       "      <td>cellular</td>\n",
       "      <td>17</td>\n",
       "      <td>nov</td>\n",
       "      <td>361</td>\n",
       "      <td>2</td>\n",
       "      <td>188</td>\n",
       "      <td>11</td>\n",
       "      <td>other</td>\n",
       "      <td>no</td>\n",
       "    </tr>\n",
       "  </tbody>\n",
       "</table>\n",
       "<p>4522 rows × 15 columns</p>\n",
       "</div>"
      ],
      "text/plain": [
       "       age           job   marital  education  balance housing    contact  \\\n",
       "0       58    management   married   tertiary     2143     yes    unknown   \n",
       "10      41        admin.  divorced  secondary      270     yes    unknown   \n",
       "20      28   blue-collar   married  secondary      723     yes    unknown   \n",
       "30      57    technician   married  secondary      839      no    unknown   \n",
       "40      44      services  divorced  secondary     2586     yes    unknown   \n",
       "...    ...           ...       ...        ...      ...     ...        ...   \n",
       "45170   19       student    single    primary      245      no  telephone   \n",
       "45180   66       retired   married  secondary     3409      no   cellular   \n",
       "45190   32   blue-collar   married  secondary      136      no   cellular   \n",
       "45200   38    technician   married  secondary      557     yes   cellular   \n",
       "45210   37  entrepreneur   married  secondary     2971      no   cellular   \n",
       "\n",
       "       day month  duration  campaign  pdays  previous poutcome    y  \n",
       "0        5   may       261         1     -1         0  unknown   no  \n",
       "10       5   may       222         1     -1         0  unknown   no  \n",
       "20       5   may       262         1     -1         0  unknown   no  \n",
       "30       5   may       225         1     -1         0  unknown   no  \n",
       "40       5   may       160         1     -1         0  unknown   no  \n",
       "...    ...   ...       ...       ...    ...       ...      ...  ...  \n",
       "45170   10   nov        98         2    110         2    other   no  \n",
       "45180   15   nov       414         2     27         6  failure   no  \n",
       "45190   16   nov       206         1    188         3  success  yes  \n",
       "45200   16   nov      1556         4     -1         0  unknown  yes  \n",
       "45210   17   nov       361         2    188        11    other   no  \n",
       "\n",
       "[4522 rows x 15 columns]"
      ]
     },
     "execution_count": 366,
     "metadata": {},
     "output_type": "execute_result"
    }
   ],
   "source": [
    "df[::10]"
   ]
  },
  {
   "cell_type": "code",
   "execution_count": 367,
   "id": "aa6aabd9-4cc9-43da-ba3f-89fdde439b60",
   "metadata": {},
   "outputs": [
    {
     "data": {
      "text/plain": [
       "y\n",
       "0    39922\n",
       "1     5289\n",
       "Name: count, dtype: int64"
      ]
     },
     "execution_count": 367,
     "metadata": {},
     "output_type": "execute_result"
    }
   ],
   "source": [
    "df.y=(df.y==\"yes\").astype(int)\n",
    "df.y.value_counts()"
   ]
  },
  {
   "cell_type": "code",
   "execution_count": 368,
   "id": "64a66661-9cf9-48d5-8692-f5f8f09108d4",
   "metadata": {},
   "outputs": [],
   "source": [
    "from sklearn.model_selection import train_test_split"
   ]
  },
  {
   "cell_type": "code",
   "execution_count": 369,
   "id": "93f1b858-3fae-4ecd-befb-c75c4442d2e5",
   "metadata": {},
   "outputs": [],
   "source": [
    "df_full_train, df_test = train_test_split(df, test_size=0.20, random_state=1)\n",
    "df_train, df_val = train_test_split(df_full_train, test_size=0.25, random_state=1)"
   ]
  },
  {
   "cell_type": "code",
   "execution_count": 370,
   "id": "8d72ce83-3621-4c6e-833e-6888e8161c9b",
   "metadata": {},
   "outputs": [
    {
     "data": {
      "text/plain": [
       "(27126, 9042, 9043)"
      ]
     },
     "execution_count": 370,
     "metadata": {},
     "output_type": "execute_result"
    }
   ],
   "source": [
    "len(df_train), len(df_val), len(df_test)"
   ]
  },
  {
   "cell_type": "markdown",
   "id": "0c76a1c4-e606-4660-8264-2d97c46e8436",
   "metadata": {},
   "source": [
    "# Question 1: ROC AUC feature importance"
   ]
  },
  {
   "cell_type": "code",
   "execution_count": 371,
   "id": "98212ff8-80c0-49c7-98ea-4041e0e49693",
   "metadata": {},
   "outputs": [],
   "source": [
    "y_train = df_train.y.values\n",
    "y_val = df_val.y.values\n",
    "y_test = df_test.y.values"
   ]
  },
  {
   "cell_type": "code",
   "execution_count": 372,
   "id": "57096c4b-37f2-4bd2-91f6-a1c2a8674d67",
   "metadata": {},
   "outputs": [],
   "source": [
    "del df_train[\"y\"]\n",
    "del df_val[\"y\"]\n",
    "del df_test[\"y\"]"
   ]
  },
  {
   "cell_type": "code",
   "execution_count": 373,
   "id": "af69b93e-cf99-452f-9ac1-0b5e589dd35b",
   "metadata": {},
   "outputs": [],
   "source": [
    "numerical=['age', 'balance', 'day', 'duration', 'campaign', 'pdays', 'previous']"
   ]
  },
  {
   "cell_type": "code",
   "execution_count": 374,
   "id": "1c644625-7c8b-4df7-bf10-de729a249c17",
   "metadata": {},
   "outputs": [],
   "source": [
    "df_train.reset_index(drop=True, inplace=True)\n",
    "df_val.reset_index(drop=True, inplace=True)\n",
    "df_test.reset_index(drop=True, inplace=True)"
   ]
  },
  {
   "cell_type": "code",
   "execution_count": 375,
   "id": "cd7e1274-891a-43bd-b60c-a9af5e8ddddc",
   "metadata": {},
   "outputs": [],
   "source": [
    "from sklearn.metrics import roc_auc_score\n",
    "from sklearn.metrics import roc_curve\n",
    "from sklearn.metrics import auc"
   ]
  },
  {
   "cell_type": "code",
   "execution_count": 376,
   "id": "80f99d59-d402-4798-9119-9d1e6482cdbe",
   "metadata": {},
   "outputs": [],
   "source": [
    "import matplotlib.pyplot as plt\n",
    "import seaborn as sns"
   ]
  },
  {
   "cell_type": "code",
   "execution_count": 377,
   "id": "6789b9b0-9bf8-44bf-88ca-513e6c376f82",
   "metadata": {},
   "outputs": [
    {
     "data": {
      "text/plain": [
       "<matplotlib.legend.Legend at 0x79de3b462690>"
      ]
     },
     "execution_count": 377,
     "metadata": {},
     "output_type": "execute_result"
    },
    {
     "data": {
      "image/png": "[encoded data removed]",
      "text/plain": [
       "<Figure size 500x500 with 1 Axes>"
      ]
     },
     "metadata": {},
     "output_type": "display_data"
    }
   ],
   "source": [
    "results_dict = {}\n",
    "plt.figure(figsize=(5,5))\n",
    "plt.plot ([0,1], [0,1], label = 'Random', linestyle = '--', alpha=0.5)\n",
    "for col in numerical:\n",
    "    fpr, tpr, thresholds = roc_curve(y_true=y_train, y_score=df_train[col])\n",
    "    auc_score_result = auc(fpr, tpr)\n",
    "    if (auc_score_result < 0.5):\n",
    "        fpr, tpr, thresholds = roc_curve(y_true=y_train, y_score=-df_train[col])        \n",
    "        auc_score_result = auc(fpr,tpr)\n",
    "    plt.plot(fpr,tpr, label =col)        \n",
    "    results_dict[col]=auc_score_result\n",
    "\n",
    "plt.xlabel('FPR')\n",
    "plt.ylabel('TPR')\n",
    "plt.legend()\n",
    "\n"
   ]
  },
  {
   "cell_type": "code",
   "execution_count": 378,
   "id": "1b6c6299-4db0-480e-b43b-7653d96b2ee9",
   "metadata": {},
   "outputs": [
    {
     "data": {
      "text/plain": [
       "{'duration'}"
      ]
     },
     "execution_count": 378,
     "metadata": {},
     "output_type": "execute_result"
    }
   ],
   "source": [
    "sorted_aucs = sorted(results_dict.items(), key=lambda item: item[1], reverse=True)\n",
    "feature_with_higher_auc = {sorted_aucs[0][0]}\n",
    "feature_with_higher_auc"
   ]
  },
  {
   "cell_type": "markdown",
   "id": "49089756-bea0-4e79-a157-31e479eaeb94",
   "metadata": {},
   "source": [
    "ANSWER Q1"
   ]
  },
  {
   "cell_type": "code",
   "execution_count": 379,
   "id": "c97ddcc9-0e49-4c55-a4a5-081fa0f3bb95",
   "metadata": {},
   "outputs": [
    {
     "name": "stdout",
     "output_type": "stream",
     "text": [
      "The numerical value with highest AUC is '{'duration'}' \n"
     ]
    }
   ],
   "source": [
    "print (f'The numerical value with highest AUC is \\'{feature_with_higher_auc}\\' ')\n"
   ]
  },
  {
   "cell_type": "markdown",
   "id": "364581de-7dd7-4ad5-a40f-5bd8d29fef59",
   "metadata": {},
   "source": [
    "# Question 2: Training the model"
   ]
  },
  {
   "cell_type": "code",
   "execution_count": 380,
   "id": "ad646605-0760-4627-ba5a-5f41ebb38d81",
   "metadata": {},
   "outputs": [],
   "source": [
    "from sklearn.feature_extraction import DictVectorizer\n",
    "from sklearn.linear_model import LogisticRegression"
   ]
  },
  {
   "cell_type": "code",
   "execution_count": 381,
   "id": "d281cddb-3587-471a-ada1-7f15fd24598a",
   "metadata": {},
   "outputs": [],
   "source": [
    "def train_and_get_auc(df_train, y_train, df_val, y_val, model):\n",
    "    dv = DictVectorizer()\n",
    "    _train_dicts = df_train.to_dict(orient='records')\n",
    "    _X_train = dv.fit_transform(_train_dicts)\n",
    "    model.fit(_X_train, y_train)\n",
    "    _val_dicts = df_val.to_dict(orient='records')    \n",
    "    _X_val = dv.transform(_val_dicts)\n",
    "    y_pred_proba = model.predict_proba(_X_val)[:, 1]\n",
    "    auc = roc_auc_score(y_val, y_pred_proba).round(3)\n",
    "    return auc, y_pred_proba\n"
   ]
  },
  {
   "cell_type": "code",
   "execution_count": 382,
   "id": "4d8d2b27-31a3-4cf1-be9c-89fb39b38ffe",
   "metadata": {},
   "outputs": [
    {
     "data": {
      "text/plain": [
       "0.9"
      ]
     },
     "execution_count": 382,
     "metadata": {},
     "output_type": "execute_result"
    }
   ],
   "source": [
    "model = LogisticRegression(solver='liblinear', C=1.0, max_iter=1000)\n",
    "auc, y_pred_proba =train_and_get_auc(df_train, y_train, df_val, y_val, model)\n",
    "auc"
   ]
  },
  {
   "cell_type": "markdown",
   "id": "f27403f5-44e6-4d07-8342-e6d300b5d706",
   "metadata": {},
   "source": [
    "ANSWER Q2:"
   ]
  },
  {
   "cell_type": "code",
   "execution_count": 383,
   "id": "6bfe0244-3ee2-4b1c-aa8d-6bb72b751ad6",
   "metadata": {},
   "outputs": [
    {
     "name": "stdout",
     "output_type": "stream",
     "text": [
      "The AUC of the model in the validation dataset is 0.9\n"
     ]
    }
   ],
   "source": [
    "print (f'The AUC of the model in the validation dataset is {auc}')"
   ]
  },
  {
   "cell_type": "markdown",
   "id": "c0d5c02e-f796-4933-9fc6-52b8299b018c",
   "metadata": {},
   "source": [
    "# Question 3: Precision and Recall"
   ]
  },
  {
   "cell_type": "code",
   "execution_count": 384,
   "id": "5574b81c-7346-4d37-81c6-41cf7b1d558c",
   "metadata": {},
   "outputs": [],
   "source": [
    "def evaluate_model_with_threshold(y_val, y_pred_proba, t):\n",
    "    actual_positive = (y_val==1)\n",
    "    actual_negative = (y_val==0)\n",
    "    predict_positive = (y_pred_proba >=t)\n",
    "    predict_negative = (y_pred_proba <t)\n",
    "\n",
    "    tp = (predict_positive & actual_positive).sum()\n",
    "    fp = (predict_positive & actual_negative).sum()\n",
    "    tn = (predict_negative & actual_negative).sum()\n",
    "    fn = (predict_negative & actual_positive).sum()  \n",
    "\n",
    "    if tp+fp>0:\n",
    "        precision = tp/(tp+fp)\n",
    "    else:       \n",
    "        precision = np.nan\n",
    "\n",
    "    if tp+fn>0:\n",
    "        recall = tp/(tp+fn)\n",
    "    else:       \n",
    "        recall = np.nan     \n",
    "    return  precision, recall"
   ]
  },
  {
   "cell_type": "code",
   "execution_count": 385,
   "id": "71c511fa-e624-4c41-b911-6ed338aa82ec",
   "metadata": {},
   "outputs": [],
   "source": [
    "thresholds = np.linspace(0.0,1.0, num=101)"
   ]
  },
  {
   "cell_type": "code",
   "execution_count": 386,
   "id": "e9d62d12-d609-4f89-a018-97d05f3a30d7",
   "metadata": {},
   "outputs": [],
   "source": [
    "results = []\n",
    "for t in thresholds:\n",
    "    precision, recall = evaluate_model_with_threshold(y_val, y_pred_proba, t)\n",
    "    results.append((t, precision, recall))"
   ]
  },
  {
   "cell_type": "code",
   "execution_count": 387,
   "id": "c761ffa1-4611-4df7-948d-854478f69d4a",
   "metadata": {},
   "outputs": [
    {
     "data": {
      "text/html": [
       "<div>\n",
       "<style scoped>\n",
       "    .dataframe tbody tr th:only-of-type {\n",
       "        vertical-align: middle;\n",
       "    }\n",
       "\n",
       "    .dataframe tbody tr th {\n",
       "        vertical-align: top;\n",
       "    }\n",
       "\n",
       "    .dataframe thead th {\n",
       "        text-align: right;\n",
       "    }\n",
       "</style>\n",
       "<table border=\"1\" class=\"dataframe\">\n",
       "  <thead>\n",
       "    <tr style=\"text-align: right;\">\n",
       "      <th></th>\n",
       "      <th>threshold</th>\n",
       "      <th>precision</th>\n",
       "      <th>recall</th>\n",
       "    </tr>\n",
       "  </thead>\n",
       "  <tbody>\n",
       "    <tr>\n",
       "      <th>0</th>\n",
       "      <td>0.00</td>\n",
       "      <td>0.121433</td>\n",
       "      <td>1.000000</td>\n",
       "    </tr>\n",
       "    <tr>\n",
       "      <th>1</th>\n",
       "      <td>0.01</td>\n",
       "      <td>0.135112</td>\n",
       "      <td>0.996357</td>\n",
       "    </tr>\n",
       "    <tr>\n",
       "      <th>2</th>\n",
       "      <td>0.02</td>\n",
       "      <td>0.158866</td>\n",
       "      <td>0.995446</td>\n",
       "    </tr>\n",
       "    <tr>\n",
       "      <th>3</th>\n",
       "      <td>0.03</td>\n",
       "      <td>0.186513</td>\n",
       "      <td>0.989982</td>\n",
       "    </tr>\n",
       "    <tr>\n",
       "      <th>4</th>\n",
       "      <td>0.04</td>\n",
       "      <td>0.219688</td>\n",
       "      <td>0.973588</td>\n",
       "    </tr>\n",
       "  </tbody>\n",
       "</table>\n",
       "</div>"
      ],
      "text/plain": [
       "   threshold  precision    recall\n",
       "0       0.00   0.121433  1.000000\n",
       "1       0.01   0.135112  0.996357\n",
       "2       0.02   0.158866  0.995446\n",
       "3       0.03   0.186513  0.989982\n",
       "4       0.04   0.219688  0.973588"
      ]
     },
     "execution_count": 387,
     "metadata": {},
     "output_type": "execute_result"
    }
   ],
   "source": [
    "evaluation_df = pd.DataFrame(results, columns = ['threshold', 'precision', 'recall'])\n",
    "evaluation_df.head()"
   ]
  },
  {
   "cell_type": "code",
   "execution_count": 388,
   "id": "aab051b7-3022-45ce-ab78-db910084b6ef",
   "metadata": {},
   "outputs": [
    {
     "name": "stdout",
     "output_type": "stream",
     "text": [
      "El threshold que da la mayor precisión es: 0.9 con precisión: 0.7307692307692307\n"
     ]
    }
   ],
   "source": [
    "max_precision_index = evaluation_df['precision'].idxmax()\n",
    "max_precision_threshold = evaluation_df['threshold'].iloc[max_precision_index]\n",
    "max_precision_value = evaluation_df['precision'].iloc[max_precision_index]\n",
    "print(f\"El threshold que da la mayor precisión es: {max_precision_threshold} con precisión: {max_precision_value}\")"
   ]
  },
  {
   "cell_type": "code",
   "execution_count": 389,
   "id": "3adb0e32-94ac-4501-b6f1-0e737d06e940",
   "metadata": {},
   "outputs": [
    {
     "data": {
      "image/png": "[encoded data removed]",
      "text/plain": [
       "<Figure size 500x500 with 1 Axes>"
      ]
     },
     "metadata": {},
     "output_type": "display_data"
    }
   ],
   "source": [
    "plt.figure(figsize=(5,5))\n",
    "plt.plot(evaluation_df['threshold'], evaluation_df['precision'], label='Precision', color='blue')\n",
    "plt.plot(evaluation_df['threshold'], evaluation_df['recall'], label='Recall', color='green')\n",
    "plt.xlabel('Threshold')\n",
    "plt.ylabel('Score')\n",
    "plt.grid(alpha=0.7)"
   ]
  },
  {
   "cell_type": "code",
   "execution_count": 390,
   "id": "99007fca-9bd4-4c8e-b393-ee04b84402ea",
   "metadata": {},
   "outputs": [
    {
     "data": {
      "text/plain": [
       "0.26"
      ]
     },
     "execution_count": 390,
     "metadata": {},
     "output_type": "execute_result"
    }
   ],
   "source": [
    "evaluation_df['difference'] = abs(evaluation_df['precision'] - evaluation_df['recall'])\n",
    "result_matrix = evaluation_df[evaluation_df.threshold!=1.0]\n",
    "min_difference_index = result_matrix['difference'].idxmin()\n",
    "interception_threshold=result_matrix.iloc[min_difference_index]['threshold']\n",
    "interception_threshold"
   ]
  },
  {
   "cell_type": "markdown",
   "id": "96e3de16-286d-49b2-b070-355f765531c1",
   "metadata": {},
   "source": [
    "Anwer Q3"
   ]
  },
  {
   "cell_type": "code",
   "execution_count": 391,
   "id": "2c21d9d1-6d61-4743-adb8-442f3afac896",
   "metadata": {},
   "outputs": [
    {
     "name": "stdout",
     "output_type": "stream",
     "text": [
      "The precision and recall curves intercept at the threshold 0.26\n"
     ]
    }
   ],
   "source": [
    "print(f'The precision and recall curves intercept at the threshold {interception_threshold}')"
   ]
  },
  {
   "cell_type": "markdown",
   "id": "1003df78-9fff-41d8-ae72-2f545abdfc9a",
   "metadata": {},
   "source": [
    "# Question 4: F1 Score"
   ]
  },
  {
   "cell_type": "code",
   "execution_count": null,
   "id": "63c1b15e-86bc-4744-b857-978e8bf73ee1",
   "metadata": {},
   "outputs": [],
   "source": [
    "evaluation_df['f1'] = 2*((evaluation_df.precision*evaluation_df.recall)/(evaluation_df.precision+evaluation_df.recall))"
   ]
  },
  {
   "cell_type": "code",
   "execution_count": null,
   "id": "bd0b8890-8d39-4c57-85c9-9cc392607161",
   "metadata": {},
   "outputs": [],
   "source": [
    "max_f1_index = evaluation_df['f1'].idxmax()\n",
    "threshold_max_f1 = evaluation_df.iloc[max_f1_index][\"threshold\"]"
   ]
  },
  {
   "cell_type": "markdown",
   "id": "79abaab5-6ee9-4f89-912b-1f1cb8f8b329",
   "metadata": {},
   "source": [
    "ANSWER Q4:"
   ]
  },
  {
   "cell_type": "code",
   "execution_count": null,
   "id": "e1276ff7-ab9f-4d4e-86ab-5f98a1adbe8f",
   "metadata": {},
   "outputs": [],
   "source": [
    "print(f'F1 is maximal on the threshold: {threshold_max_f1}')"
   ]
  },
  {
   "cell_type": "markdown",
   "id": "410b9578-87c4-4979-b21f-bd79a77ef866",
   "metadata": {},
   "source": [
    "# Question 5: 5-Fold CV\n"
   ]
  },
  {
   "cell_type": "code",
   "execution_count": null,
   "id": "25ff6475-ab1d-464a-92ca-1373bb9bf18a",
   "metadata": {},
   "outputs": [],
   "source": [
    "from sklearn.model_selection import KFold"
   ]
  },
  {
   "cell_type": "code",
   "execution_count": null,
   "id": "ac05090e-63fc-44e3-be6b-873afb926821",
   "metadata": {},
   "outputs": [],
   "source": [
    "kfold =KFold(n_splits=5, shuffle=True, random_state=1)"
   ]
  },
  {
   "cell_type": "code",
   "execution_count": null,
   "id": "0ce8c1e2-fb67-4006-bfb9-518b1f49318c",
   "metadata": {},
   "outputs": [],
   "source": [
    "model = LogisticRegression(solver='liblinear', C=1.0, max_iter=1000)\n",
    "scores = []\n",
    "for train_idx, val_idx in kfold.split(df_full_train):\n",
    "    df_train = df_full_train.iloc[train_idx]\n",
    "    df_val = df_full_train.iloc[val_idx]\n",
    "\n",
    "    y_train = df_train.y.values\n",
    "    y_val = df_val.y.values\n",
    "\n",
    "    del df_train[\"y\"]\n",
    "    del df_val[\"y\"]\n",
    "\n",
    "    auc, y_pred_proba = train_and_get_auc(df_train, y_train, df_val, y_val, model)\n",
    "    scores.append(auc)"
   ]
  },
  {
   "cell_type": "code",
   "execution_count": null,
   "id": "bd4c4b87-14c6-42ce-be75-6ee71c77ca1c",
   "metadata": {},
   "outputs": [],
   "source": [
    "scores"
   ]
  },
  {
   "cell_type": "code",
   "execution_count": null,
   "id": "5b5cfb08-ecf1-4778-a3f7-5073e43a6785",
   "metadata": {},
   "outputs": [],
   "source": [
    "std_scores = np.std(scores)\n",
    "std_scores"
   ]
  },
  {
   "cell_type": "code",
   "execution_count": null,
   "id": "0ea6c894-b778-41c7-a81a-12788ce12136",
   "metadata": {},
   "outputs": [],
   "source": [
    "options_for_answer = [0.0001, 0.006, 0.06, 0.26]\n",
    "closest_number_to_std = min(options_for_answer, key=lambda x: abs(x - std_scores))\n",
    "closest_number_to_std"
   ]
  },
  {
   "cell_type": "markdown",
   "id": "a59f2e56-f89f-40f2-8025-11d4d07a856f",
   "metadata": {},
   "source": [
    "ANSWER Q5"
   ]
  },
  {
   "cell_type": "code",
   "execution_count": null,
   "id": "f78a3017-008a-4f8e-bf16-e37dad7ad0bd",
   "metadata": {},
   "outputs": [],
   "source": [
    "print (f'The standard deviation of the AUCs is: {closest_number_to_std}')"
   ]
  },
  {
   "cell_type": "markdown",
   "id": "5982ecee-e2f7-4ebb-ba28-fad2a1f1f1bb",
   "metadata": {},
   "source": [
    "# Question 6: Hyperparameter Tuning"
   ]
  },
  {
   "cell_type": "code",
   "execution_count": null,
   "id": "6768dc34-f2f5-4ae6-8ce2-992e16c17734",
   "metadata": {},
   "outputs": [],
   "source": [
    "from tqdm.notebook import tqdm"
   ]
  },
  {
   "cell_type": "code",
   "execution_count": null,
   "id": "e8ea4e99-2bf5-4804-808c-799bf2add0a9",
   "metadata": {},
   "outputs": [],
   "source": [
    "scores=[]\n",
    "for c in tqdm([0.000001, 0.001, 1]):\n",
    "    kfold =KFold(n_splits=5, shuffle=True, random_state=1)\n",
    "    model = LogisticRegression(solver='liblinear', C=c, max_iter=1000)\n",
    "    for train_idx, val_idx in kfold.split(df_full_train):\n",
    "        df_train = df_full_train.iloc[train_idx]\n",
    "        df_val = df_full_train.iloc[val_idx]\n",
    "    \n",
    "        y_train = df_train.y.values\n",
    "        y_val = df_val.y.values\n",
    "    \n",
    "        del df_train[\"y\"]\n",
    "        del df_val[\"y\"]\n",
    "    \n",
    "        auc, y_pred_proba = train_and_get_auc(df_train, y_train, df_val, y_val, model)\n",
    "        scores.append((c,auc))\n",
    "scores"
   ]
  },
  {
   "cell_type": "code",
   "execution_count": null,
   "id": "c318ae57-a6b1-4622-a3cf-7856875bb604",
   "metadata": {},
   "outputs": [],
   "source": [
    "scores_df = pd.DataFrame(scores, columns = ['c','auc'])\n",
    "scores_df"
   ]
  },
  {
   "cell_type": "code",
   "execution_count": null,
   "id": "e682ba87-699b-4b62-9f13-b6c626ac5e65",
   "metadata": {},
   "outputs": [],
   "source": [
    "c_auc_df = scores_df.groupby('c')['auc'].mean().reset_index()\n",
    "c_auc_df"
   ]
  },
  {
   "cell_type": "code",
   "execution_count": null,
   "id": "16b70144-a385-4e57-8cff-2e6aac19423e",
   "metadata": {},
   "outputs": [],
   "source": [
    "max_auc_index = c_auc_df['auc'].idxmax()\n",
    "best_c = c_auc_df.iloc[max_auc_index]['c']"
   ]
  },
  {
   "cell_type": "markdown",
   "id": "5947f6b7-5338-44c4-8690-4ed24936a054",
   "metadata": {},
   "source": [
    "ANSWER Q6"
   ]
  },
  {
   "cell_type": "code",
   "execution_count": null,
   "id": "0ef4d881-6701-4a3e-8bb0-54c88f3aade3",
   "metadata": {},
   "outputs": [],
   "source": [
    "print(f'The c which leads to the best mean score is: {best_c}')"
   ]
  },
  {
   "cell_type": "code",
   "execution_count": null,
   "id": "c851e1b0-c9e5-4d73-9b9c-10465df96a90",
   "metadata": {},
   "outputs": [],
   "source": []
  }
 ],
 "metadata": {
  "kernelspec": {
   "display_name": "Python 3 (ipykernel)",
   "language": "python",
   "name": "python3"
  },
  "language_info": {
   "codemirror_mode": {
    "name": "ipython",
    "version": 3
   },
   "file_extension": ".py",
   "mimetype": "text/x-python",
   "name": "python",
   "nbconvert_exporter": "python",
   "pygments_lexer": "ipython3",
   "version": "3.12.4"
  }
 },
 "nbformat": 4,
 "nbformat_minor": 5
}
