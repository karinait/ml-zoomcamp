{
 "cells": [
  {
   "cell_type": "code",
   "execution_count": 348,
   "id": "ea2d589d-07cb-498a-b502-e57020af64be",
   "metadata": {},
   "outputs": [],
   "source": [
    "import pandas as pd\n",
    "import numpy as np\n",
    "import os"
   ]
  },
  {
   "cell_type": "code",
   "execution_count": 349,
   "id": "c90f84a0-9bef-4966-85c7-263f796f98b6",
   "metadata": {},
   "outputs": [],
   "source": [
    "local_dataset_dir = \"../dataset/\"\n",
    "local_dataset_file_path = os.path.join(local_dataset_dir, \"laptops.csv\")"
   ]
  },
  {
   "cell_type": "code",
   "execution_count": 350,
   "id": "caf897ed-69d3-4d50-b829-36d290478e0b",
   "metadata": {},
   "outputs": [
    {
     "name": "stdout",
     "output_type": "stream",
     "text": [
      "The dataset file already exists. No need to download it again\n"
     ]
    }
   ],
   "source": [
    "if not os.path.exists(local_dataset_file_path):\n",
    "  !wget https://raw.githubusercontent.com/alexeygrigorev/datasets/master/laptops.csv -P \"../dataset/\"\n",
    "else:\n",
    "  print(\"The dataset file already exists. No need to download it again\")"
   ]
  },
  {
   "cell_type": "code",
   "execution_count": 351,
   "id": "5ee38d36-f027-4521-b09c-e0b3d715d635",
   "metadata": {},
   "outputs": [],
   "source": [
    "df = pd.read_csv(\"../dataset/laptops.csv\")"
   ]
  },
  {
   "cell_type": "code",
   "execution_count": 352,
   "id": "e10ebc35-c7e7-4a14-aedf-1f580e47b5ed",
   "metadata": {},
   "outputs": [],
   "source": [
    "df.columns = df.columns.str.lower().str.replace(' ', '_')"
   ]
  },
  {
   "cell_type": "code",
   "execution_count": 353,
   "id": "3e54d301-854e-4bdb-aac7-983cdc8492d8",
   "metadata": {},
   "outputs": [],
   "source": [
    "df = df[['ram','storage','screen', 'final_price']]"
   ]
  },
  {
   "cell_type": "code",
   "execution_count": 354,
   "id": "4011b73d-0312-4d77-b286-7d391d2d57c0",
   "metadata": {},
   "outputs": [],
   "source": [
    "import matplotlib.pyplot as plt\n",
    "import seaborn as sns\n",
    "%matplotlib inline"
   ]
  },
  {
   "cell_type": "code",
   "execution_count": 355,
   "id": "59ac2a58-caa4-41c7-ae27-67bb676a48c9",
   "metadata": {},
   "outputs": [
    {
     "data": {
      "text/plain": [
       "<Axes: xlabel='final_price', ylabel='Count'>"
      ]
     },
     "execution_count": 355,
     "metadata": {},
     "output_type": "execute_result"
    },
    {
     "data": {
      "image/png": "[encoded data removed]",
      "text/plain": [
       "<Figure size 640x480 with 1 Axes>"
      ]
     },
     "metadata": {},
     "output_type": "display_data"
    }
   ],
   "source": [
    "sns.histplot(df.final_price)"
   ]
  },
  {
   "cell_type": "code",
   "execution_count": 356,
   "id": "2de6c877-2346-4bc8-8804-7a01bb764eec",
   "metadata": {},
   "outputs": [
    {
     "data": {
      "text/plain": [
       "['screen']"
      ]
     },
     "execution_count": 356,
     "metadata": {},
     "output_type": "execute_result"
    }
   ],
   "source": [
    "df.columns[df.isnull().any()].tolist()"
   ]
  },
  {
   "cell_type": "code",
   "execution_count": 357,
   "id": "9aee615b-bf22-4e23-b8cd-764f50f452f2",
   "metadata": {},
   "outputs": [
    {
     "data": {
      "text/plain": [
       "16.0"
      ]
     },
     "execution_count": 357,
     "metadata": {},
     "output_type": "execute_result"
    }
   ],
   "source": [
    "df['ram'].median()"
   ]
  },
  {
   "cell_type": "code",
   "execution_count": 358,
   "id": "263f922c-c2e0-438b-8843-12bbd514388f",
   "metadata": {},
   "outputs": [],
   "source": [
    "n=len(df)\n",
    "n_val = int(n*0.2)\n",
    "n_test = int(n*0.2)\n",
    "n_train=n -n_val-n_test"
   ]
  },
  {
   "cell_type": "code",
   "execution_count": 359,
   "id": "3765f171-0f92-492e-9eba-064e2b096728",
   "metadata": {},
   "outputs": [],
   "source": [
    "idx=np.arange(n)"
   ]
  },
  {
   "cell_type": "code",
   "execution_count": 360,
   "id": "d0d6297c-9d49-4456-874f-e555b8e9fbe1",
   "metadata": {},
   "outputs": [],
   "source": [
    "np.random.seed(42)\n",
    "np.random.shuffle(idx)"
   ]
  },
  {
   "cell_type": "code",
   "execution_count": 361,
   "id": "171b2560-f56b-4685-baad-a5903836f41a",
   "metadata": {},
   "outputs": [],
   "source": [
    "df_train=df.iloc[idx[:n_train]]\n",
    "df_val = df.iloc[idx[n_train:n_train+n_val]]\n",
    "df_test = df.iloc[idx[n_train+n_val:]]\n"
   ]
  },
  {
   "cell_type": "code",
   "execution_count": 362,
   "id": "ba9a6472-ee77-479b-a8f7-83aff882610a",
   "metadata": {},
   "outputs": [],
   "source": [
    "df_train=df_train.reset_index(drop=True)\n",
    "df_val=df_val.reset_index(drop=True)\n",
    "df_test=df_test.reset_index(drop=True)"
   ]
  },
  {
   "cell_type": "code",
   "execution_count": 363,
   "id": "b8008bc8-ad25-4d71-a92a-a8b065b69a22",
   "metadata": {},
   "outputs": [
    {
     "data": {
      "text/plain": [
       "15.2"
      ]
     },
     "execution_count": 363,
     "metadata": {},
     "output_type": "execute_result"
    }
   ],
   "source": [
    "screen_mean=df_train['screen'].mean().round(1)\n",
    "screen_mean"
   ]
  },
  {
   "cell_type": "code",
   "execution_count": 364,
   "id": "8077bcbc-f6e0-4b0a-a6db-ce0077ba9e0f",
   "metadata": {},
   "outputs": [],
   "source": [
    "y_train = df_train.final_price.values\n",
    "y_val = df_val.final_price.values\n",
    "y_test = df_test.final_price.values"
   ]
  },
  {
   "cell_type": "code",
   "execution_count": 365,
   "id": "fc0743fd-5292-4e7e-8542-d592e1f3d0f9",
   "metadata": {},
   "outputs": [],
   "source": [
    "del df_train['final_price']\n",
    "del df_val['final_price']\n",
    "del df_test['final_price']"
   ]
  },
  {
   "cell_type": "code",
   "execution_count": 366,
   "id": "5b61cec5-0bf2-4a58-89da-e9204d1f135b",
   "metadata": {},
   "outputs": [],
   "source": [
    "df_train_mean = df_train.copy()\n",
    "df_val_mean = df_val.copy()\n",
    "df_test_mean = df_test.copy()"
   ]
  },
  {
   "cell_type": "code",
   "execution_count": 367,
   "id": "7b092e3a-c95a-46a6-9962-48738e5f5038",
   "metadata": {},
   "outputs": [],
   "source": [
    "df_train_mean['screen']=df_train_mean['screen'].fillna(screen_mean)\n",
    "df_val_mean['screen'] = df_val_mean['screen'].fillna(screen_mean)\n",
    "df_test_mean['screen'] = df_test_mean['screen'].fillna(screen_mean)"
   ]
  },
  {
   "cell_type": "code",
   "execution_count": 368,
   "id": "5fc4bf5d-5f86-4b31-b8b2-aa149fc2f2d4",
   "metadata": {},
   "outputs": [],
   "source": [
    "def train_linear_regression(X,y):\n",
    "    ones= np.ones(X.shape[0])\n",
    "    X = np.column_stack([ones, X])\n",
    "\n",
    "    XTX = X.T.dot(X)\n",
    "    XTX_inv = np.linalg.inv(XTX)\n",
    "    w_full = XTX_inv.dot(X.T).dot(y)\n",
    "    return w_full[0], w_full[1:]"
   ]
  },
  {
   "cell_type": "code",
   "execution_count": 369,
   "id": "439352ba-1f93-49b4-bf20-82737f5e89c9",
   "metadata": {},
   "outputs": [
    {
     "data": {
      "text/plain": [
       "(808.7022721594524, array([ 43.90756394,   0.87133126, -45.16736577]))"
      ]
     },
     "execution_count": 369,
     "metadata": {},
     "output_type": "execute_result"
    }
   ],
   "source": [
    "w0, w = train_linear_regression(df_train_mean, y_train)\n",
    "w0, w"
   ]
  },
  {
   "cell_type": "code",
   "execution_count": 370,
   "id": "53c1c951-6878-48a9-a0bc-2086dea5d5db",
   "metadata": {},
   "outputs": [],
   "source": [
    "y_pred_mean = w0+df_train_mean.dot(w)"
   ]
  },
  {
   "cell_type": "code",
   "execution_count": 371,
   "id": "e0bb3b8b-3654-4c91-9088-2a524b43d60a",
   "metadata": {},
   "outputs": [
    {
     "data": {
      "text/plain": [
       "<Axes: ylabel='Count'>"
      ]
     },
     "execution_count": 371,
     "metadata": {},
     "output_type": "execute_result"
    },
    {
     "data": {
      "image/png": "[encoded data removed]",
      "text/plain": [
       "<Figure size 640x480 with 1 Axes>"
      ]
     },
     "metadata": {},
     "output_type": "display_data"
    }
   ],
   "source": [
    "sns.histplot(y_pred_mean, color='red', alpha=0.5)\n",
    "sns.histplot(y_train, color = 'blue', alpha=0.5)"
   ]
  },
  {
   "cell_type": "code",
   "execution_count": 372,
   "id": "88eeebc2-acbc-4ff9-b4c8-50f73ebf060c",
   "metadata": {},
   "outputs": [],
   "source": [
    "def rsme(y, y_pred):\n",
    "    error = y-y_pred\n",
    "    se = error **2\n",
    "    mse = se.mean()\n",
    "    return np.sqrt(mse)"
   ]
  },
  {
   "cell_type": "code",
   "execution_count": 373,
   "id": "b2225112-474c-4cb1-a51e-650c8cc73edf",
   "metadata": {},
   "outputs": [
    {
     "data": {
      "text/plain": [
       "602.19"
      ]
     },
     "execution_count": 373,
     "metadata": {},
     "output_type": "execute_result"
    }
   ],
   "source": [
    "score_train_mean = rsme(y_train, y_pred_mean)\n",
    "round(score_train_mean,2)"
   ]
  },
  {
   "cell_type": "code",
   "execution_count": 374,
   "id": "cb32caf0-4db4-41cd-ae33-d853739da2c3",
   "metadata": {},
   "outputs": [],
   "source": [
    "y_val_pred_mean = w0+df_val_mean.dot(w)\n"
   ]
  },
  {
   "cell_type": "code",
   "execution_count": 375,
   "id": "ca0acd1a-5d33-4260-ba37-9428d2e35c18",
   "metadata": {},
   "outputs": [
    {
     "data": {
      "text/plain": [
       "600.27"
      ]
     },
     "execution_count": 375,
     "metadata": {},
     "output_type": "execute_result"
    }
   ],
   "source": [
    "score_val_mean = rsme(y_val, y_val_pred_mean)\n",
    "round(score_val_mean,2)"
   ]
  },
  {
   "cell_type": "code",
   "execution_count": 376,
   "id": "42f5fa00-9a13-4630-b83f-affe43d94062",
   "metadata": {},
   "outputs": [],
   "source": [
    "df_train_zeros = df_train.copy()\n",
    "df_val_zeros = df_val.copy()\n",
    "df_test_zeros = df_test.copy()"
   ]
  },
  {
   "cell_type": "code",
   "execution_count": 377,
   "id": "11bd8ce1-5939-4fd7-a953-9785069b241b",
   "metadata": {},
   "outputs": [],
   "source": [
    "df_train_zeros['screen']=df_train_zeros['screen'].fillna(0)\n",
    "df_val_zeros['screen'] = df_val_zeros['screen'].fillna(0)\n",
    "df_test_zeros['screen'] = df_test_zeros['screen'].fillna(0)"
   ]
  },
  {
   "cell_type": "code",
   "execution_count": 378,
   "id": "f175d92b-cb41-4d49-81c9-d6f4433c08ef",
   "metadata": {},
   "outputs": [
    {
     "data": {
      "text/plain": [
       "(676.8954853010354, array([ 43.70681555,   0.86506867, -36.10399833]))"
      ]
     },
     "execution_count": 378,
     "metadata": {},
     "output_type": "execute_result"
    }
   ],
   "source": [
    "w0, w = train_linear_regression(df_train_zeros, y_train)\n",
    "w0, w"
   ]
  },
  {
   "cell_type": "code",
   "execution_count": 379,
   "id": "3b913a0c-3f02-4be9-b3a8-ed59d2a86dbe",
   "metadata": {},
   "outputs": [],
   "source": [
    "y_pred_zeros = w0 + df_train_zeros.dot(w)"
   ]
  },
  {
   "cell_type": "code",
   "execution_count": 380,
   "id": "ddce2549-3490-4052-b196-980932409aee",
   "metadata": {},
   "outputs": [
    {
     "data": {
      "text/plain": [
       "602.39"
      ]
     },
     "execution_count": 380,
     "metadata": {},
     "output_type": "execute_result"
    }
   ],
   "source": [
    "score_train_zeros = rsme(y_train, y_pred_zeros)\n",
    "round(score_train_zeros, 2)"
   ]
  },
  {
   "cell_type": "code",
   "execution_count": 381,
   "id": "27ac6d66-a370-40b2-9325-b0b07ab149e6",
   "metadata": {},
   "outputs": [],
   "source": [
    "y_val_pred_zeros = w0+df_val_zeros.dot(w)"
   ]
  },
  {
   "cell_type": "code",
   "execution_count": 382,
   "id": "a5ec5453-6c66-462f-b51f-c26fd99baa06",
   "metadata": {},
   "outputs": [
    {
     "data": {
      "text/plain": [
       "597.36"
      ]
     },
     "execution_count": 382,
     "metadata": {},
     "output_type": "execute_result"
    }
   ],
   "source": [
    "score_val_zeros = rsme(y_val, y_val_pred_zeros)\n",
    "round(score_val_zeros, 2)"
   ]
  },
  {
   "cell_type": "code",
   "execution_count": 383,
   "id": "6d2881e2-9f39-4b9d-a2a8-b74b1d25202f",
   "metadata": {},
   "outputs": [],
   "source": [
    "def train_linear_regression_reg(X,y, r):\n",
    "    ones= np.ones(X.shape[0])\n",
    "    X = np.column_stack([ones, X])\n",
    "\n",
    "    XTX = X.T.dot(X)\n",
    "    XTX = XTX + r * np.eye(XTX.shape[0])\n",
    "    \n",
    "    XTX_inv = np.linalg.inv(XTX)\n",
    "    w_full = XTX_inv.dot(X.T).dot(y)\n",
    "    return w_full[0], w_full[1:]"
   ]
  },
  {
   "cell_type": "code",
   "execution_count": 384,
   "id": "c0880583-c868-4431-9c68-01eef0a5e404",
   "metadata": {},
   "outputs": [
    {
     "name": "stdout",
     "output_type": "stream",
     "text": [
      "0 597.36\n",
      "0.01 597.36\n",
      "0.1 597.35\n",
      "1 597.21\n",
      "5 597.01\n",
      "10 597.06\n",
      "100 597.9\n"
     ]
    }
   ],
   "source": [
    "for r in [0, 0.01, 0.1, 1, 5, 10, 100]:\n",
    "    w0, w = train_linear_regression_reg(df_train_zeros, y_train, r=r)\n",
    "    y_pred = w0 + df_val_zeros.dot(w)\n",
    "    score = round(rsme(y_val, y_pred),2)\n",
    "    print (r, score)"
   ]
  },
  {
   "cell_type": "code",
   "execution_count": 385,
   "id": "868ccbb9-6599-4ca2-a08f-b06ed12286e3",
   "metadata": {},
   "outputs": [],
   "source": [
    "def prepare_and_train_linear_regression(df, seed):\n",
    "    df = df.copy()\n",
    "    df['screen'] = df['screen'].fillna(0)\n",
    "    \n",
    "    rows = df.shape[0]\n",
    "    n_test = int(rows * 0.20)\n",
    "    n_val = int(rows * 0.20)\n",
    "    n_train = rows-n_test-n_val\n",
    "\n",
    "    idx=np.arange(rows)\n",
    "    np.random.seed(seed)\n",
    "    np.random.shuffle(idx)\n",
    "\n",
    "    df_train = df.iloc[idx[:n_train]]\n",
    "    df_val = df.iloc[idx[n_train:n_train+n_val]]\n",
    "    df_test = df.iloc[idx[n_train+n_val:]]\n",
    "    \n",
    "    df_train=df_train.reset_index(drop=True)\n",
    "    df_val=df_val.reset_index(drop=True)\n",
    "    df_test=df_test.reset_index(drop=True) \n",
    "\n",
    "    y_train = df_train.final_price.values\n",
    "    y_val = df_val.final_price.values\n",
    "    y_test = df_test.final_price.values  \n",
    "\n",
    "    del df_train['final_price']\n",
    "    del df_val['final_price']\n",
    "    del df_test['final_price']    \n",
    "\n",
    "    w0, w = train_linear_regression(df_train, y_train)\n",
    "    y_pred = w0 + df_val.dot(w)\n",
    "    score = rsme(y_val, y_pred)\n",
    "    \n",
    "    return score"
   ]
  },
  {
   "cell_type": "code",
   "execution_count": 386,
   "id": "b24f2e2d-a261-4c1e-bd13-f379cb11e372",
   "metadata": {},
   "outputs": [
    {
     "name": "stdout",
     "output_type": "stream",
     "text": [
      "[565.4520868770965, 636.7985423056713, 588.9558697907975, 597.8148920012538, 571.9627915111048, 573.2383256618931, 647.3438328407295, 550.4398184485883, 587.3335036169867, 576.1017929433073]\n"
     ]
    },
    {
     "data": {
      "text/plain": [
       "29.176"
      ]
     },
     "execution_count": 386,
     "metadata": {},
     "output_type": "execute_result"
    }
   ],
   "source": [
    "scores = []\n",
    "for seed in [0, 1, 2, 3, 4, 5, 6, 7, 8, 9]:\n",
    "    score = prepare_and_train_linear_regression(df, seed)\n",
    "    scores.append(score)\n",
    "print(scores)\n",
    "std = round(np.std(scores), 3)\n",
    "std"
   ]
  },
  {
   "cell_type": "code",
   "execution_count": 387,
   "id": "b88f7b9f-7a16-4602-a6c8-a4bd8c4f27b4",
   "metadata": {},
   "outputs": [
    {
     "data": {
      "text/plain": [
       "608.60998220496"
      ]
     },
     "execution_count": 387,
     "metadata": {},
     "output_type": "execute_result"
    }
   ],
   "source": [
    "seed = 9\n",
    "df = df.copy()\n",
    "df['screen'] = df['screen'].fillna(0)\n",
    "\n",
    "rows = len(df)\n",
    "idx=np.arange(rows)\n",
    "np.random.seed(seed)\n",
    "np.random.shuffle(idx)\n",
    "\n",
    "df_train = df.iloc[idx[:n_train]]\n",
    "df_val = df.iloc[idx[n_train:n_train+n_val]]\n",
    "df_test = df.iloc[idx[n_train+n_val:]]\n",
    "\n",
    "df_train = pd.concat([df_train, df_val], ignore_index=True)\n",
    "df_test=df_test.reset_index(drop=True) \n",
    "\n",
    "y_train = df_train.final_price.values\n",
    "y_test = df_test.final_price.values  \n",
    "\n",
    "del df_train['final_price']\n",
    "del df_test['final_price']    \n",
    "\n",
    "w0, w = train_linear_regression_reg(df_train, y_train, 0.001)\n",
    "y_pred = w0 + df_test.dot(w)\n",
    "score = rsme(y_test, y_pred)\n",
    "\n",
    "score"
   ]
  },
  {
   "cell_type": "code",
   "execution_count": null,
   "id": "8fed636a-3720-4d02-abe3-87a2209c532f",
   "metadata": {},
   "outputs": [],
   "source": []
  }
 ],
 "metadata": {
  "kernelspec": {
   "display_name": "Python 3 (ipykernel)",
   "language": "python",
   "name": "python3"
  },
  "language_info": {
   "codemirror_mode": {
    "name": "ipython",
    "version": 3
   },
   "file_extension": ".py",
   "mimetype": "text/x-python",
   "name": "python",
   "nbconvert_exporter": "python",
   "pygments_lexer": "ipython3",
   "version": "3.12.4"
  }
 },
 "nbformat": 4,
 "nbformat_minor": 5
}
