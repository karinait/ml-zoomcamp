{
 "cells": [
  {
   "cell_type": "code",
   "execution_count": 626,
   "id": "f6374274-3b4e-453b-a707-c49412cf8717",
   "metadata": {},
   "outputs": [],
   "source": [
    "import pandas as pd\n",
    "import numpy as np\n"
   ]
  },
  {
   "cell_type": "code",
   "execution_count": 627,
   "id": "f9beb440-1718-434f-9cca-05d9b86e2e4c",
   "metadata": {},
   "outputs": [
    {
     "name": "stdout",
     "output_type": "stream",
     "text": [
      "--2024-10-11 12:59:57--  https://archive.ics.uci.edu/static/public/222/bank+marketing.zip\n",
      "Resolving archive.ics.uci.edu (archive.ics.uci.edu)... 128.195.10.252\n",
      "Connecting to archive.ics.uci.edu (archive.ics.uci.edu)|128.195.10.252|:443... connected.\n",
      "HTTP request sent, awaiting response... 200 OK\n",
      "Length: unspecified\n",
      "Saving to: ‘../dataset/data.zip’\n",
      "\n",
      "../dataset/data.zip     [        <=>         ] 999.85K   569KB/s    in 1.8s    \n",
      "\n",
      "2024-10-11 12:59:59 (569 KB/s) - ‘../dataset/data.zip’ saved [1023843]\n",
      "\n"
     ]
    }
   ],
   "source": [
    "!wget \"https://archive.ics.uci.edu/static/public/222/bank+marketing.zip\" -O \"../dataset/data.zip\""
   ]
  },
  {
   "cell_type": "code",
   "execution_count": 628,
   "id": "9430619d-1aa5-492e-b88b-f4d4f694874e",
   "metadata": {},
   "outputs": [
    {
     "name": "stdout",
     "output_type": "stream",
     "text": [
      "Archive:  ../dataset/data.zip\n",
      " extracting: ../dataset/bank.zip     \n",
      " extracting: ../dataset/bank-additional.zip  \n"
     ]
    }
   ],
   "source": [
    "!unzip -o \"../dataset/data.zip\" -d \"../dataset/\""
   ]
  },
  {
   "cell_type": "code",
   "execution_count": 629,
   "id": "831b21b0-913d-44a0-a1f5-e1ecb8533552",
   "metadata": {},
   "outputs": [
    {
     "name": "stdout",
     "output_type": "stream",
     "text": [
      "Archive:  ../dataset/bank.zip\n",
      "  inflating: ../dataset/bank-full.csv  \n",
      "  inflating: ../dataset/bank-names.txt  \n",
      "  inflating: ../dataset/bank.csv     \n"
     ]
    }
   ],
   "source": [
    "!unzip -o \"../dataset/bank.zip\" -d \"../dataset/\""
   ]
  },
  {
   "cell_type": "code",
   "execution_count": 630,
   "id": "4fd25e8a-20f6-430f-9f44-7182df1dc944",
   "metadata": {},
   "outputs": [],
   "source": [
    "df = pd.read_csv(\"../dataset/bank.csv\", sep=';')"
   ]
  },
  {
   "cell_type": "code",
   "execution_count": 631,
   "id": "af375698-346f-46ab-a1de-44a97a10b110",
   "metadata": {},
   "outputs": [],
   "source": [
    "columns = ['age', 'job', 'marital', 'education', 'balance', 'housing','contact', 'day', 'month', 'duration', 'campaign', 'pdays',\n",
    "       'previous', 'poutcome', 'y']"
   ]
  },
  {
   "cell_type": "code",
   "execution_count": 632,
   "id": "a1e6f488-4ebc-42ae-8a48-ce1d711e8d50",
   "metadata": {},
   "outputs": [],
   "source": [
    "df=df[columns]"
   ]
  },
  {
   "cell_type": "code",
   "execution_count": 633,
   "id": "34e6e5d7-c58f-440f-8ed4-08613b818455",
   "metadata": {},
   "outputs": [
    {
     "data": {
      "text/plain": [
       "age          0\n",
       "job          0\n",
       "marital      0\n",
       "education    0\n",
       "balance      0\n",
       "housing      0\n",
       "contact      0\n",
       "day          0\n",
       "month        0\n",
       "duration     0\n",
       "campaign     0\n",
       "pdays        0\n",
       "previous     0\n",
       "poutcome     0\n",
       "y            0\n",
       "dtype: int64"
      ]
     },
     "execution_count": 633,
     "metadata": {},
     "output_type": "execute_result"
    }
   ],
   "source": [
    "df.isnull().sum()"
   ]
  },
  {
   "cell_type": "code",
   "execution_count": 634,
   "id": "ac656741-51c1-44d6-bda3-596fe22db380",
   "metadata": {},
   "outputs": [
    {
     "data": {
      "text/plain": [
       "0    secondary\n",
       "Name: education, dtype: object"
      ]
     },
     "execution_count": 634,
     "metadata": {},
     "output_type": "execute_result"
    }
   ],
   "source": [
    "mode = df.education.mode()\n",
    "mode"
   ]
  },
  {
   "cell_type": "code",
   "execution_count": 635,
   "id": "2dc6df20-d33e-40c6-b272-7f2d3c8b660c",
   "metadata": {},
   "outputs": [
    {
     "data": {
      "text/plain": [
       "education\n",
       "secondary    0.510064\n",
       "tertiary     0.298607\n",
       "primary      0.149967\n",
       "unknown      0.041363\n",
       "Name: proportion, dtype: float64"
      ]
     },
     "execution_count": 635,
     "metadata": {},
     "output_type": "execute_result"
    }
   ],
   "source": [
    "df.education.value_counts(normalize=True)"
   ]
  },
  {
   "cell_type": "code",
   "execution_count": 636,
   "id": "2c1ccdd5-6b6d-48c6-adae-97f58ea6592f",
   "metadata": {},
   "outputs": [
    {
     "name": "stdout",
     "output_type": "stream",
     "text": [
      "answer Q1: The mode for the column education is: secondary\n"
     ]
    }
   ],
   "source": [
    "answerQ1=f'answer Q1: The mode for the column education is: {mode[0]}'\n",
    "print(answerQ1)"
   ]
  },
  {
   "cell_type": "code",
   "execution_count": 637,
   "id": "2ccf092b-3bdb-448d-9fec-33c34335275a",
   "metadata": {},
   "outputs": [
    {
     "data": {
      "text/plain": [
       "age           int64\n",
       "job          object\n",
       "marital      object\n",
       "education    object\n",
       "balance       int64\n",
       "housing      object\n",
       "contact      object\n",
       "day           int64\n",
       "month        object\n",
       "duration      int64\n",
       "campaign      int64\n",
       "pdays         int64\n",
       "previous      int64\n",
       "poutcome     object\n",
       "y            object\n",
       "dtype: object"
      ]
     },
     "execution_count": 637,
     "metadata": {},
     "output_type": "execute_result"
    }
   ],
   "source": [
    "df.dtypes"
   ]
  },
  {
   "cell_type": "code",
   "execution_count": 638,
   "id": "29bfe4d6-5187-4e3c-bd8d-1619bc007c69",
   "metadata": {},
   "outputs": [
    {
     "data": {
      "text/plain": [
       "marital\n",
       "married     2797\n",
       "single      1196\n",
       "divorced     528\n",
       "Name: count, dtype: int64"
      ]
     },
     "execution_count": 638,
     "metadata": {},
     "output_type": "execute_result"
    }
   ],
   "source": [
    "df.marital.value_counts()"
   ]
  },
  {
   "cell_type": "code",
   "execution_count": 639,
   "id": "dcf98ff1-1448-426b-834f-7fd759360a18",
   "metadata": {},
   "outputs": [
    {
     "data": {
      "text/plain": [
       "campaign\n",
       "1     1734\n",
       "2     1264\n",
       "3      558\n",
       "4      325\n",
       "5      167\n",
       "6      155\n",
       "7       75\n",
       "8       56\n",
       "9       30\n",
       "10      27\n",
       "11      22\n",
       "12      21\n",
       "13      17\n",
       "14      10\n",
       "15       9\n",
       "16       8\n",
       "17       7\n",
       "18       7\n",
       "25       4\n",
       "19       3\n",
       "20       3\n",
       "28       3\n",
       "24       3\n",
       "32       2\n",
       "21       2\n",
       "23       2\n",
       "22       2\n",
       "31       1\n",
       "29       1\n",
       "50       1\n",
       "30       1\n",
       "44       1\n",
       "Name: count, dtype: int64"
      ]
     },
     "execution_count": 639,
     "metadata": {},
     "output_type": "execute_result"
    }
   ],
   "source": [
    "df.campaign.value_counts()"
   ]
  },
  {
   "cell_type": "code",
   "execution_count": 640,
   "id": "dc5f772b-1a7e-4a7c-b061-8683f09fc75c",
   "metadata": {},
   "outputs": [
    {
     "data": {
      "text/plain": [
       "previous\n",
       "0     3705\n",
       "1      286\n",
       "2      193\n",
       "3      113\n",
       "4       78\n",
       "5       47\n",
       "6       25\n",
       "7       22\n",
       "8       18\n",
       "9       10\n",
       "12       5\n",
       "10       4\n",
       "11       3\n",
       "14       2\n",
       "24       1\n",
       "22       1\n",
       "23       1\n",
       "17       1\n",
       "18       1\n",
       "15       1\n",
       "13       1\n",
       "19       1\n",
       "20       1\n",
       "25       1\n",
       "Name: count, dtype: int64"
      ]
     },
     "execution_count": 640,
     "metadata": {},
     "output_type": "execute_result"
    }
   ],
   "source": [
    "df.previous.value_counts()"
   ]
  },
  {
   "cell_type": "code",
   "execution_count": 641,
   "id": "a10f5589-4f4e-474a-a23a-d2cba88ecbe7",
   "metadata": {},
   "outputs": [
    {
     "data": {
      "text/plain": [
       "y\n",
       "no     4000\n",
       "yes     521\n",
       "Name: count, dtype: int64"
      ]
     },
     "execution_count": 641,
     "metadata": {},
     "output_type": "execute_result"
    }
   ],
   "source": [
    "df.y.value_counts()"
   ]
  },
  {
   "cell_type": "code",
   "execution_count": 642,
   "id": "ed1222b2-c887-4734-87c7-a2d103f53e4c",
   "metadata": {},
   "outputs": [
    {
     "data": {
      "text/plain": [
       "day\n",
       "20    257\n",
       "18    226\n",
       "19    201\n",
       "21    198\n",
       "14    195\n",
       "17    191\n",
       "7     190\n",
       "6     187\n",
       "28    181\n",
       "5     181\n",
       "8     180\n",
       "29    175\n",
       "15    174\n",
       "30    168\n",
       "13    166\n",
       "16    164\n",
       "9     163\n",
       "11    152\n",
       "12    151\n",
       "4     139\n",
       "2     114\n",
       "27    113\n",
       "26    110\n",
       "3     105\n",
       "23    102\n",
       "22     86\n",
       "25     80\n",
       "31     59\n",
       "10     50\n",
       "24     36\n",
       "1      27\n",
       "Name: count, dtype: int64"
      ]
     },
     "execution_count": 642,
     "metadata": {},
     "output_type": "execute_result"
    }
   ],
   "source": [
    "df.day.value_counts()"
   ]
  },
  {
   "cell_type": "code",
   "execution_count": 643,
   "id": "70e468a9-36c0-4283-b2e0-5bd2d8b8d84a",
   "metadata": {},
   "outputs": [],
   "source": [
    "numerical=['age', 'balance', 'day', 'duration', 'campaign', 'pdays', 'previous']"
   ]
  },
  {
   "cell_type": "code",
   "execution_count": 644,
   "id": "60e633a3-2c48-4ced-8625-1929baaaafdf",
   "metadata": {},
   "outputs": [
    {
     "data": {
      "text/html": [
       "<div>\n",
       "<style scoped>\n",
       "    .dataframe tbody tr th:only-of-type {\n",
       "        vertical-align: middle;\n",
       "    }\n",
       "\n",
       "    .dataframe tbody tr th {\n",
       "        vertical-align: top;\n",
       "    }\n",
       "\n",
       "    .dataframe thead th {\n",
       "        text-align: right;\n",
       "    }\n",
       "</style>\n",
       "<table border=\"1\" class=\"dataframe\">\n",
       "  <thead>\n",
       "    <tr style=\"text-align: right;\">\n",
       "      <th></th>\n",
       "      <th>age</th>\n",
       "      <th>balance</th>\n",
       "      <th>day</th>\n",
       "      <th>duration</th>\n",
       "      <th>campaign</th>\n",
       "      <th>pdays</th>\n",
       "      <th>previous</th>\n",
       "    </tr>\n",
       "  </thead>\n",
       "  <tbody>\n",
       "    <tr>\n",
       "      <th>age</th>\n",
       "      <td>1.000000</td>\n",
       "      <td>0.083820</td>\n",
       "      <td>-0.017853</td>\n",
       "      <td>-0.002367</td>\n",
       "      <td>-0.005148</td>\n",
       "      <td>-0.008894</td>\n",
       "      <td>-0.003511</td>\n",
       "    </tr>\n",
       "    <tr>\n",
       "      <th>balance</th>\n",
       "      <td>0.083820</td>\n",
       "      <td>1.000000</td>\n",
       "      <td>-0.008677</td>\n",
       "      <td>-0.015950</td>\n",
       "      <td>-0.009976</td>\n",
       "      <td>0.009437</td>\n",
       "      <td>0.026196</td>\n",
       "    </tr>\n",
       "    <tr>\n",
       "      <th>day</th>\n",
       "      <td>-0.017853</td>\n",
       "      <td>-0.008677</td>\n",
       "      <td>1.000000</td>\n",
       "      <td>-0.024629</td>\n",
       "      <td>0.160706</td>\n",
       "      <td>-0.094352</td>\n",
       "      <td>-0.059114</td>\n",
       "    </tr>\n",
       "    <tr>\n",
       "      <th>duration</th>\n",
       "      <td>-0.002367</td>\n",
       "      <td>-0.015950</td>\n",
       "      <td>-0.024629</td>\n",
       "      <td>1.000000</td>\n",
       "      <td>-0.068382</td>\n",
       "      <td>0.010380</td>\n",
       "      <td>0.018080</td>\n",
       "    </tr>\n",
       "    <tr>\n",
       "      <th>campaign</th>\n",
       "      <td>-0.005148</td>\n",
       "      <td>-0.009976</td>\n",
       "      <td>0.160706</td>\n",
       "      <td>-0.068382</td>\n",
       "      <td>1.000000</td>\n",
       "      <td>-0.093137</td>\n",
       "      <td>-0.067833</td>\n",
       "    </tr>\n",
       "    <tr>\n",
       "      <th>pdays</th>\n",
       "      <td>-0.008894</td>\n",
       "      <td>0.009437</td>\n",
       "      <td>-0.094352</td>\n",
       "      <td>0.010380</td>\n",
       "      <td>-0.093137</td>\n",
       "      <td>1.000000</td>\n",
       "      <td>0.577562</td>\n",
       "    </tr>\n",
       "    <tr>\n",
       "      <th>previous</th>\n",
       "      <td>-0.003511</td>\n",
       "      <td>0.026196</td>\n",
       "      <td>-0.059114</td>\n",
       "      <td>0.018080</td>\n",
       "      <td>-0.067833</td>\n",
       "      <td>0.577562</td>\n",
       "      <td>1.000000</td>\n",
       "    </tr>\n",
       "  </tbody>\n",
       "</table>\n",
       "</div>"
      ],
      "text/plain": [
       "               age   balance       day  duration  campaign     pdays  previous\n",
       "age       1.000000  0.083820 -0.017853 -0.002367 -0.005148 -0.008894 -0.003511\n",
       "balance   0.083820  1.000000 -0.008677 -0.015950 -0.009976  0.009437  0.026196\n",
       "day      -0.017853 -0.008677  1.000000 -0.024629  0.160706 -0.094352 -0.059114\n",
       "duration -0.002367 -0.015950 -0.024629  1.000000 -0.068382  0.010380  0.018080\n",
       "campaign -0.005148 -0.009976  0.160706 -0.068382  1.000000 -0.093137 -0.067833\n",
       "pdays    -0.008894  0.009437 -0.094352  0.010380 -0.093137  1.000000  0.577562\n",
       "previous -0.003511  0.026196 -0.059114  0.018080 -0.067833  0.577562  1.000000"
      ]
     },
     "execution_count": 644,
     "metadata": {},
     "output_type": "execute_result"
    }
   ],
   "source": [
    "M_correlation = df[numerical].corr()\n",
    "M_correlation"
   ]
  },
  {
   "cell_type": "code",
   "execution_count": 645,
   "id": "63ebe79a-e0e8-4c09-b3b9-043ea8d045cb",
   "metadata": {},
   "outputs": [
    {
     "name": "stdout",
     "output_type": "stream",
     "text": [
      "answer Q2: The features with biggest correlations are pdays and previous with a coefficient factor of 0.5775618266478828\n"
     ]
    }
   ],
   "source": [
    "max_r= M_correlation['previous']['pdays']\n",
    "answerQ2 = f'answer Q2: The features with biggest correlations are pdays and previous with a coefficient factor of {max_r}'\n",
    "print(answerQ2)"
   ]
  },
  {
   "cell_type": "code",
   "execution_count": 646,
   "id": "b76d10c0-a296-45f2-84a9-019955610465",
   "metadata": {},
   "outputs": [],
   "source": [
    "df.y=(df.y==\"yes\").astype(int)"
   ]
  },
  {
   "cell_type": "code",
   "execution_count": 647,
   "id": "2cf2fcac-f57e-427d-9f00-9ff890e1982f",
   "metadata": {},
   "outputs": [
    {
     "data": {
      "text/plain": [
       "y\n",
       "0    4000\n",
       "1     521\n",
       "Name: count, dtype: int64"
      ]
     },
     "execution_count": 647,
     "metadata": {},
     "output_type": "execute_result"
    }
   ],
   "source": [
    "df.y.value_counts()"
   ]
  },
  {
   "cell_type": "code",
   "execution_count": 648,
   "id": "e71bf95c-64b4-40d3-946e-691d6b0863b9",
   "metadata": {},
   "outputs": [],
   "source": [
    "from sklearn.model_selection import train_test_split"
   ]
  },
  {
   "cell_type": "code",
   "execution_count": 649,
   "id": "bdf4ff79-a6ab-4342-b25e-29e4c6186cf1",
   "metadata": {},
   "outputs": [],
   "source": [
    "df_full_train, df_test = train_test_split(df, test_size=0.20, random_state=42)"
   ]
  },
  {
   "cell_type": "code",
   "execution_count": 650,
   "id": "60f75368-34df-49e2-a59f-d873b789e962",
   "metadata": {},
   "outputs": [],
   "source": [
    "df_train, df_val = train_test_split(df_full_train, test_size=0.25, random_state=42)"
   ]
  },
  {
   "cell_type": "code",
   "execution_count": 651,
   "id": "4f4d7c80-ec71-439d-a253-0be7663d632c",
   "metadata": {},
   "outputs": [
    {
     "data": {
      "text/plain": [
       "(2712, 904, 905)"
      ]
     },
     "execution_count": 651,
     "metadata": {},
     "output_type": "execute_result"
    }
   ],
   "source": [
    "len(df_train), len(df_val), len(df_test)"
   ]
  },
  {
   "cell_type": "code",
   "execution_count": 652,
   "id": "80407763-50d6-4fe5-a2fc-a7214d230525",
   "metadata": {},
   "outputs": [
    {
     "data": {
      "text/html": [
       "<div>\n",
       "<style scoped>\n",
       "    .dataframe tbody tr th:only-of-type {\n",
       "        vertical-align: middle;\n",
       "    }\n",
       "\n",
       "    .dataframe tbody tr th {\n",
       "        vertical-align: top;\n",
       "    }\n",
       "\n",
       "    .dataframe thead th {\n",
       "        text-align: right;\n",
       "    }\n",
       "</style>\n",
       "<table border=\"1\" class=\"dataframe\">\n",
       "  <thead>\n",
       "    <tr style=\"text-align: right;\">\n",
       "      <th></th>\n",
       "      <th>age</th>\n",
       "      <th>job</th>\n",
       "      <th>marital</th>\n",
       "      <th>education</th>\n",
       "      <th>balance</th>\n",
       "      <th>housing</th>\n",
       "      <th>contact</th>\n",
       "      <th>day</th>\n",
       "      <th>month</th>\n",
       "      <th>duration</th>\n",
       "      <th>campaign</th>\n",
       "      <th>pdays</th>\n",
       "      <th>previous</th>\n",
       "      <th>poutcome</th>\n",
       "      <th>y</th>\n",
       "    </tr>\n",
       "  </thead>\n",
       "  <tbody>\n",
       "    <tr>\n",
       "      <th>0</th>\n",
       "      <td>51</td>\n",
       "      <td>entrepreneur</td>\n",
       "      <td>married</td>\n",
       "      <td>secondary</td>\n",
       "      <td>-2082</td>\n",
       "      <td>no</td>\n",
       "      <td>cellular</td>\n",
       "      <td>28</td>\n",
       "      <td>jul</td>\n",
       "      <td>123</td>\n",
       "      <td>6</td>\n",
       "      <td>-1</td>\n",
       "      <td>0</td>\n",
       "      <td>unknown</td>\n",
       "      <td>0</td>\n",
       "    </tr>\n",
       "    <tr>\n",
       "      <th>1</th>\n",
       "      <td>50</td>\n",
       "      <td>management</td>\n",
       "      <td>married</td>\n",
       "      <td>tertiary</td>\n",
       "      <td>2881</td>\n",
       "      <td>no</td>\n",
       "      <td>cellular</td>\n",
       "      <td>5</td>\n",
       "      <td>aug</td>\n",
       "      <td>510</td>\n",
       "      <td>2</td>\n",
       "      <td>2</td>\n",
       "      <td>5</td>\n",
       "      <td>other</td>\n",
       "      <td>0</td>\n",
       "    </tr>\n",
       "    <tr>\n",
       "      <th>2</th>\n",
       "      <td>50</td>\n",
       "      <td>technician</td>\n",
       "      <td>married</td>\n",
       "      <td>secondary</td>\n",
       "      <td>1412</td>\n",
       "      <td>no</td>\n",
       "      <td>cellular</td>\n",
       "      <td>6</td>\n",
       "      <td>aug</td>\n",
       "      <td>131</td>\n",
       "      <td>3</td>\n",
       "      <td>-1</td>\n",
       "      <td>0</td>\n",
       "      <td>unknown</td>\n",
       "      <td>0</td>\n",
       "    </tr>\n",
       "    <tr>\n",
       "      <th>3</th>\n",
       "      <td>37</td>\n",
       "      <td>management</td>\n",
       "      <td>married</td>\n",
       "      <td>tertiary</td>\n",
       "      <td>0</td>\n",
       "      <td>yes</td>\n",
       "      <td>unknown</td>\n",
       "      <td>3</td>\n",
       "      <td>jun</td>\n",
       "      <td>247</td>\n",
       "      <td>13</td>\n",
       "      <td>-1</td>\n",
       "      <td>0</td>\n",
       "      <td>unknown</td>\n",
       "      <td>0</td>\n",
       "    </tr>\n",
       "    <tr>\n",
       "      <th>4</th>\n",
       "      <td>31</td>\n",
       "      <td>admin.</td>\n",
       "      <td>single</td>\n",
       "      <td>secondary</td>\n",
       "      <td>757</td>\n",
       "      <td>no</td>\n",
       "      <td>cellular</td>\n",
       "      <td>3</td>\n",
       "      <td>feb</td>\n",
       "      <td>343</td>\n",
       "      <td>2</td>\n",
       "      <td>-1</td>\n",
       "      <td>0</td>\n",
       "      <td>unknown</td>\n",
       "      <td>0</td>\n",
       "    </tr>\n",
       "    <tr>\n",
       "      <th>...</th>\n",
       "      <td>...</td>\n",
       "      <td>...</td>\n",
       "      <td>...</td>\n",
       "      <td>...</td>\n",
       "      <td>...</td>\n",
       "      <td>...</td>\n",
       "      <td>...</td>\n",
       "      <td>...</td>\n",
       "      <td>...</td>\n",
       "      <td>...</td>\n",
       "      <td>...</td>\n",
       "      <td>...</td>\n",
       "      <td>...</td>\n",
       "      <td>...</td>\n",
       "      <td>...</td>\n",
       "    </tr>\n",
       "    <tr>\n",
       "      <th>900</th>\n",
       "      <td>38</td>\n",
       "      <td>management</td>\n",
       "      <td>married</td>\n",
       "      <td>unknown</td>\n",
       "      <td>3576</td>\n",
       "      <td>no</td>\n",
       "      <td>cellular</td>\n",
       "      <td>25</td>\n",
       "      <td>nov</td>\n",
       "      <td>349</td>\n",
       "      <td>2</td>\n",
       "      <td>183</td>\n",
       "      <td>1</td>\n",
       "      <td>success</td>\n",
       "      <td>1</td>\n",
       "    </tr>\n",
       "    <tr>\n",
       "      <th>901</th>\n",
       "      <td>57</td>\n",
       "      <td>blue-collar</td>\n",
       "      <td>married</td>\n",
       "      <td>primary</td>\n",
       "      <td>195</td>\n",
       "      <td>no</td>\n",
       "      <td>telephone</td>\n",
       "      <td>30</td>\n",
       "      <td>jul</td>\n",
       "      <td>185</td>\n",
       "      <td>4</td>\n",
       "      <td>-1</td>\n",
       "      <td>0</td>\n",
       "      <td>unknown</td>\n",
       "      <td>0</td>\n",
       "    </tr>\n",
       "    <tr>\n",
       "      <th>902</th>\n",
       "      <td>52</td>\n",
       "      <td>management</td>\n",
       "      <td>married</td>\n",
       "      <td>secondary</td>\n",
       "      <td>428</td>\n",
       "      <td>yes</td>\n",
       "      <td>unknown</td>\n",
       "      <td>30</td>\n",
       "      <td>may</td>\n",
       "      <td>153</td>\n",
       "      <td>1</td>\n",
       "      <td>-1</td>\n",
       "      <td>0</td>\n",
       "      <td>unknown</td>\n",
       "      <td>0</td>\n",
       "    </tr>\n",
       "    <tr>\n",
       "      <th>903</th>\n",
       "      <td>31</td>\n",
       "      <td>technician</td>\n",
       "      <td>single</td>\n",
       "      <td>secondary</td>\n",
       "      <td>2305</td>\n",
       "      <td>no</td>\n",
       "      <td>cellular</td>\n",
       "      <td>4</td>\n",
       "      <td>aug</td>\n",
       "      <td>139</td>\n",
       "      <td>1</td>\n",
       "      <td>-1</td>\n",
       "      <td>0</td>\n",
       "      <td>unknown</td>\n",
       "      <td>0</td>\n",
       "    </tr>\n",
       "    <tr>\n",
       "      <th>904</th>\n",
       "      <td>24</td>\n",
       "      <td>services</td>\n",
       "      <td>married</td>\n",
       "      <td>secondary</td>\n",
       "      <td>4500</td>\n",
       "      <td>yes</td>\n",
       "      <td>cellular</td>\n",
       "      <td>11</td>\n",
       "      <td>may</td>\n",
       "      <td>733</td>\n",
       "      <td>2</td>\n",
       "      <td>-1</td>\n",
       "      <td>0</td>\n",
       "      <td>unknown</td>\n",
       "      <td>1</td>\n",
       "    </tr>\n",
       "  </tbody>\n",
       "</table>\n",
       "<p>905 rows × 15 columns</p>\n",
       "</div>"
      ],
      "text/plain": [
       "     age           job  marital  education  balance housing    contact  day  \\\n",
       "0     51  entrepreneur  married  secondary    -2082      no   cellular   28   \n",
       "1     50    management  married   tertiary     2881      no   cellular    5   \n",
       "2     50    technician  married  secondary     1412      no   cellular    6   \n",
       "3     37    management  married   tertiary        0     yes    unknown    3   \n",
       "4     31        admin.   single  secondary      757      no   cellular    3   \n",
       "..   ...           ...      ...        ...      ...     ...        ...  ...   \n",
       "900   38    management  married    unknown     3576      no   cellular   25   \n",
       "901   57   blue-collar  married    primary      195      no  telephone   30   \n",
       "902   52    management  married  secondary      428     yes    unknown   30   \n",
       "903   31    technician   single  secondary     2305      no   cellular    4   \n",
       "904   24      services  married  secondary     4500     yes   cellular   11   \n",
       "\n",
       "    month  duration  campaign  pdays  previous poutcome  y  \n",
       "0     jul       123         6     -1         0  unknown  0  \n",
       "1     aug       510         2      2         5    other  0  \n",
       "2     aug       131         3     -1         0  unknown  0  \n",
       "3     jun       247        13     -1         0  unknown  0  \n",
       "4     feb       343         2     -1         0  unknown  0  \n",
       "..    ...       ...       ...    ...       ...      ... ..  \n",
       "900   nov       349         2    183         1  success  1  \n",
       "901   jul       185         4     -1         0  unknown  0  \n",
       "902   may       153         1     -1         0  unknown  0  \n",
       "903   aug       139         1     -1         0  unknown  0  \n",
       "904   may       733         2     -1         0  unknown  1  \n",
       "\n",
       "[905 rows x 15 columns]"
      ]
     },
     "execution_count": 652,
     "metadata": {},
     "output_type": "execute_result"
    }
   ],
   "source": [
    "df_train.reset_index(drop=True)\n",
    "df_val.reset_index(drop=True)\n",
    "df_test.reset_index(drop=True)"
   ]
  },
  {
   "cell_type": "code",
   "execution_count": 653,
   "id": "e873c663-c226-4e6f-a35b-e0537727c2ab",
   "metadata": {},
   "outputs": [],
   "source": [
    "y_train = df_train.y.values\n",
    "y_val = df_val.y.values\n",
    "y_test = df_test.y.values"
   ]
  },
  {
   "cell_type": "code",
   "execution_count": 654,
   "id": "7eef1ee5-8760-4f77-ad88-d8a2b64da957",
   "metadata": {},
   "outputs": [],
   "source": [
    "del df_train[\"y\"]\n",
    "del df_val[\"y\"]\n",
    "del df_test[\"y\"]"
   ]
  },
  {
   "cell_type": "code",
   "execution_count": 655,
   "id": "36cb8c79-0c89-475e-aa60-e0a99901363d",
   "metadata": {},
   "outputs": [],
   "source": [
    "categorical = ['job', 'marital', 'education', 'housing', 'contact', 'month','poutcome']"
   ]
  },
  {
   "cell_type": "code",
   "execution_count": 656,
   "id": "c3830f35-ef7d-43c0-b8c3-d179e2e4141e",
   "metadata": {},
   "outputs": [],
   "source": [
    "from sklearn.metrics import mutual_info_score"
   ]
  },
  {
   "cell_type": "code",
   "execution_count": 657,
   "id": "e96c24c3-2d3d-4e15-8e80-9d335446fc3a",
   "metadata": {},
   "outputs": [],
   "source": [
    "def mutual_info_churn_score (series):\n",
    "    return round(mutual_info_score(series, y_test),2)\n",
    "mi=df_test[categorical].apply(mutual_info_churn_score)\n",
    "sorted_mi=mi.sort_values(ascending=False)"
   ]
  },
  {
   "cell_type": "code",
   "execution_count": 658,
   "id": "04d61b1a-e969-4b31-8cea-7fdbbc203e72",
   "metadata": {},
   "outputs": [
    {
     "name": "stdout",
     "output_type": "stream",
     "text": [
      "answer Q3: The variable with the biggest mutual information score with the target y is \"poutcome\"\n"
     ]
    }
   ],
   "source": [
    "answerQ3 = f'answer Q3: The variable with the biggest mutual information score with the target y is \"{sorted_mi.index[0]}\"'\n",
    "print(answerQ3)"
   ]
  },
  {
   "cell_type": "code",
   "execution_count": 659,
   "id": "acc390b0-1226-40b7-b555-b24c8eab83bc",
   "metadata": {},
   "outputs": [],
   "source": [
    "from sklearn.feature_extraction import DictVectorizer"
   ]
  },
  {
   "cell_type": "code",
   "execution_count": 660,
   "id": "bba1fde3-a597-4df8-abc7-486af1116a62",
   "metadata": {},
   "outputs": [],
   "source": [
    "column_features = categorical+numerical"
   ]
  },
  {
   "cell_type": "code",
   "execution_count": 661,
   "id": "efbe8c88-3bef-4ca1-a316-1758d370e662",
   "metadata": {},
   "outputs": [],
   "source": [
    "train_dicts=df_train[column_features].to_dict(orient='records')"
   ]
  },
  {
   "cell_type": "code",
   "execution_count": 662,
   "id": "1360e930-afef-4680-9d25-9df21c2309e2",
   "metadata": {},
   "outputs": [],
   "source": [
    "dv = DictVectorizer(sparse=False)"
   ]
  },
  {
   "cell_type": "code",
   "execution_count": 663,
   "id": "a97d5bb2-4971-4b05-84dd-f5c0b2c6e375",
   "metadata": {},
   "outputs": [],
   "source": [
    "X_train = dv.fit_transform(train_dicts)"
   ]
  },
  {
   "cell_type": "code",
   "execution_count": 664,
   "id": "0ffea112-b5cb-4150-b85c-ca7d7d5c3f4c",
   "metadata": {},
   "outputs": [],
   "source": [
    "from sklearn.linear_model import LogisticRegression"
   ]
  },
  {
   "cell_type": "code",
   "execution_count": 665,
   "id": "74dab30c-c4f9-43bd-8bdb-3aeb715a4b91",
   "metadata": {},
   "outputs": [],
   "source": [
    "model = LogisticRegression(solver='liblinear', C=1.0, max_iter=1000, random_state=42)"
   ]
  },
  {
   "cell_type": "code",
   "execution_count": 666,
   "id": "f28f5e37-df1f-4a8d-87e2-753a0badc525",
   "metadata": {},
   "outputs": [
    {
     "data": {
      "text/html": [
       "<style>#sk-container-id-12 {\n",
       "  /* Definition of color scheme common for light and dark mode */\n",
       "  --sklearn-color-text: black;\n",
       "  --sklearn-color-line: gray;\n",
       "  /* Definition of color scheme for unfitted estimators */\n",
       "  --sklearn-color-unfitted-level-0: #fff5e6;\n",
       "  --sklearn-color-unfitted-level-1: #f6e4d2;\n",
       "  --sklearn-color-unfitted-level-2: #ffe0b3;\n",
       "  --sklearn-color-unfitted-level-3: chocolate;\n",
       "  /* Definition of color scheme for fitted estimators */\n",
       "  --sklearn-color-fitted-level-0: #f0f8ff;\n",
       "  --sklearn-color-fitted-level-1: #d4ebff;\n",
       "  --sklearn-color-fitted-level-2: #b3dbfd;\n",
       "  --sklearn-color-fitted-level-3: cornflowerblue;\n",
       "\n",
       "  /* Specific color for light theme */\n",
       "  --sklearn-color-text-on-default-background: var(--sg-text-color, var(--theme-code-foreground, var(--jp-content-font-color1, black)));\n",
       "  --sklearn-color-background: var(--sg-background-color, var(--theme-background, var(--jp-layout-color0, white)));\n",
       "  --sklearn-color-border-box: var(--sg-text-color, var(--theme-code-foreground, var(--jp-content-font-color1, black)));\n",
       "  --sklearn-color-icon: #696969;\n",
       "\n",
       "  @media (prefers-color-scheme: dark) {\n",
       "    /* Redefinition of color scheme for dark theme */\n",
       "    --sklearn-color-text-on-default-background: var(--sg-text-color, var(--theme-code-foreground, var(--jp-content-font-color1, white)));\n",
       "    --sklearn-color-background: var(--sg-background-color, var(--theme-background, var(--jp-layout-color0, #111)));\n",
       "    --sklearn-color-border-box: var(--sg-text-color, var(--theme-code-foreground, var(--jp-content-font-color1, white)));\n",
       "    --sklearn-color-icon: #878787;\n",
       "  }\n",
       "}\n",
       "\n",
       "#sk-container-id-12 {\n",
       "  color: var(--sklearn-color-text);\n",
       "}\n",
       "\n",
       "#sk-container-id-12 pre {\n",
       "  padding: 0;\n",
       "}\n",
       "\n",
       "#sk-container-id-12 input.sk-hidden--visually {\n",
       "  border: 0;\n",
       "  clip: rect(1px 1px 1px 1px);\n",
       "  clip: rect(1px, 1px, 1px, 1px);\n",
       "  height: 1px;\n",
       "  margin: -1px;\n",
       "  overflow: hidden;\n",
       "  padding: 0;\n",
       "  position: absolute;\n",
       "  width: 1px;\n",
       "}\n",
       "\n",
       "#sk-container-id-12 div.sk-dashed-wrapped {\n",
       "  border: 1px dashed var(--sklearn-color-line);\n",
       "  margin: 0 0.4em 0.5em 0.4em;\n",
       "  box-sizing: border-box;\n",
       "  padding-bottom: 0.4em;\n",
       "  background-color: var(--sklearn-color-background);\n",
       "}\n",
       "\n",
       "#sk-container-id-12 div.sk-container {\n",
       "  /* jupyter's `normalize.less` sets `[hidden] { display: none; }`\n",
       "     but bootstrap.min.css set `[hidden] { display: none !important; }`\n",
       "     so we also need the `!important` here to be able to override the\n",
       "     default hidden behavior on the sphinx rendered scikit-learn.org.\n",
       "     See: https://github.com/scikit-learn/scikit-learn/issues/21755 */\n",
       "  display: inline-block !important;\n",
       "  position: relative;\n",
       "}\n",
       "\n",
       "#sk-container-id-12 div.sk-text-repr-fallback {\n",
       "  display: none;\n",
       "}\n",
       "\n",
       "div.sk-parallel-item,\n",
       "div.sk-serial,\n",
       "div.sk-item {\n",
       "  /* draw centered vertical line to link estimators */\n",
       "  background-image: linear-gradient(var(--sklearn-color-text-on-default-background), var(--sklearn-color-text-on-default-background));\n",
       "  background-size: 2px 100%;\n",
       "  background-repeat: no-repeat;\n",
       "  background-position: center center;\n",
       "}\n",
       "\n",
       "/* Parallel-specific style estimator block */\n",
       "\n",
       "#sk-container-id-12 div.sk-parallel-item::after {\n",
       "  content: \"\";\n",
       "  width: 100%;\n",
       "  border-bottom: 2px solid var(--sklearn-color-text-on-default-background);\n",
       "  flex-grow: 1;\n",
       "}\n",
       "\n",
       "#sk-container-id-12 div.sk-parallel {\n",
       "  display: flex;\n",
       "  align-items: stretch;\n",
       "  justify-content: center;\n",
       "  background-color: var(--sklearn-color-background);\n",
       "  position: relative;\n",
       "}\n",
       "\n",
       "#sk-container-id-12 div.sk-parallel-item {\n",
       "  display: flex;\n",
       "  flex-direction: column;\n",
       "}\n",
       "\n",
       "#sk-container-id-12 div.sk-parallel-item:first-child::after {\n",
       "  align-self: flex-end;\n",
       "  width: 50%;\n",
       "}\n",
       "\n",
       "#sk-container-id-12 div.sk-parallel-item:last-child::after {\n",
       "  align-self: flex-start;\n",
       "  width: 50%;\n",
       "}\n",
       "\n",
       "#sk-container-id-12 div.sk-parallel-item:only-child::after {\n",
       "  width: 0;\n",
       "}\n",
       "\n",
       "/* Serial-specific style estimator block */\n",
       "\n",
       "#sk-container-id-12 div.sk-serial {\n",
       "  display: flex;\n",
       "  flex-direction: column;\n",
       "  align-items: center;\n",
       "  background-color: var(--sklearn-color-background);\n",
       "  padding-right: 1em;\n",
       "  padding-left: 1em;\n",
       "}\n",
       "\n",
       "\n",
       "/* Toggleable style: style used for estimator/Pipeline/ColumnTransformer box that is\n",
       "clickable and can be expanded/collapsed.\n",
       "- Pipeline and ColumnTransformer use this feature and define the default style\n",
       "- Estimators will overwrite some part of the style using the `sk-estimator` class\n",
       "*/\n",
       "\n",
       "/* Pipeline and ColumnTransformer style (default) */\n",
       "\n",
       "#sk-container-id-12 div.sk-toggleable {\n",
       "  /* Default theme specific background. It is overwritten whether we have a\n",
       "  specific estimator or a Pipeline/ColumnTransformer */\n",
       "  background-color: var(--sklearn-color-background);\n",
       "}\n",
       "\n",
       "/* Toggleable label */\n",
       "#sk-container-id-12 label.sk-toggleable__label {\n",
       "  cursor: pointer;\n",
       "  display: block;\n",
       "  width: 100%;\n",
       "  margin-bottom: 0;\n",
       "  padding: 0.5em;\n",
       "  box-sizing: border-box;\n",
       "  text-align: center;\n",
       "}\n",
       "\n",
       "#sk-container-id-12 label.sk-toggleable__label-arrow:before {\n",
       "  /* Arrow on the left of the label */\n",
       "  content: \"▸\";\n",
       "  float: left;\n",
       "  margin-right: 0.25em;\n",
       "  color: var(--sklearn-color-icon);\n",
       "}\n",
       "\n",
       "#sk-container-id-12 label.sk-toggleable__label-arrow:hover:before {\n",
       "  color: var(--sklearn-color-text);\n",
       "}\n",
       "\n",
       "/* Toggleable content - dropdown */\n",
       "\n",
       "#sk-container-id-12 div.sk-toggleable__content {\n",
       "  max-height: 0;\n",
       "  max-width: 0;\n",
       "  overflow: hidden;\n",
       "  text-align: left;\n",
       "  /* unfitted */\n",
       "  background-color: var(--sklearn-color-unfitted-level-0);\n",
       "}\n",
       "\n",
       "#sk-container-id-12 div.sk-toggleable__content.fitted {\n",
       "  /* fitted */\n",
       "  background-color: var(--sklearn-color-fitted-level-0);\n",
       "}\n",
       "\n",
       "#sk-container-id-12 div.sk-toggleable__content pre {\n",
       "  margin: 0.2em;\n",
       "  border-radius: 0.25em;\n",
       "  color: var(--sklearn-color-text);\n",
       "  /* unfitted */\n",
       "  background-color: var(--sklearn-color-unfitted-level-0);\n",
       "}\n",
       "\n",
       "#sk-container-id-12 div.sk-toggleable__content.fitted pre {\n",
       "  /* unfitted */\n",
       "  background-color: var(--sklearn-color-fitted-level-0);\n",
       "}\n",
       "\n",
       "#sk-container-id-12 input.sk-toggleable__control:checked~div.sk-toggleable__content {\n",
       "  /* Expand drop-down */\n",
       "  max-height: 200px;\n",
       "  max-width: 100%;\n",
       "  overflow: auto;\n",
       "}\n",
       "\n",
       "#sk-container-id-12 input.sk-toggleable__control:checked~label.sk-toggleable__label-arrow:before {\n",
       "  content: \"▾\";\n",
       "}\n",
       "\n",
       "/* Pipeline/ColumnTransformer-specific style */\n",
       "\n",
       "#sk-container-id-12 div.sk-label input.sk-toggleable__control:checked~label.sk-toggleable__label {\n",
       "  color: var(--sklearn-color-text);\n",
       "  background-color: var(--sklearn-color-unfitted-level-2);\n",
       "}\n",
       "\n",
       "#sk-container-id-12 div.sk-label.fitted input.sk-toggleable__control:checked~label.sk-toggleable__label {\n",
       "  background-color: var(--sklearn-color-fitted-level-2);\n",
       "}\n",
       "\n",
       "/* Estimator-specific style */\n",
       "\n",
       "/* Colorize estimator box */\n",
       "#sk-container-id-12 div.sk-estimator input.sk-toggleable__control:checked~label.sk-toggleable__label {\n",
       "  /* unfitted */\n",
       "  background-color: var(--sklearn-color-unfitted-level-2);\n",
       "}\n",
       "\n",
       "#sk-container-id-12 div.sk-estimator.fitted input.sk-toggleable__control:checked~label.sk-toggleable__label {\n",
       "  /* fitted */\n",
       "  background-color: var(--sklearn-color-fitted-level-2);\n",
       "}\n",
       "\n",
       "#sk-container-id-12 div.sk-label label.sk-toggleable__label,\n",
       "#sk-container-id-12 div.sk-label label {\n",
       "  /* The background is the default theme color */\n",
       "  color: var(--sklearn-color-text-on-default-background);\n",
       "}\n",
       "\n",
       "/* On hover, darken the color of the background */\n",
       "#sk-container-id-12 div.sk-label:hover label.sk-toggleable__label {\n",
       "  color: var(--sklearn-color-text);\n",
       "  background-color: var(--sklearn-color-unfitted-level-2);\n",
       "}\n",
       "\n",
       "/* Label box, darken color on hover, fitted */\n",
       "#sk-container-id-12 div.sk-label.fitted:hover label.sk-toggleable__label.fitted {\n",
       "  color: var(--sklearn-color-text);\n",
       "  background-color: var(--sklearn-color-fitted-level-2);\n",
       "}\n",
       "\n",
       "/* Estimator label */\n",
       "\n",
       "#sk-container-id-12 div.sk-label label {\n",
       "  font-family: monospace;\n",
       "  font-weight: bold;\n",
       "  display: inline-block;\n",
       "  line-height: 1.2em;\n",
       "}\n",
       "\n",
       "#sk-container-id-12 div.sk-label-container {\n",
       "  text-align: center;\n",
       "}\n",
       "\n",
       "/* Estimator-specific */\n",
       "#sk-container-id-12 div.sk-estimator {\n",
       "  font-family: monospace;\n",
       "  border: 1px dotted var(--sklearn-color-border-box);\n",
       "  border-radius: 0.25em;\n",
       "  box-sizing: border-box;\n",
       "  margin-bottom: 0.5em;\n",
       "  /* unfitted */\n",
       "  background-color: var(--sklearn-color-unfitted-level-0);\n",
       "}\n",
       "\n",
       "#sk-container-id-12 div.sk-estimator.fitted {\n",
       "  /* fitted */\n",
       "  background-color: var(--sklearn-color-fitted-level-0);\n",
       "}\n",
       "\n",
       "/* on hover */\n",
       "#sk-container-id-12 div.sk-estimator:hover {\n",
       "  /* unfitted */\n",
       "  background-color: var(--sklearn-color-unfitted-level-2);\n",
       "}\n",
       "\n",
       "#sk-container-id-12 div.sk-estimator.fitted:hover {\n",
       "  /* fitted */\n",
       "  background-color: var(--sklearn-color-fitted-level-2);\n",
       "}\n",
       "\n",
       "/* Specification for estimator info (e.g. \"i\" and \"?\") */\n",
       "\n",
       "/* Common style for \"i\" and \"?\" */\n",
       "\n",
       ".sk-estimator-doc-link,\n",
       "a:link.sk-estimator-doc-link,\n",
       "a:visited.sk-estimator-doc-link {\n",
       "  float: right;\n",
       "  font-size: smaller;\n",
       "  line-height: 1em;\n",
       "  font-family: monospace;\n",
       "  background-color: var(--sklearn-color-background);\n",
       "  border-radius: 1em;\n",
       "  height: 1em;\n",
       "  width: 1em;\n",
       "  text-decoration: none !important;\n",
       "  margin-left: 1ex;\n",
       "  /* unfitted */\n",
       "  border: var(--sklearn-color-unfitted-level-1) 1pt solid;\n",
       "  color: var(--sklearn-color-unfitted-level-1);\n",
       "}\n",
       "\n",
       ".sk-estimator-doc-link.fitted,\n",
       "a:link.sk-estimator-doc-link.fitted,\n",
       "a:visited.sk-estimator-doc-link.fitted {\n",
       "  /* fitted */\n",
       "  border: var(--sklearn-color-fitted-level-1) 1pt solid;\n",
       "  color: var(--sklearn-color-fitted-level-1);\n",
       "}\n",
       "\n",
       "/* On hover */\n",
       "div.sk-estimator:hover .sk-estimator-doc-link:hover,\n",
       ".sk-estimator-doc-link:hover,\n",
       "div.sk-label-container:hover .sk-estimator-doc-link:hover,\n",
       ".sk-estimator-doc-link:hover {\n",
       "  /* unfitted */\n",
       "  background-color: var(--sklearn-color-unfitted-level-3);\n",
       "  color: var(--sklearn-color-background);\n",
       "  text-decoration: none;\n",
       "}\n",
       "\n",
       "div.sk-estimator.fitted:hover .sk-estimator-doc-link.fitted:hover,\n",
       ".sk-estimator-doc-link.fitted:hover,\n",
       "div.sk-label-container:hover .sk-estimator-doc-link.fitted:hover,\n",
       ".sk-estimator-doc-link.fitted:hover {\n",
       "  /* fitted */\n",
       "  background-color: var(--sklearn-color-fitted-level-3);\n",
       "  color: var(--sklearn-color-background);\n",
       "  text-decoration: none;\n",
       "}\n",
       "\n",
       "/* Span, style for the box shown on hovering the info icon */\n",
       ".sk-estimator-doc-link span {\n",
       "  display: none;\n",
       "  z-index: 9999;\n",
       "  position: relative;\n",
       "  font-weight: normal;\n",
       "  right: .2ex;\n",
       "  padding: .5ex;\n",
       "  margin: .5ex;\n",
       "  width: min-content;\n",
       "  min-width: 20ex;\n",
       "  max-width: 50ex;\n",
       "  color: var(--sklearn-color-text);\n",
       "  box-shadow: 2pt 2pt 4pt #999;\n",
       "  /* unfitted */\n",
       "  background: var(--sklearn-color-unfitted-level-0);\n",
       "  border: .5pt solid var(--sklearn-color-unfitted-level-3);\n",
       "}\n",
       "\n",
       ".sk-estimator-doc-link.fitted span {\n",
       "  /* fitted */\n",
       "  background: var(--sklearn-color-fitted-level-0);\n",
       "  border: var(--sklearn-color-fitted-level-3);\n",
       "}\n",
       "\n",
       ".sk-estimator-doc-link:hover span {\n",
       "  display: block;\n",
       "}\n",
       "\n",
       "/* \"?\"-specific style due to the `<a>` HTML tag */\n",
       "\n",
       "#sk-container-id-12 a.estimator_doc_link {\n",
       "  float: right;\n",
       "  font-size: 1rem;\n",
       "  line-height: 1em;\n",
       "  font-family: monospace;\n",
       "  background-color: var(--sklearn-color-background);\n",
       "  border-radius: 1rem;\n",
       "  height: 1rem;\n",
       "  width: 1rem;\n",
       "  text-decoration: none;\n",
       "  /* unfitted */\n",
       "  color: var(--sklearn-color-unfitted-level-1);\n",
       "  border: var(--sklearn-color-unfitted-level-1) 1pt solid;\n",
       "}\n",
       "\n",
       "#sk-container-id-12 a.estimator_doc_link.fitted {\n",
       "  /* fitted */\n",
       "  border: var(--sklearn-color-fitted-level-1) 1pt solid;\n",
       "  color: var(--sklearn-color-fitted-level-1);\n",
       "}\n",
       "\n",
       "/* On hover */\n",
       "#sk-container-id-12 a.estimator_doc_link:hover {\n",
       "  /* unfitted */\n",
       "  background-color: var(--sklearn-color-unfitted-level-3);\n",
       "  color: var(--sklearn-color-background);\n",
       "  text-decoration: none;\n",
       "}\n",
       "\n",
       "#sk-container-id-12 a.estimator_doc_link.fitted:hover {\n",
       "  /* fitted */\n",
       "  background-color: var(--sklearn-color-fitted-level-3);\n",
       "}\n",
       "</style><div id=\"sk-container-id-12\" class=\"sk-top-container\"><div class=\"sk-text-repr-fallback\"><pre>LogisticRegression(max_iter=1000, random_state=42, solver=&#x27;liblinear&#x27;)</pre><b>In a Jupyter environment, please rerun this cell to show the HTML representation or trust the notebook. <br />On GitHub, the HTML representation is unable to render, please try loading this page with nbviewer.org.</b></div><div class=\"sk-container\" hidden><div class=\"sk-item\"><div class=\"sk-estimator fitted sk-toggleable\"><input class=\"sk-toggleable__control sk-hidden--visually\" id=\"sk-estimator-id-12\" type=\"checkbox\" checked><label for=\"sk-estimator-id-12\" class=\"sk-toggleable__label fitted sk-toggleable__label-arrow fitted\">&nbsp;&nbsp;LogisticRegression<a class=\"sk-estimator-doc-link fitted\" rel=\"noreferrer\" target=\"_blank\" href=\"https://scikit-learn.org/1.4/modules/generated/sklearn.linear_model.LogisticRegression.html\">?<span>Documentation for LogisticRegression</span></a><span class=\"sk-estimator-doc-link fitted\">i<span>Fitted</span></span></label><div class=\"sk-toggleable__content fitted\"><pre>LogisticRegression(max_iter=1000, random_state=42, solver=&#x27;liblinear&#x27;)</pre></div> </div></div></div></div>"
      ],
      "text/plain": [
       "LogisticRegression(max_iter=1000, random_state=42, solver='liblinear')"
      ]
     },
     "execution_count": 666,
     "metadata": {},
     "output_type": "execute_result"
    }
   ],
   "source": [
    "model.fit(X_train,y_train)"
   ]
  },
  {
   "cell_type": "code",
   "execution_count": 667,
   "id": "6bb2ab97-f2ac-4341-9dce-491c91b56fb7",
   "metadata": {},
   "outputs": [
    {
     "data": {
      "text/plain": [
       "array([ 5.84208910e-03, -1.56366192e-05, -5.01654265e-02,  1.35148385e-01,\n",
       "        2.25069361e-01, -1.27532094e+00,  3.91514399e-03,  4.15542661e-03,\n",
       "       -3.59018553e-01,  1.23144570e-02,  1.87513581e-02, -5.87150458e-01,\n",
       "       -2.32270134e-01, -6.82833062e-01, -2.60369475e-02, -5.87600963e-01,\n",
       "       -6.49688428e-01,  6.17418763e-02,  6.72349045e-02,  4.88907443e-01,\n",
       "        2.43663450e-02, -2.22717436e-01,  3.38279098e-01, -3.47412945e-01,\n",
       "       -2.75302187e-01,  2.13126042e-01,  8.84443523e-03, -5.97455763e-01,\n",
       "       -3.26491868e-01,  1.19689854e-01, -7.45755505e-01,  4.40753062e-01,\n",
       "       -3.47317559e-01, -7.82787931e-01, -8.80688390e-01,  2.28223774e-01,\n",
       "        9.38992525e-01, -6.50733742e-01, -7.99564011e-01,  1.01879269e+00,\n",
       "        5.45292037e-01, -1.38677894e-03, -1.11135660e+00, -4.44271141e-02,\n",
       "        1.58095122e+00, -1.34027070e+00, -1.64026684e-02])"
      ]
     },
     "execution_count": 667,
     "metadata": {},
     "output_type": "execute_result"
    }
   ],
   "source": [
    "model.coef_[0]"
   ]
  },
  {
   "cell_type": "code",
   "execution_count": 668,
   "id": "443328a3-c6fd-43a0-9b90-46e29ddf404c",
   "metadata": {},
   "outputs": [
    {
     "data": {
      "text/plain": [
       "-0.9151031959846387"
      ]
     },
     "execution_count": 668,
     "metadata": {},
     "output_type": "execute_result"
    }
   ],
   "source": [
    "model.intercept_[0]"
   ]
  },
  {
   "cell_type": "code",
   "execution_count": 669,
   "id": "575cdb39-e7bf-40aa-99e9-9a34d4203eb6",
   "metadata": {},
   "outputs": [],
   "source": [
    "val_dicts = df_val[column_features].to_dict(orient='records')"
   ]
  },
  {
   "cell_type": "code",
   "execution_count": 670,
   "id": "58c3f217-f83a-432c-8a51-5e70871b8041",
   "metadata": {},
   "outputs": [],
   "source": [
    "X_val=dv.transform(val_dicts)"
   ]
  },
  {
   "cell_type": "code",
   "execution_count": 671,
   "id": "87e84b06-5f7e-49cd-9cc6-26086427a601",
   "metadata": {},
   "outputs": [],
   "source": [
    "y_pred_val = model.predict(X_val)"
   ]
  },
  {
   "cell_type": "code",
   "execution_count": 672,
   "id": "88aa6dc4-5ad5-47a1-98fa-50d9cd6e5da2",
   "metadata": {},
   "outputs": [],
   "source": [
    "all_features_accuracy = round((y_pred_val == y_val).mean(), 2)"
   ]
  },
  {
   "cell_type": "code",
   "execution_count": 673,
   "id": "773bf3ac-e805-4d8c-a78a-99c7c0808540",
   "metadata": {},
   "outputs": [
    {
     "name": "stdout",
     "output_type": "stream",
     "text": [
      "answer Q4: The accuracy on the validation dataset is \"0.9\"\n"
     ]
    }
   ],
   "source": [
    "answerQ4 = f'answer Q4: The accuracy on the validation dataset is \"{round(all_features_accuracy, 1)}\"'\n",
    "print(answerQ4)"
   ]
  },
  {
   "cell_type": "code",
   "execution_count": 674,
   "id": "ecdaec38-6edb-4d6c-a084-d9c39658c3ee",
   "metadata": {},
   "outputs": [],
   "source": [
    "def train_logistic_regression_accuracy(df_train, y_train, df_val, y_val, features, model, decimal_places=0):\n",
    "    _train_dicts = df_train[features].to_dict(orient='records')\n",
    "    _X_train = dv.fit_transform(_train_dicts)\n",
    "    model.fit(_X_train, y_train)\n",
    "    _val_dicts = df_val[features].to_dict(orient='records')    \n",
    "    _X_val = dv.transform(_val_dicts)\n",
    "    y_pred_val = model.predict(_X_val)\n",
    "    accuracy = (y_val == y_pred_val).mean()\n",
    "    if (decimal_places==0):\n",
    "        return accuracy\n",
    "    else:\n",
    "        return round(accuracy,decimal_places)\n",
    "        \n",
    " "
   ]
  },
  {
   "cell_type": "code",
   "execution_count": 675,
   "id": "5a3ac82c-0eb8-4a90-b029-dbeba1147325",
   "metadata": {},
   "outputs": [],
   "source": [
    "def train_logistic_regression_excluding_features(df_train, y_train, df_val, y_val, features):\n",
    "    model = LogisticRegression(solver='liblinear', C=1.0, max_iter=1000, random_state=42)\n",
    "    results = pd.DataFrame(columns=['accuracy'])\n",
    "    for selected_feature in features:\n",
    "        _features = features.copy()\n",
    "        _features.remove(selected_feature)\n",
    "        accuracy = train_logistic_regression_accuracy(df_train, y_train, df_val, y_val, _features, model)\n",
    "        results.loc[selected_feature]=[accuracy]\n",
    "    return results\n",
    " "
   ]
  },
  {
   "cell_type": "code",
   "execution_count": 676,
   "id": "b922d0ae-3321-403b-a0da-e60d31c9ebd4",
   "metadata": {},
   "outputs": [],
   "source": [
    "accuracy_df = train_logistic_regression_excluding_features(df_train, y_train, df_val, y_val, column_features)"
   ]
  },
  {
   "cell_type": "code",
   "execution_count": 677,
   "id": "341d2d83-a977-48d2-b830-61929b1aec39",
   "metadata": {},
   "outputs": [],
   "source": [
    "accuracy_df[\"difference\"]=accuracy_df[\"accuracy\"]-all_features_accuracy"
   ]
  },
  {
   "cell_type": "code",
   "execution_count": 678,
   "id": "70e7c4c1-7534-4336-8b6c-777c62c448a9",
   "metadata": {},
   "outputs": [],
   "source": [
    "accuracy_df[\"abs_difference\"] = accuracy_df[\"difference\"].abs()"
   ]
  },
  {
   "cell_type": "code",
   "execution_count": 679,
   "id": "edfbf383-693a-4f1b-8a41-15be58408943",
   "metadata": {},
   "outputs": [
    {
     "data": {
      "text/html": [
       "<div>\n",
       "<style scoped>\n",
       "    .dataframe tbody tr th:only-of-type {\n",
       "        vertical-align: middle;\n",
       "    }\n",
       "\n",
       "    .dataframe tbody tr th {\n",
       "        vertical-align: top;\n",
       "    }\n",
       "\n",
       "    .dataframe thead th {\n",
       "        text-align: right;\n",
       "    }\n",
       "</style>\n",
       "<table border=\"1\" class=\"dataframe\">\n",
       "  <thead>\n",
       "    <tr style=\"text-align: right;\">\n",
       "      <th></th>\n",
       "      <th>accuracy</th>\n",
       "      <th>difference</th>\n",
       "      <th>abs_difference</th>\n",
       "    </tr>\n",
       "  </thead>\n",
       "  <tbody>\n",
       "    <tr>\n",
       "      <th>job</th>\n",
       "      <td>0.892699</td>\n",
       "      <td>0.002699</td>\n",
       "      <td>0.002699</td>\n",
       "    </tr>\n",
       "    <tr>\n",
       "      <th>marital</th>\n",
       "      <td>0.890487</td>\n",
       "      <td>0.000487</td>\n",
       "      <td>0.000487</td>\n",
       "    </tr>\n",
       "    <tr>\n",
       "      <th>education</th>\n",
       "      <td>0.889381</td>\n",
       "      <td>-0.000619</td>\n",
       "      <td>0.000619</td>\n",
       "    </tr>\n",
       "    <tr>\n",
       "      <th>housing</th>\n",
       "      <td>0.887168</td>\n",
       "      <td>-0.002832</td>\n",
       "      <td>0.002832</td>\n",
       "    </tr>\n",
       "    <tr>\n",
       "      <th>contact</th>\n",
       "      <td>0.887168</td>\n",
       "      <td>-0.002832</td>\n",
       "      <td>0.002832</td>\n",
       "    </tr>\n",
       "    <tr>\n",
       "      <th>month</th>\n",
       "      <td>0.884956</td>\n",
       "      <td>-0.005044</td>\n",
       "      <td>0.005044</td>\n",
       "    </tr>\n",
       "    <tr>\n",
       "      <th>poutcome</th>\n",
       "      <td>0.878319</td>\n",
       "      <td>-0.011681</td>\n",
       "      <td>0.011681</td>\n",
       "    </tr>\n",
       "    <tr>\n",
       "      <th>age</th>\n",
       "      <td>0.888274</td>\n",
       "      <td>-0.001726</td>\n",
       "      <td>0.001726</td>\n",
       "    </tr>\n",
       "    <tr>\n",
       "      <th>balance</th>\n",
       "      <td>0.886062</td>\n",
       "      <td>-0.003938</td>\n",
       "      <td>0.003938</td>\n",
       "    </tr>\n",
       "    <tr>\n",
       "      <th>day</th>\n",
       "      <td>0.887168</td>\n",
       "      <td>-0.002832</td>\n",
       "      <td>0.002832</td>\n",
       "    </tr>\n",
       "    <tr>\n",
       "      <th>duration</th>\n",
       "      <td>0.875000</td>\n",
       "      <td>-0.015000</td>\n",
       "      <td>0.015000</td>\n",
       "    </tr>\n",
       "    <tr>\n",
       "      <th>campaign</th>\n",
       "      <td>0.887168</td>\n",
       "      <td>-0.002832</td>\n",
       "      <td>0.002832</td>\n",
       "    </tr>\n",
       "    <tr>\n",
       "      <th>pdays</th>\n",
       "      <td>0.888274</td>\n",
       "      <td>-0.001726</td>\n",
       "      <td>0.001726</td>\n",
       "    </tr>\n",
       "    <tr>\n",
       "      <th>previous</th>\n",
       "      <td>0.884956</td>\n",
       "      <td>-0.005044</td>\n",
       "      <td>0.005044</td>\n",
       "    </tr>\n",
       "  </tbody>\n",
       "</table>\n",
       "</div>"
      ],
      "text/plain": [
       "           accuracy  difference  abs_difference\n",
       "job        0.892699    0.002699        0.002699\n",
       "marital    0.890487    0.000487        0.000487\n",
       "education  0.889381   -0.000619        0.000619\n",
       "housing    0.887168   -0.002832        0.002832\n",
       "contact    0.887168   -0.002832        0.002832\n",
       "month      0.884956   -0.005044        0.005044\n",
       "poutcome   0.878319   -0.011681        0.011681\n",
       "age        0.888274   -0.001726        0.001726\n",
       "balance    0.886062   -0.003938        0.003938\n",
       "day        0.887168   -0.002832        0.002832\n",
       "duration   0.875000   -0.015000        0.015000\n",
       "campaign   0.887168   -0.002832        0.002832\n",
       "pdays      0.888274   -0.001726        0.001726\n",
       "previous   0.884956   -0.005044        0.005044"
      ]
     },
     "execution_count": 679,
     "metadata": {},
     "output_type": "execute_result"
    }
   ],
   "source": [
    "accuracy_df"
   ]
  },
  {
   "cell_type": "code",
   "execution_count": 680,
   "id": "80ad6b77-94c8-497a-aa3f-0d0002fc7fea",
   "metadata": {},
   "outputs": [
    {
     "data": {
      "text/plain": [
       "marital      0.000487\n",
       "education    0.000619\n",
       "age          0.001726\n",
       "pdays        0.001726\n",
       "job          0.002699\n",
       "housing      0.002832\n",
       "contact      0.002832\n",
       "day          0.002832\n",
       "campaign     0.002832\n",
       "balance      0.003938\n",
       "month        0.005044\n",
       "previous     0.005044\n",
       "poutcome     0.011681\n",
       "duration     0.015000\n",
       "Name: abs_difference, dtype: float64"
      ]
     },
     "execution_count": 680,
     "metadata": {},
     "output_type": "execute_result"
    }
   ],
   "source": [
    "accuracy_df_sorted = accuracy_df[\"abs_difference\"].sort_values()\n",
    "accuracy_df_sorted"
   ]
  },
  {
   "cell_type": "code",
   "execution_count": 681,
   "id": "161f3918-4739-4616-8c22-fc929e4c9762",
   "metadata": {},
   "outputs": [
    {
     "name": "stdout",
     "output_type": "stream",
     "text": [
      "answer Q5: The feature with the smallest difference is: marital\n"
     ]
    }
   ],
   "source": [
    "answerQ5 = f'answer Q5: The feature with the smallest difference is: {accuracy_df_sorted.index[0]}'\n",
    "print(answerQ5)"
   ]
  },
  {
   "cell_type": "code",
   "execution_count": 682,
   "id": "dd55491e-ff8f-434f-a9a7-033fe12e9e5a",
   "metadata": {},
   "outputs": [],
   "source": [
    "def train_logistic_regression_reg(df_train, y_train, df_val, y_val, features, c=1.0):\n",
    "    model = LogisticRegression(solver='liblinear', C=c, max_iter=1000, random_state=42)\n",
    "    round_to_decimals=3\n",
    "    accuracy = train_logistic_regression_accuracy(df_train, y_train, df_val, y_val, features, model, round_to_decimals)\n",
    "    return accuracy"
   ]
  },
  {
   "cell_type": "code",
   "execution_count": 683,
   "id": "8c2a5a02-f42e-4bb1-8c29-e80cea31e7b9",
   "metadata": {},
   "outputs": [],
   "source": [
    "def train_logistic_regression_reg_multiple_c(df_train, y_train, df_val, y_val, features):\n",
    "    possible_cs = [0.01, 0.1, 1, 10, 100]\n",
    "    accuracy_result_dict = {}\n",
    "    for c in possible_cs:\n",
    "        accuracy_result_dict[c]=train_logistic_regression_reg(df_train, y_train, df_val, y_val, features, c)\n",
    "    return accuracy_result_dict\n",
    "        "
   ]
  },
  {
   "cell_type": "code",
   "execution_count": 684,
   "id": "5cdbe225-15b9-41a5-8fb1-b3a1dee82e39",
   "metadata": {},
   "outputs": [],
   "source": [
    "accuracy_dict =train_logistic_regression_reg_multiple_c(df_train, y_train, df_val, y_val, column_features)"
   ]
  },
  {
   "cell_type": "code",
   "execution_count": 685,
   "id": "dabbd3cf-2b90-48d1-830f-671fbcc59a63",
   "metadata": {},
   "outputs": [
    {
     "data": {
      "text/plain": [
       "{0.01: 0.876, 0.1: 0.883, 1: 0.888, 10: 0.888, 100: 0.887}"
      ]
     },
     "execution_count": 685,
     "metadata": {},
     "output_type": "execute_result"
    }
   ],
   "source": [
    "accuracy_dict"
   ]
  },
  {
   "cell_type": "code",
   "execution_count": 686,
   "id": "ee6b0638-3937-4d17-8e09-1698d8c56b87",
   "metadata": {},
   "outputs": [
    {
     "data": {
      "text/plain": [
       "0.01"
      ]
     },
     "execution_count": 686,
     "metadata": {},
     "output_type": "execute_result"
    }
   ],
   "source": [
    "min_key=min(accuracy_dict, key=accuracy_dict.get)\n",
    "min_key\n"
   ]
  },
  {
   "cell_type": "code",
   "execution_count": 687,
   "id": "135b67f6-0a50-4ad0-adb6-9668579f172d",
   "metadata": {},
   "outputs": [
    {
     "name": "stdout",
     "output_type": "stream",
     "text": [
      "answer Q6: The value of c that leads to the best accuracy is: 0.01\n"
     ]
    }
   ],
   "source": [
    "answerQ6 = f'answer Q6: The value of c that leads to the best accuracy is: {min_key}'\n",
    "print(answerQ6)"
   ]
  },
  {
   "cell_type": "code",
   "execution_count": null,
   "id": "b40b4f9d-336f-4649-827b-f8d7b840a403",
   "metadata": {},
   "outputs": [],
   "source": []
  }
 ],
 "metadata": {
  "kernelspec": {
   "display_name": "Python 3 (ipykernel)",
   "language": "python",
   "name": "python3"
  },
  "language_info": {
   "codemirror_mode": {
    "name": "ipython",
    "version": 3
   },
   "file_extension": ".py",
   "mimetype": "text/x-python",
   "name": "python",
   "nbconvert_exporter": "python",
   "pygments_lexer": "ipython3",
   "version": "3.12.4"
  }
 },
 "nbformat": 4,
 "nbformat_minor": 5
}
