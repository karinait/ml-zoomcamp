{
 "cells": [
  {
   "cell_type": "code",
   "execution_count": 1,
   "id": "677b2ea6-b72a-4e90-8f04-d54c4131e227",
   "metadata": {},
   "outputs": [],
   "source": [
    "import pickle\n"
   ]
  },
  {
   "cell_type": "code",
   "execution_count": 2,
   "id": "68720e80-5ec7-4be1-96f4-9115512772aa",
   "metadata": {},
   "outputs": [
    {
     "name": "stdout",
     "output_type": "stream",
     "text": [
      "--2024-10-28 16:16:17--  https://raw.githubusercontent.com/DataTalksClub/machine-learning-zoomcamp/master/cohorts/2024/05-deployment/homework/model1.bin\n",
      "Resolving raw.githubusercontent.com (raw.githubusercontent.com)... 185.199.109.133, 185.199.108.133, 185.199.111.133, ...\n",
      "Connecting to raw.githubusercontent.com (raw.githubusercontent.com)|185.199.109.133|:443... connected.\n",
      "HTTP request sent, awaiting response... 200 OK\n",
      "Length: 850 [application/octet-stream]\n",
      "Saving to: ‘model1.bin.2’\n",
      "\n",
      "model1.bin.2        100%[===================>]     850  --.-KB/s    in 0s      \n",
      "\n",
      "2024-10-28 16:16:17 (50.6 MB/s) - ‘model1.bin.2’ saved [850/850]\n",
      "\n",
      "--2024-10-28 16:16:17--  https://raw.githubusercontent.com/DataTalksClub/machine-learning-zoomcamp/master/cohorts/2024/05-deployment/homework/dv.bin\n",
      "Resolving raw.githubusercontent.com (raw.githubusercontent.com)... 185.199.108.133, 185.199.110.133, 185.199.109.133, ...\n",
      "Connecting to raw.githubusercontent.com (raw.githubusercontent.com)|185.199.108.133|:443... connected.\n",
      "HTTP request sent, awaiting response... 200 OK\n",
      "Length: 560 [application/octet-stream]\n",
      "Saving to: ‘dv.bin.2’\n",
      "\n",
      "dv.bin.2            100%[===================>]     560  --.-KB/s    in 0s      \n",
      "\n",
      "2024-10-28 16:16:18 (62.6 MB/s) - ‘dv.bin.2’ saved [560/560]\n",
      "\n"
     ]
    }
   ],
   "source": [
    "PREFIX=\"https://raw.githubusercontent.com/DataTalksClub/machine-learning-zoomcamp/master/cohorts/2024/05-deployment/homework\"\n",
    "!wget $PREFIX/model1.bin\n",
    "!wget $PREFIX/dv.bin"
   ]
  },
  {
   "cell_type": "code",
   "execution_count": 3,
   "id": "c1a98b2d-8c18-4903-976c-8bae81661667",
   "metadata": {},
   "outputs": [],
   "source": [
    "model_file=\"model1.bin\"\n",
    "with open(model_file, 'rb') as f_in:\n",
    "    model = pickle.load(f_in)\n"
   ]
  },
  {
   "cell_type": "code",
   "execution_count": 4,
   "id": "42b1dee1-f3c4-4f22-8290-3e752f30180d",
   "metadata": {},
   "outputs": [
    {
     "name": "stdout",
     "output_type": "stream",
     "text": [
      "<class 'sklearn.linear_model._logistic.LogisticRegression'>\n"
     ]
    }
   ],
   "source": [
    "print(type(model))"
   ]
  },
  {
   "cell_type": "code",
   "execution_count": 5,
   "id": "a4f02e8b-e988-4f2a-a001-194062f51a66",
   "metadata": {},
   "outputs": [],
   "source": [
    "dv_file=\"dv.bin\"\n",
    "with open(dv_file, 'rb') as f_in:\n",
    "    dv = pickle.load(f_in)"
   ]
  },
  {
   "cell_type": "code",
   "execution_count": 6,
   "id": "ea1ec122-8ea6-4e22-ad99-788820fab948",
   "metadata": {},
   "outputs": [
    {
     "name": "stdout",
     "output_type": "stream",
     "text": [
      "<class 'sklearn.feature_extraction._dict_vectorizer.DictVectorizer'>\n"
     ]
    }
   ],
   "source": [
    "print(type(dv))"
   ]
  },
  {
   "cell_type": "code",
   "execution_count": 7,
   "id": "2b3c6dd0-7caa-4c7d-8c93-83ecfe6b8ebe",
   "metadata": {},
   "outputs": [
    {
     "data": {
      "text/plain": [
       "0.7590966516879658"
      ]
     },
     "execution_count": 7,
     "metadata": {},
     "output_type": "execute_result"
    }
   ],
   "source": [
    "X = dv.transform({\"job\": \"management\", \"duration\": 400, \"poutcome\": \"success\"})\n",
    "y_pred_proba=model.predict_proba(X)[0,1]\n",
    "y_pred_proba"
   ]
  },
  {
   "cell_type": "code",
   "execution_count": null,
   "id": "c043d2e7-bd2d-40c1-9665-3f3e861b4135",
   "metadata": {},
   "outputs": [],
   "source": []
  }
 ],
 "metadata": {
  "kernelspec": {
   "display_name": "Python 3 (ipykernel)",
   "language": "python",
   "name": "python3"
  },
  "language_info": {
   "codemirror_mode": {
    "name": "ipython",
    "version": 3
   },
   "file_extension": ".py",
   "mimetype": "text/x-python",
   "name": "python",
   "nbconvert_exporter": "python",
   "pygments_lexer": "ipython3",
   "version": "3.12.4"
  }
 },
 "nbformat": 4,
 "nbformat_minor": 5
}
