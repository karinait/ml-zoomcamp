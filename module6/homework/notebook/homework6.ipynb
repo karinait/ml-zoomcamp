{
 "cells": [
  {
   "cell_type": "code",
   "execution_count": 83,
   "id": "983ba3ec-08aa-44e5-a09a-5ac472cb762e",
   "metadata": {},
   "outputs": [],
   "source": [
    "import pandas as pd"
   ]
  },
  {
   "cell_type": "code",
   "execution_count": 84,
   "id": "ed69b183-f65a-4597-8718-7f9280ac7826",
   "metadata": {},
   "outputs": [
    {
     "name": "stdout",
     "output_type": "stream",
     "text": [
      "--2024-11-04 11:44:08--  https://github.com/alexeygrigorev/datasets/raw/refs/heads/master/jamb_exam_results.csv\n",
      "Resolving github.com (github.com)... 140.82.112.4\n",
      "Connecting to github.com (github.com)|140.82.112.4|:443... connected.\n",
      "HTTP request sent, awaiting response... 302 Found\n",
      "Location: https://raw.githubusercontent.com/alexeygrigorev/datasets/refs/heads/master/jamb_exam_results.csv [following]\n",
      "--2024-11-04 11:44:08--  https://raw.githubusercontent.com/alexeygrigorev/datasets/refs/heads/master/jamb_exam_results.csv\n",
      "Resolving raw.githubusercontent.com (raw.githubusercontent.com)... 185.199.109.133, 185.199.111.133, 185.199.108.133, ...\n",
      "Connecting to raw.githubusercontent.com (raw.githubusercontent.com)|185.199.109.133|:443... connected.\n",
      "HTTP request sent, awaiting response... 200 OK\n",
      "Length: 391501 (382K) [text/plain]\n",
      "Saving to: ‘../dataset/jamb.csv’\n",
      "\n",
      "../dataset/jamb.csv 100%[===================>] 382.33K  --.-KB/s    in 0.06s   \n",
      "\n",
      "2024-11-04 11:44:09 (6.23 MB/s) - ‘../dataset/jamb.csv’ saved [391501/391501]\n",
      "\n"
     ]
    }
   ],
   "source": [
    "!wget \"https://github.com/alexeygrigorev/datasets/raw/refs/heads/master/jamb_exam_results.csv\" -O \"../dataset/jamb.csv\""
   ]
  },
  {
   "cell_type": "code",
   "execution_count": 85,
   "id": "4123fb8c-0d59-4516-ab41-9b2927a4322a",
   "metadata": {},
   "outputs": [],
   "source": [
    "df = pd.read_csv(\"../dataset/jamb.csv\", keep_default_na=False, na_values=['', 'NaN', 'null'])"
   ]
  },
  {
   "cell_type": "markdown",
   "id": "a9ac01ef-d549-447c-8aca-b48535363dff",
   "metadata": {},
   "source": [
    "# Data Preparation"
   ]
  },
  {
   "cell_type": "code",
   "execution_count": 86,
   "id": "7d37aae1-3836-440a-b46a-c4d37d35f432",
   "metadata": {},
   "outputs": [],
   "source": [
    "df.columns = df.columns.str.lower().str.replace(' ', '_')"
   ]
  },
  {
   "cell_type": "code",
   "execution_count": 87,
   "id": "7bb44ab7-e91a-4b51-8719-9bbab2b25b70",
   "metadata": {},
   "outputs": [
    {
     "data": {
      "text/html": [
       "<div>\n",
       "<style scoped>\n",
       "    .dataframe tbody tr th:only-of-type {\n",
       "        vertical-align: middle;\n",
       "    }\n",
       "\n",
       "    .dataframe tbody tr th {\n",
       "        vertical-align: top;\n",
       "    }\n",
       "\n",
       "    .dataframe thead th {\n",
       "        text-align: right;\n",
       "    }\n",
       "</style>\n",
       "<table border=\"1\" class=\"dataframe\">\n",
       "  <thead>\n",
       "    <tr style=\"text-align: right;\">\n",
       "      <th></th>\n",
       "      <th>0</th>\n",
       "      <th>1</th>\n",
       "      <th>2</th>\n",
       "      <th>3</th>\n",
       "      <th>4</th>\n",
       "    </tr>\n",
       "  </thead>\n",
       "  <tbody>\n",
       "    <tr>\n",
       "      <th>jamb_score</th>\n",
       "      <td>192</td>\n",
       "      <td>207</td>\n",
       "      <td>182</td>\n",
       "      <td>210</td>\n",
       "      <td>199</td>\n",
       "    </tr>\n",
       "    <tr>\n",
       "      <th>study_hours_per_week</th>\n",
       "      <td>22</td>\n",
       "      <td>14</td>\n",
       "      <td>29</td>\n",
       "      <td>29</td>\n",
       "      <td>12</td>\n",
       "    </tr>\n",
       "    <tr>\n",
       "      <th>attendance_rate</th>\n",
       "      <td>78</td>\n",
       "      <td>88</td>\n",
       "      <td>87</td>\n",
       "      <td>99</td>\n",
       "      <td>98</td>\n",
       "    </tr>\n",
       "    <tr>\n",
       "      <th>teacher_quality</th>\n",
       "      <td>4</td>\n",
       "      <td>4</td>\n",
       "      <td>2</td>\n",
       "      <td>2</td>\n",
       "      <td>3</td>\n",
       "    </tr>\n",
       "    <tr>\n",
       "      <th>distance_to_school</th>\n",
       "      <td>12.4</td>\n",
       "      <td>2.7</td>\n",
       "      <td>9.6</td>\n",
       "      <td>2.6</td>\n",
       "      <td>8.8</td>\n",
       "    </tr>\n",
       "    <tr>\n",
       "      <th>school_type</th>\n",
       "      <td>Public</td>\n",
       "      <td>Public</td>\n",
       "      <td>Public</td>\n",
       "      <td>Public</td>\n",
       "      <td>Public</td>\n",
       "    </tr>\n",
       "    <tr>\n",
       "      <th>school_location</th>\n",
       "      <td>Urban</td>\n",
       "      <td>Rural</td>\n",
       "      <td>Rural</td>\n",
       "      <td>Urban</td>\n",
       "      <td>Urban</td>\n",
       "    </tr>\n",
       "    <tr>\n",
       "      <th>extra_tutorials</th>\n",
       "      <td>Yes</td>\n",
       "      <td>No</td>\n",
       "      <td>Yes</td>\n",
       "      <td>No</td>\n",
       "      <td>No</td>\n",
       "    </tr>\n",
       "    <tr>\n",
       "      <th>access_to_learning_materials</th>\n",
       "      <td>Yes</td>\n",
       "      <td>Yes</td>\n",
       "      <td>Yes</td>\n",
       "      <td>Yes</td>\n",
       "      <td>Yes</td>\n",
       "    </tr>\n",
       "    <tr>\n",
       "      <th>parent_involvement</th>\n",
       "      <td>High</td>\n",
       "      <td>High</td>\n",
       "      <td>High</td>\n",
       "      <td>Medium</td>\n",
       "      <td>Medium</td>\n",
       "    </tr>\n",
       "    <tr>\n",
       "      <th>it_knowledge</th>\n",
       "      <td>Medium</td>\n",
       "      <td>High</td>\n",
       "      <td>Medium</td>\n",
       "      <td>High</td>\n",
       "      <td>Medium</td>\n",
       "    </tr>\n",
       "    <tr>\n",
       "      <th>student_id</th>\n",
       "      <td>1</td>\n",
       "      <td>2</td>\n",
       "      <td>3</td>\n",
       "      <td>4</td>\n",
       "      <td>5</td>\n",
       "    </tr>\n",
       "    <tr>\n",
       "      <th>age</th>\n",
       "      <td>17</td>\n",
       "      <td>15</td>\n",
       "      <td>20</td>\n",
       "      <td>22</td>\n",
       "      <td>22</td>\n",
       "    </tr>\n",
       "    <tr>\n",
       "      <th>gender</th>\n",
       "      <td>Male</td>\n",
       "      <td>Male</td>\n",
       "      <td>Female</td>\n",
       "      <td>Female</td>\n",
       "      <td>Female</td>\n",
       "    </tr>\n",
       "    <tr>\n",
       "      <th>socioeconomic_status</th>\n",
       "      <td>Low</td>\n",
       "      <td>High</td>\n",
       "      <td>High</td>\n",
       "      <td>Medium</td>\n",
       "      <td>Medium</td>\n",
       "    </tr>\n",
       "    <tr>\n",
       "      <th>parent_education_level</th>\n",
       "      <td>Tertiary</td>\n",
       "      <td>None</td>\n",
       "      <td>Tertiary</td>\n",
       "      <td>Tertiary</td>\n",
       "      <td>Tertiary</td>\n",
       "    </tr>\n",
       "    <tr>\n",
       "      <th>assignments_completed</th>\n",
       "      <td>2</td>\n",
       "      <td>1</td>\n",
       "      <td>2</td>\n",
       "      <td>1</td>\n",
       "      <td>1</td>\n",
       "    </tr>\n",
       "  </tbody>\n",
       "</table>\n",
       "</div>"
      ],
      "text/plain": [
       "                                     0       1         2         3         4\n",
       "jamb_score                         192     207       182       210       199\n",
       "study_hours_per_week                22      14        29        29        12\n",
       "attendance_rate                     78      88        87        99        98\n",
       "teacher_quality                      4       4         2         2         3\n",
       "distance_to_school                12.4     2.7       9.6       2.6       8.8\n",
       "school_type                     Public  Public    Public    Public    Public\n",
       "school_location                  Urban   Rural     Rural     Urban     Urban\n",
       "extra_tutorials                    Yes      No       Yes        No        No\n",
       "access_to_learning_materials       Yes     Yes       Yes       Yes       Yes\n",
       "parent_involvement                High    High      High    Medium    Medium\n",
       "it_knowledge                    Medium    High    Medium      High    Medium\n",
       "student_id                           1       2         3         4         5\n",
       "age                                 17      15        20        22        22\n",
       "gender                            Male    Male    Female    Female    Female\n",
       "socioeconomic_status               Low    High      High    Medium    Medium\n",
       "parent_education_level        Tertiary    None  Tertiary  Tertiary  Tertiary\n",
       "assignments_completed                2       1         2         1         1"
      ]
     },
     "execution_count": 87,
     "metadata": {},
     "output_type": "execute_result"
    }
   ],
   "source": [
    "df.head().T"
   ]
  },
  {
   "cell_type": "code",
   "execution_count": 88,
   "id": "91aecb22-0ff1-44c4-ae8a-a399ca29e131",
   "metadata": {},
   "outputs": [
    {
     "data": {
      "text/html": [
       "<div>\n",
       "<style scoped>\n",
       "    .dataframe tbody tr th:only-of-type {\n",
       "        vertical-align: middle;\n",
       "    }\n",
       "\n",
       "    .dataframe tbody tr th {\n",
       "        vertical-align: top;\n",
       "    }\n",
       "\n",
       "    .dataframe thead th {\n",
       "        text-align: right;\n",
       "    }\n",
       "</style>\n",
       "<table border=\"1\" class=\"dataframe\">\n",
       "  <thead>\n",
       "    <tr style=\"text-align: right;\">\n",
       "      <th></th>\n",
       "      <th>0</th>\n",
       "      <th>1</th>\n",
       "      <th>2</th>\n",
       "      <th>3</th>\n",
       "      <th>4</th>\n",
       "    </tr>\n",
       "  </thead>\n",
       "  <tbody>\n",
       "    <tr>\n",
       "      <th>jamb_score</th>\n",
       "      <td>192</td>\n",
       "      <td>207</td>\n",
       "      <td>182</td>\n",
       "      <td>210</td>\n",
       "      <td>199</td>\n",
       "    </tr>\n",
       "    <tr>\n",
       "      <th>study_hours_per_week</th>\n",
       "      <td>22</td>\n",
       "      <td>14</td>\n",
       "      <td>29</td>\n",
       "      <td>29</td>\n",
       "      <td>12</td>\n",
       "    </tr>\n",
       "    <tr>\n",
       "      <th>attendance_rate</th>\n",
       "      <td>78</td>\n",
       "      <td>88</td>\n",
       "      <td>87</td>\n",
       "      <td>99</td>\n",
       "      <td>98</td>\n",
       "    </tr>\n",
       "    <tr>\n",
       "      <th>teacher_quality</th>\n",
       "      <td>4</td>\n",
       "      <td>4</td>\n",
       "      <td>2</td>\n",
       "      <td>2</td>\n",
       "      <td>3</td>\n",
       "    </tr>\n",
       "    <tr>\n",
       "      <th>distance_to_school</th>\n",
       "      <td>12.4</td>\n",
       "      <td>2.7</td>\n",
       "      <td>9.6</td>\n",
       "      <td>2.6</td>\n",
       "      <td>8.8</td>\n",
       "    </tr>\n",
       "    <tr>\n",
       "      <th>school_type</th>\n",
       "      <td>Public</td>\n",
       "      <td>Public</td>\n",
       "      <td>Public</td>\n",
       "      <td>Public</td>\n",
       "      <td>Public</td>\n",
       "    </tr>\n",
       "    <tr>\n",
       "      <th>school_location</th>\n",
       "      <td>Urban</td>\n",
       "      <td>Rural</td>\n",
       "      <td>Rural</td>\n",
       "      <td>Urban</td>\n",
       "      <td>Urban</td>\n",
       "    </tr>\n",
       "    <tr>\n",
       "      <th>extra_tutorials</th>\n",
       "      <td>Yes</td>\n",
       "      <td>No</td>\n",
       "      <td>Yes</td>\n",
       "      <td>No</td>\n",
       "      <td>No</td>\n",
       "    </tr>\n",
       "    <tr>\n",
       "      <th>access_to_learning_materials</th>\n",
       "      <td>Yes</td>\n",
       "      <td>Yes</td>\n",
       "      <td>Yes</td>\n",
       "      <td>Yes</td>\n",
       "      <td>Yes</td>\n",
       "    </tr>\n",
       "    <tr>\n",
       "      <th>parent_involvement</th>\n",
       "      <td>High</td>\n",
       "      <td>High</td>\n",
       "      <td>High</td>\n",
       "      <td>Medium</td>\n",
       "      <td>Medium</td>\n",
       "    </tr>\n",
       "    <tr>\n",
       "      <th>it_knowledge</th>\n",
       "      <td>Medium</td>\n",
       "      <td>High</td>\n",
       "      <td>Medium</td>\n",
       "      <td>High</td>\n",
       "      <td>Medium</td>\n",
       "    </tr>\n",
       "    <tr>\n",
       "      <th>age</th>\n",
       "      <td>17</td>\n",
       "      <td>15</td>\n",
       "      <td>20</td>\n",
       "      <td>22</td>\n",
       "      <td>22</td>\n",
       "    </tr>\n",
       "    <tr>\n",
       "      <th>gender</th>\n",
       "      <td>Male</td>\n",
       "      <td>Male</td>\n",
       "      <td>Female</td>\n",
       "      <td>Female</td>\n",
       "      <td>Female</td>\n",
       "    </tr>\n",
       "    <tr>\n",
       "      <th>socioeconomic_status</th>\n",
       "      <td>Low</td>\n",
       "      <td>High</td>\n",
       "      <td>High</td>\n",
       "      <td>Medium</td>\n",
       "      <td>Medium</td>\n",
       "    </tr>\n",
       "    <tr>\n",
       "      <th>parent_education_level</th>\n",
       "      <td>Tertiary</td>\n",
       "      <td>None</td>\n",
       "      <td>Tertiary</td>\n",
       "      <td>Tertiary</td>\n",
       "      <td>Tertiary</td>\n",
       "    </tr>\n",
       "    <tr>\n",
       "      <th>assignments_completed</th>\n",
       "      <td>2</td>\n",
       "      <td>1</td>\n",
       "      <td>2</td>\n",
       "      <td>1</td>\n",
       "      <td>1</td>\n",
       "    </tr>\n",
       "  </tbody>\n",
       "</table>\n",
       "</div>"
      ],
      "text/plain": [
       "                                     0       1         2         3         4\n",
       "jamb_score                         192     207       182       210       199\n",
       "study_hours_per_week                22      14        29        29        12\n",
       "attendance_rate                     78      88        87        99        98\n",
       "teacher_quality                      4       4         2         2         3\n",
       "distance_to_school                12.4     2.7       9.6       2.6       8.8\n",
       "school_type                     Public  Public    Public    Public    Public\n",
       "school_location                  Urban   Rural     Rural     Urban     Urban\n",
       "extra_tutorials                    Yes      No       Yes        No        No\n",
       "access_to_learning_materials       Yes     Yes       Yes       Yes       Yes\n",
       "parent_involvement                High    High      High    Medium    Medium\n",
       "it_knowledge                    Medium    High    Medium      High    Medium\n",
       "age                                 17      15        20        22        22\n",
       "gender                            Male    Male    Female    Female    Female\n",
       "socioeconomic_status               Low    High      High    Medium    Medium\n",
       "parent_education_level        Tertiary    None  Tertiary  Tertiary  Tertiary\n",
       "assignments_completed                2       1         2         1         1"
      ]
     },
     "execution_count": 88,
     "metadata": {},
     "output_type": "execute_result"
    }
   ],
   "source": [
    "del df['student_id']\n",
    "df.head().T"
   ]
  },
  {
   "cell_type": "code",
   "execution_count": 89,
   "id": "2cb133ac-1f8e-47db-a88f-743cd3711272",
   "metadata": {},
   "outputs": [
    {
     "data": {
      "text/plain": [
       "array(['Tertiary', 'None', 'Primary', 'Secondary'], dtype=object)"
      ]
     },
     "execution_count": 89,
     "metadata": {},
     "output_type": "execute_result"
    }
   ],
   "source": [
    "df.parent_education_level.unique()"
   ]
  },
  {
   "cell_type": "code",
   "execution_count": 90,
   "id": "6b3e8577-4cc6-41f1-9120-58a17bb7c5ab",
   "metadata": {},
   "outputs": [
    {
     "data": {
      "text/plain": [
       "jamb_score                      0\n",
       "study_hours_per_week            0\n",
       "attendance_rate                 0\n",
       "teacher_quality                 0\n",
       "distance_to_school              0\n",
       "school_type                     0\n",
       "school_location                 0\n",
       "extra_tutorials                 0\n",
       "access_to_learning_materials    0\n",
       "parent_involvement              0\n",
       "it_knowledge                    0\n",
       "age                             0\n",
       "gender                          0\n",
       "socioeconomic_status            0\n",
       "parent_education_level          0\n",
       "assignments_completed           0\n",
       "dtype: int64"
      ]
     },
     "execution_count": 90,
     "metadata": {},
     "output_type": "execute_result"
    }
   ],
   "source": [
    "df.isnull().sum()"
   ]
  },
  {
   "cell_type": "code",
   "execution_count": 91,
   "id": "32452d7d-b01b-4b92-a41f-3fa67f341fe5",
   "metadata": {},
   "outputs": [
    {
     "data": {
      "text/html": [
       "<div>\n",
       "<style scoped>\n",
       "    .dataframe tbody tr th:only-of-type {\n",
       "        vertical-align: middle;\n",
       "    }\n",
       "\n",
       "    .dataframe tbody tr th {\n",
       "        vertical-align: top;\n",
       "    }\n",
       "\n",
       "    .dataframe thead th {\n",
       "        text-align: right;\n",
       "    }\n",
       "</style>\n",
       "<table border=\"1\" class=\"dataframe\">\n",
       "  <thead>\n",
       "    <tr style=\"text-align: right;\">\n",
       "      <th></th>\n",
       "      <th>jamb_score</th>\n",
       "      <th>study_hours_per_week</th>\n",
       "      <th>attendance_rate</th>\n",
       "      <th>teacher_quality</th>\n",
       "      <th>distance_to_school</th>\n",
       "      <th>school_type</th>\n",
       "      <th>school_location</th>\n",
       "      <th>extra_tutorials</th>\n",
       "      <th>access_to_learning_materials</th>\n",
       "      <th>parent_involvement</th>\n",
       "      <th>it_knowledge</th>\n",
       "      <th>age</th>\n",
       "      <th>gender</th>\n",
       "      <th>socioeconomic_status</th>\n",
       "      <th>parent_education_level</th>\n",
       "      <th>assignments_completed</th>\n",
       "    </tr>\n",
       "  </thead>\n",
       "  <tbody>\n",
       "    <tr>\n",
       "      <th>0</th>\n",
       "      <td>192</td>\n",
       "      <td>22</td>\n",
       "      <td>78</td>\n",
       "      <td>4</td>\n",
       "      <td>12.4</td>\n",
       "      <td>Public</td>\n",
       "      <td>Urban</td>\n",
       "      <td>Yes</td>\n",
       "      <td>Yes</td>\n",
       "      <td>High</td>\n",
       "      <td>Medium</td>\n",
       "      <td>17</td>\n",
       "      <td>Male</td>\n",
       "      <td>Low</td>\n",
       "      <td>Tertiary</td>\n",
       "      <td>2</td>\n",
       "    </tr>\n",
       "    <tr>\n",
       "      <th>1</th>\n",
       "      <td>207</td>\n",
       "      <td>14</td>\n",
       "      <td>88</td>\n",
       "      <td>4</td>\n",
       "      <td>2.7</td>\n",
       "      <td>Public</td>\n",
       "      <td>Rural</td>\n",
       "      <td>No</td>\n",
       "      <td>Yes</td>\n",
       "      <td>High</td>\n",
       "      <td>High</td>\n",
       "      <td>15</td>\n",
       "      <td>Male</td>\n",
       "      <td>High</td>\n",
       "      <td>None</td>\n",
       "      <td>1</td>\n",
       "    </tr>\n",
       "    <tr>\n",
       "      <th>2</th>\n",
       "      <td>182</td>\n",
       "      <td>29</td>\n",
       "      <td>87</td>\n",
       "      <td>2</td>\n",
       "      <td>9.6</td>\n",
       "      <td>Public</td>\n",
       "      <td>Rural</td>\n",
       "      <td>Yes</td>\n",
       "      <td>Yes</td>\n",
       "      <td>High</td>\n",
       "      <td>Medium</td>\n",
       "      <td>20</td>\n",
       "      <td>Female</td>\n",
       "      <td>High</td>\n",
       "      <td>Tertiary</td>\n",
       "      <td>2</td>\n",
       "    </tr>\n",
       "    <tr>\n",
       "      <th>3</th>\n",
       "      <td>210</td>\n",
       "      <td>29</td>\n",
       "      <td>99</td>\n",
       "      <td>2</td>\n",
       "      <td>2.6</td>\n",
       "      <td>Public</td>\n",
       "      <td>Urban</td>\n",
       "      <td>No</td>\n",
       "      <td>Yes</td>\n",
       "      <td>Medium</td>\n",
       "      <td>High</td>\n",
       "      <td>22</td>\n",
       "      <td>Female</td>\n",
       "      <td>Medium</td>\n",
       "      <td>Tertiary</td>\n",
       "      <td>1</td>\n",
       "    </tr>\n",
       "    <tr>\n",
       "      <th>4</th>\n",
       "      <td>199</td>\n",
       "      <td>12</td>\n",
       "      <td>98</td>\n",
       "      <td>3</td>\n",
       "      <td>8.8</td>\n",
       "      <td>Public</td>\n",
       "      <td>Urban</td>\n",
       "      <td>No</td>\n",
       "      <td>Yes</td>\n",
       "      <td>Medium</td>\n",
       "      <td>Medium</td>\n",
       "      <td>22</td>\n",
       "      <td>Female</td>\n",
       "      <td>Medium</td>\n",
       "      <td>Tertiary</td>\n",
       "      <td>1</td>\n",
       "    </tr>\n",
       "    <tr>\n",
       "      <th>...</th>\n",
       "      <td>...</td>\n",
       "      <td>...</td>\n",
       "      <td>...</td>\n",
       "      <td>...</td>\n",
       "      <td>...</td>\n",
       "      <td>...</td>\n",
       "      <td>...</td>\n",
       "      <td>...</td>\n",
       "      <td>...</td>\n",
       "      <td>...</td>\n",
       "      <td>...</td>\n",
       "      <td>...</td>\n",
       "      <td>...</td>\n",
       "      <td>...</td>\n",
       "      <td>...</td>\n",
       "      <td>...</td>\n",
       "    </tr>\n",
       "    <tr>\n",
       "      <th>4995</th>\n",
       "      <td>183</td>\n",
       "      <td>20</td>\n",
       "      <td>74</td>\n",
       "      <td>2</td>\n",
       "      <td>10.6</td>\n",
       "      <td>Public</td>\n",
       "      <td>Urban</td>\n",
       "      <td>Yes</td>\n",
       "      <td>No</td>\n",
       "      <td>Low</td>\n",
       "      <td>Low</td>\n",
       "      <td>16</td>\n",
       "      <td>Male</td>\n",
       "      <td>Medium</td>\n",
       "      <td>Primary</td>\n",
       "      <td>2</td>\n",
       "    </tr>\n",
       "    <tr>\n",
       "      <th>4996</th>\n",
       "      <td>179</td>\n",
       "      <td>0</td>\n",
       "      <td>80</td>\n",
       "      <td>2</td>\n",
       "      <td>20.0</td>\n",
       "      <td>Public</td>\n",
       "      <td>Rural</td>\n",
       "      <td>No</td>\n",
       "      <td>Yes</td>\n",
       "      <td>Medium</td>\n",
       "      <td>Medium</td>\n",
       "      <td>22</td>\n",
       "      <td>Male</td>\n",
       "      <td>Low</td>\n",
       "      <td>Secondary</td>\n",
       "      <td>1</td>\n",
       "    </tr>\n",
       "    <tr>\n",
       "      <th>4997</th>\n",
       "      <td>261</td>\n",
       "      <td>17</td>\n",
       "      <td>89</td>\n",
       "      <td>3</td>\n",
       "      <td>11.3</td>\n",
       "      <td>Public</td>\n",
       "      <td>Urban</td>\n",
       "      <td>No</td>\n",
       "      <td>No</td>\n",
       "      <td>Low</td>\n",
       "      <td>High</td>\n",
       "      <td>18</td>\n",
       "      <td>Male</td>\n",
       "      <td>Medium</td>\n",
       "      <td>Primary</td>\n",
       "      <td>3</td>\n",
       "    </tr>\n",
       "    <tr>\n",
       "      <th>4998</th>\n",
       "      <td>183</td>\n",
       "      <td>15</td>\n",
       "      <td>96</td>\n",
       "      <td>2</td>\n",
       "      <td>15.9</td>\n",
       "      <td>Public</td>\n",
       "      <td>Rural</td>\n",
       "      <td>No</td>\n",
       "      <td>No</td>\n",
       "      <td>Low</td>\n",
       "      <td>Medium</td>\n",
       "      <td>18</td>\n",
       "      <td>Male</td>\n",
       "      <td>Medium</td>\n",
       "      <td>Secondary</td>\n",
       "      <td>1</td>\n",
       "    </tr>\n",
       "    <tr>\n",
       "      <th>4999</th>\n",
       "      <td>218</td>\n",
       "      <td>34</td>\n",
       "      <td>100</td>\n",
       "      <td>1</td>\n",
       "      <td>7.0</td>\n",
       "      <td>Public</td>\n",
       "      <td>Urban</td>\n",
       "      <td>Yes</td>\n",
       "      <td>Yes</td>\n",
       "      <td>Medium</td>\n",
       "      <td>Medium</td>\n",
       "      <td>16</td>\n",
       "      <td>Female</td>\n",
       "      <td>High</td>\n",
       "      <td>None</td>\n",
       "      <td>2</td>\n",
       "    </tr>\n",
       "  </tbody>\n",
       "</table>\n",
       "<p>5000 rows × 16 columns</p>\n",
       "</div>"
      ],
      "text/plain": [
       "      jamb_score  study_hours_per_week  attendance_rate  teacher_quality  \\\n",
       "0            192                    22               78                4   \n",
       "1            207                    14               88                4   \n",
       "2            182                    29               87                2   \n",
       "3            210                    29               99                2   \n",
       "4            199                    12               98                3   \n",
       "...          ...                   ...              ...              ...   \n",
       "4995         183                    20               74                2   \n",
       "4996         179                     0               80                2   \n",
       "4997         261                    17               89                3   \n",
       "4998         183                    15               96                2   \n",
       "4999         218                    34              100                1   \n",
       "\n",
       "      distance_to_school school_type school_location extra_tutorials  \\\n",
       "0                   12.4      Public           Urban             Yes   \n",
       "1                    2.7      Public           Rural              No   \n",
       "2                    9.6      Public           Rural             Yes   \n",
       "3                    2.6      Public           Urban              No   \n",
       "4                    8.8      Public           Urban              No   \n",
       "...                  ...         ...             ...             ...   \n",
       "4995                10.6      Public           Urban             Yes   \n",
       "4996                20.0      Public           Rural              No   \n",
       "4997                11.3      Public           Urban              No   \n",
       "4998                15.9      Public           Rural              No   \n",
       "4999                 7.0      Public           Urban             Yes   \n",
       "\n",
       "     access_to_learning_materials parent_involvement it_knowledge  age  \\\n",
       "0                             Yes               High       Medium   17   \n",
       "1                             Yes               High         High   15   \n",
       "2                             Yes               High       Medium   20   \n",
       "3                             Yes             Medium         High   22   \n",
       "4                             Yes             Medium       Medium   22   \n",
       "...                           ...                ...          ...  ...   \n",
       "4995                           No                Low          Low   16   \n",
       "4996                          Yes             Medium       Medium   22   \n",
       "4997                           No                Low         High   18   \n",
       "4998                           No                Low       Medium   18   \n",
       "4999                          Yes             Medium       Medium   16   \n",
       "\n",
       "      gender socioeconomic_status parent_education_level  \\\n",
       "0       Male                  Low               Tertiary   \n",
       "1       Male                 High                   None   \n",
       "2     Female                 High               Tertiary   \n",
       "3     Female               Medium               Tertiary   \n",
       "4     Female               Medium               Tertiary   \n",
       "...      ...                  ...                    ...   \n",
       "4995    Male               Medium                Primary   \n",
       "4996    Male                  Low              Secondary   \n",
       "4997    Male               Medium                Primary   \n",
       "4998    Male               Medium              Secondary   \n",
       "4999  Female                 High                   None   \n",
       "\n",
       "      assignments_completed  \n",
       "0                         2  \n",
       "1                         1  \n",
       "2                         2  \n",
       "3                         1  \n",
       "4                         1  \n",
       "...                     ...  \n",
       "4995                      2  \n",
       "4996                      1  \n",
       "4997                      3  \n",
       "4998                      1  \n",
       "4999                      2  \n",
       "\n",
       "[5000 rows x 16 columns]"
      ]
     },
     "execution_count": 91,
     "metadata": {},
     "output_type": "execute_result"
    }
   ],
   "source": [
    "df.fillna(0) #just in case"
   ]
  },
  {
   "cell_type": "code",
   "execution_count": 92,
   "id": "d0c2a6cb-07e6-460e-8048-d18edc2138a1",
   "metadata": {},
   "outputs": [],
   "source": [
    "from sklearn.model_selection import train_test_split"
   ]
  },
  {
   "cell_type": "code",
   "execution_count": 93,
   "id": "3fdd5813-3ea0-42ac-8d10-ebe7908161c0",
   "metadata": {},
   "outputs": [],
   "source": [
    "df_full_train, df_test = train_test_split(df, test_size=0.2, random_state=1)\n",
    "df_train, df_val = train_test_split(df_full_train, test_size=0.25, random_state=1)"
   ]
  },
  {
   "cell_type": "code",
   "execution_count": 94,
   "id": "f019d943-78e8-4d85-a62d-25cda4b0a08a",
   "metadata": {},
   "outputs": [
    {
     "data": {
      "text/plain": [
       "(5000, 3000, 1000, 1000)"
      ]
     },
     "execution_count": 94,
     "metadata": {},
     "output_type": "execute_result"
    }
   ],
   "source": [
    "len(df), len(df_train), len(df_test), len(df_val)"
   ]
  },
  {
   "cell_type": "code",
   "execution_count": 95,
   "id": "21c58977-d042-401a-b382-40f58b3bfcd7",
   "metadata": {},
   "outputs": [],
   "source": [
    "df_train = df_train.reset_index(drop=True)\n",
    "df_val = df_val.reset_index(drop=True)\n",
    "df_test = df_test.reset_index(drop=True)"
   ]
  },
  {
   "cell_type": "code",
   "execution_count": 96,
   "id": "0bf0a964-6630-425e-bbf9-2a8116f91fb0",
   "metadata": {},
   "outputs": [],
   "source": [
    "y_train= df_train['jamb_score']\n",
    "y_val= df_val['jamb_score']\n",
    "y_test= df_test['jamb_score']"
   ]
  },
  {
   "cell_type": "code",
   "execution_count": 97,
   "id": "5e6aba82-6b0b-47f7-8045-dcee67e87cdb",
   "metadata": {},
   "outputs": [
    {
     "data": {
      "text/plain": [
       "(3000, 1000, 1000)"
      ]
     },
     "execution_count": 97,
     "metadata": {},
     "output_type": "execute_result"
    }
   ],
   "source": [
    "len(y_train), len(y_val), len(y_test)"
   ]
  },
  {
   "cell_type": "code",
   "execution_count": 98,
   "id": "97156f6b-0c37-4352-973e-793e50d2f83f",
   "metadata": {},
   "outputs": [],
   "source": [
    "del df_train['jamb_score']\n",
    "del df_val['jamb_score']\n",
    "del df_test['jamb_score']"
   ]
  },
  {
   "cell_type": "code",
   "execution_count": 99,
   "id": "65d2bef5-3e38-4345-96db-04f830d534e2",
   "metadata": {},
   "outputs": [],
   "source": [
    "from sklearn.feature_extraction import DictVectorizer"
   ]
  },
  {
   "cell_type": "code",
   "execution_count": 100,
   "id": "5748aed2-f017-4aaa-8b06-af193e5c38d5",
   "metadata": {},
   "outputs": [],
   "source": [
    "dv = DictVectorizer(sparse=True)"
   ]
  },
  {
   "cell_type": "code",
   "execution_count": 101,
   "id": "463f301a-8f48-46f0-859c-d87594e12c14",
   "metadata": {},
   "outputs": [],
   "source": [
    "train_dicts = df_train.to_dict(orient='records')\n",
    "val_dicts = df_val.to_dict(orient='records')\n",
    "test_dicts = df_test.to_dict(orient='records')"
   ]
  },
  {
   "cell_type": "code",
   "execution_count": 102,
   "id": "1a9dfc30-f9fb-4e5f-9c02-21c146fe3f64",
   "metadata": {},
   "outputs": [],
   "source": [
    "X_train=dv.fit_transform(train_dicts)\n",
    "X_val = dv.transform(val_dicts)\n",
    "X_test = dv.transform(test_dicts)"
   ]
  },
  {
   "cell_type": "code",
   "execution_count": 103,
   "id": "e0892771-a949-428b-a3f0-95956dbdb10e",
   "metadata": {},
   "outputs": [],
   "source": [
    "dv_feature_names = dv.get_feature_names_out()\n"
   ]
  },
  {
   "cell_type": "code",
   "execution_count": null,
   "id": "3c648b6d-bde7-4d01-8c19-18c0fb7705d9",
   "metadata": {},
   "outputs": [],
   "source": []
  },
  {
   "cell_type": "markdown",
   "id": "7742b62d-e0de-4b2b-8a8e-45bb4eefd011",
   "metadata": {},
   "source": [
    "# Question 1"
   ]
  },
  {
   "cell_type": "code",
   "execution_count": 104,
   "id": "6e91e1b9-5768-4b88-9e55-aef6db2f017b",
   "metadata": {},
   "outputs": [],
   "source": [
    "from sklearn.tree import DecisionTreeRegressor"
   ]
  },
  {
   "cell_type": "code",
   "execution_count": 105,
   "id": "23d355d8-d5fa-454e-88f9-65802d4f0272",
   "metadata": {},
   "outputs": [],
   "source": [
    "dt=DecisionTreeRegressor(max_depth=1)"
   ]
  },
  {
   "cell_type": "code",
   "execution_count": 106,
   "id": "20b26518-325d-4b29-945e-13327ded3fe5",
   "metadata": {},
   "outputs": [
    {
     "data": {
      "text/html": [
       "<style>#sk-container-id-3 {\n",
       "  /* Definition of color scheme common for light and dark mode */\n",
       "  --sklearn-color-text: black;\n",
       "  --sklearn-color-line: gray;\n",
       "  /* Definition of color scheme for unfitted estimators */\n",
       "  --sklearn-color-unfitted-level-0: #fff5e6;\n",
       "  --sklearn-color-unfitted-level-1: #f6e4d2;\n",
       "  --sklearn-color-unfitted-level-2: #ffe0b3;\n",
       "  --sklearn-color-unfitted-level-3: chocolate;\n",
       "  /* Definition of color scheme for fitted estimators */\n",
       "  --sklearn-color-fitted-level-0: #f0f8ff;\n",
       "  --sklearn-color-fitted-level-1: #d4ebff;\n",
       "  --sklearn-color-fitted-level-2: #b3dbfd;\n",
       "  --sklearn-color-fitted-level-3: cornflowerblue;\n",
       "\n",
       "  /* Specific color for light theme */\n",
       "  --sklearn-color-text-on-default-background: var(--sg-text-color, var(--theme-code-foreground, var(--jp-content-font-color1, black)));\n",
       "  --sklearn-color-background: var(--sg-background-color, var(--theme-background, var(--jp-layout-color0, white)));\n",
       "  --sklearn-color-border-box: var(--sg-text-color, var(--theme-code-foreground, var(--jp-content-font-color1, black)));\n",
       "  --sklearn-color-icon: #696969;\n",
       "\n",
       "  @media (prefers-color-scheme: dark) {\n",
       "    /* Redefinition of color scheme for dark theme */\n",
       "    --sklearn-color-text-on-default-background: var(--sg-text-color, var(--theme-code-foreground, var(--jp-content-font-color1, white)));\n",
       "    --sklearn-color-background: var(--sg-background-color, var(--theme-background, var(--jp-layout-color0, #111)));\n",
       "    --sklearn-color-border-box: var(--sg-text-color, var(--theme-code-foreground, var(--jp-content-font-color1, white)));\n",
       "    --sklearn-color-icon: #878787;\n",
       "  }\n",
       "}\n",
       "\n",
       "#sk-container-id-3 {\n",
       "  color: var(--sklearn-color-text);\n",
       "}\n",
       "\n",
       "#sk-container-id-3 pre {\n",
       "  padding: 0;\n",
       "}\n",
       "\n",
       "#sk-container-id-3 input.sk-hidden--visually {\n",
       "  border: 0;\n",
       "  clip: rect(1px 1px 1px 1px);\n",
       "  clip: rect(1px, 1px, 1px, 1px);\n",
       "  height: 1px;\n",
       "  margin: -1px;\n",
       "  overflow: hidden;\n",
       "  padding: 0;\n",
       "  position: absolute;\n",
       "  width: 1px;\n",
       "}\n",
       "\n",
       "#sk-container-id-3 div.sk-dashed-wrapped {\n",
       "  border: 1px dashed var(--sklearn-color-line);\n",
       "  margin: 0 0.4em 0.5em 0.4em;\n",
       "  box-sizing: border-box;\n",
       "  padding-bottom: 0.4em;\n",
       "  background-color: var(--sklearn-color-background);\n",
       "}\n",
       "\n",
       "#sk-container-id-3 div.sk-container {\n",
       "  /* jupyter's `normalize.less` sets `[hidden] { display: none; }`\n",
       "     but bootstrap.min.css set `[hidden] { display: none !important; }`\n",
       "     so we also need the `!important` here to be able to override the\n",
       "     default hidden behavior on the sphinx rendered scikit-learn.org.\n",
       "     See: https://github.com/scikit-learn/scikit-learn/issues/21755 */\n",
       "  display: inline-block !important;\n",
       "  position: relative;\n",
       "}\n",
       "\n",
       "#sk-container-id-3 div.sk-text-repr-fallback {\n",
       "  display: none;\n",
       "}\n",
       "\n",
       "div.sk-parallel-item,\n",
       "div.sk-serial,\n",
       "div.sk-item {\n",
       "  /* draw centered vertical line to link estimators */\n",
       "  background-image: linear-gradient(var(--sklearn-color-text-on-default-background), var(--sklearn-color-text-on-default-background));\n",
       "  background-size: 2px 100%;\n",
       "  background-repeat: no-repeat;\n",
       "  background-position: center center;\n",
       "}\n",
       "\n",
       "/* Parallel-specific style estimator block */\n",
       "\n",
       "#sk-container-id-3 div.sk-parallel-item::after {\n",
       "  content: \"\";\n",
       "  width: 100%;\n",
       "  border-bottom: 2px solid var(--sklearn-color-text-on-default-background);\n",
       "  flex-grow: 1;\n",
       "}\n",
       "\n",
       "#sk-container-id-3 div.sk-parallel {\n",
       "  display: flex;\n",
       "  align-items: stretch;\n",
       "  justify-content: center;\n",
       "  background-color: var(--sklearn-color-background);\n",
       "  position: relative;\n",
       "}\n",
       "\n",
       "#sk-container-id-3 div.sk-parallel-item {\n",
       "  display: flex;\n",
       "  flex-direction: column;\n",
       "}\n",
       "\n",
       "#sk-container-id-3 div.sk-parallel-item:first-child::after {\n",
       "  align-self: flex-end;\n",
       "  width: 50%;\n",
       "}\n",
       "\n",
       "#sk-container-id-3 div.sk-parallel-item:last-child::after {\n",
       "  align-self: flex-start;\n",
       "  width: 50%;\n",
       "}\n",
       "\n",
       "#sk-container-id-3 div.sk-parallel-item:only-child::after {\n",
       "  width: 0;\n",
       "}\n",
       "\n",
       "/* Serial-specific style estimator block */\n",
       "\n",
       "#sk-container-id-3 div.sk-serial {\n",
       "  display: flex;\n",
       "  flex-direction: column;\n",
       "  align-items: center;\n",
       "  background-color: var(--sklearn-color-background);\n",
       "  padding-right: 1em;\n",
       "  padding-left: 1em;\n",
       "}\n",
       "\n",
       "\n",
       "/* Toggleable style: style used for estimator/Pipeline/ColumnTransformer box that is\n",
       "clickable and can be expanded/collapsed.\n",
       "- Pipeline and ColumnTransformer use this feature and define the default style\n",
       "- Estimators will overwrite some part of the style using the `sk-estimator` class\n",
       "*/\n",
       "\n",
       "/* Pipeline and ColumnTransformer style (default) */\n",
       "\n",
       "#sk-container-id-3 div.sk-toggleable {\n",
       "  /* Default theme specific background. It is overwritten whether we have a\n",
       "  specific estimator or a Pipeline/ColumnTransformer */\n",
       "  background-color: var(--sklearn-color-background);\n",
       "}\n",
       "\n",
       "/* Toggleable label */\n",
       "#sk-container-id-3 label.sk-toggleable__label {\n",
       "  cursor: pointer;\n",
       "  display: block;\n",
       "  width: 100%;\n",
       "  margin-bottom: 0;\n",
       "  padding: 0.5em;\n",
       "  box-sizing: border-box;\n",
       "  text-align: center;\n",
       "}\n",
       "\n",
       "#sk-container-id-3 label.sk-toggleable__label-arrow:before {\n",
       "  /* Arrow on the left of the label */\n",
       "  content: \"▸\";\n",
       "  float: left;\n",
       "  margin-right: 0.25em;\n",
       "  color: var(--sklearn-color-icon);\n",
       "}\n",
       "\n",
       "#sk-container-id-3 label.sk-toggleable__label-arrow:hover:before {\n",
       "  color: var(--sklearn-color-text);\n",
       "}\n",
       "\n",
       "/* Toggleable content - dropdown */\n",
       "\n",
       "#sk-container-id-3 div.sk-toggleable__content {\n",
       "  max-height: 0;\n",
       "  max-width: 0;\n",
       "  overflow: hidden;\n",
       "  text-align: left;\n",
       "  /* unfitted */\n",
       "  background-color: var(--sklearn-color-unfitted-level-0);\n",
       "}\n",
       "\n",
       "#sk-container-id-3 div.sk-toggleable__content.fitted {\n",
       "  /* fitted */\n",
       "  background-color: var(--sklearn-color-fitted-level-0);\n",
       "}\n",
       "\n",
       "#sk-container-id-3 div.sk-toggleable__content pre {\n",
       "  margin: 0.2em;\n",
       "  border-radius: 0.25em;\n",
       "  color: var(--sklearn-color-text);\n",
       "  /* unfitted */\n",
       "  background-color: var(--sklearn-color-unfitted-level-0);\n",
       "}\n",
       "\n",
       "#sk-container-id-3 div.sk-toggleable__content.fitted pre {\n",
       "  /* unfitted */\n",
       "  background-color: var(--sklearn-color-fitted-level-0);\n",
       "}\n",
       "\n",
       "#sk-container-id-3 input.sk-toggleable__control:checked~div.sk-toggleable__content {\n",
       "  /* Expand drop-down */\n",
       "  max-height: 200px;\n",
       "  max-width: 100%;\n",
       "  overflow: auto;\n",
       "}\n",
       "\n",
       "#sk-container-id-3 input.sk-toggleable__control:checked~label.sk-toggleable__label-arrow:before {\n",
       "  content: \"▾\";\n",
       "}\n",
       "\n",
       "/* Pipeline/ColumnTransformer-specific style */\n",
       "\n",
       "#sk-container-id-3 div.sk-label input.sk-toggleable__control:checked~label.sk-toggleable__label {\n",
       "  color: var(--sklearn-color-text);\n",
       "  background-color: var(--sklearn-color-unfitted-level-2);\n",
       "}\n",
       "\n",
       "#sk-container-id-3 div.sk-label.fitted input.sk-toggleable__control:checked~label.sk-toggleable__label {\n",
       "  background-color: var(--sklearn-color-fitted-level-2);\n",
       "}\n",
       "\n",
       "/* Estimator-specific style */\n",
       "\n",
       "/* Colorize estimator box */\n",
       "#sk-container-id-3 div.sk-estimator input.sk-toggleable__control:checked~label.sk-toggleable__label {\n",
       "  /* unfitted */\n",
       "  background-color: var(--sklearn-color-unfitted-level-2);\n",
       "}\n",
       "\n",
       "#sk-container-id-3 div.sk-estimator.fitted input.sk-toggleable__control:checked~label.sk-toggleable__label {\n",
       "  /* fitted */\n",
       "  background-color: var(--sklearn-color-fitted-level-2);\n",
       "}\n",
       "\n",
       "#sk-container-id-3 div.sk-label label.sk-toggleable__label,\n",
       "#sk-container-id-3 div.sk-label label {\n",
       "  /* The background is the default theme color */\n",
       "  color: var(--sklearn-color-text-on-default-background);\n",
       "}\n",
       "\n",
       "/* On hover, darken the color of the background */\n",
       "#sk-container-id-3 div.sk-label:hover label.sk-toggleable__label {\n",
       "  color: var(--sklearn-color-text);\n",
       "  background-color: var(--sklearn-color-unfitted-level-2);\n",
       "}\n",
       "\n",
       "/* Label box, darken color on hover, fitted */\n",
       "#sk-container-id-3 div.sk-label.fitted:hover label.sk-toggleable__label.fitted {\n",
       "  color: var(--sklearn-color-text);\n",
       "  background-color: var(--sklearn-color-fitted-level-2);\n",
       "}\n",
       "\n",
       "/* Estimator label */\n",
       "\n",
       "#sk-container-id-3 div.sk-label label {\n",
       "  font-family: monospace;\n",
       "  font-weight: bold;\n",
       "  display: inline-block;\n",
       "  line-height: 1.2em;\n",
       "}\n",
       "\n",
       "#sk-container-id-3 div.sk-label-container {\n",
       "  text-align: center;\n",
       "}\n",
       "\n",
       "/* Estimator-specific */\n",
       "#sk-container-id-3 div.sk-estimator {\n",
       "  font-family: monospace;\n",
       "  border: 1px dotted var(--sklearn-color-border-box);\n",
       "  border-radius: 0.25em;\n",
       "  box-sizing: border-box;\n",
       "  margin-bottom: 0.5em;\n",
       "  /* unfitted */\n",
       "  background-color: var(--sklearn-color-unfitted-level-0);\n",
       "}\n",
       "\n",
       "#sk-container-id-3 div.sk-estimator.fitted {\n",
       "  /* fitted */\n",
       "  background-color: var(--sklearn-color-fitted-level-0);\n",
       "}\n",
       "\n",
       "/* on hover */\n",
       "#sk-container-id-3 div.sk-estimator:hover {\n",
       "  /* unfitted */\n",
       "  background-color: var(--sklearn-color-unfitted-level-2);\n",
       "}\n",
       "\n",
       "#sk-container-id-3 div.sk-estimator.fitted:hover {\n",
       "  /* fitted */\n",
       "  background-color: var(--sklearn-color-fitted-level-2);\n",
       "}\n",
       "\n",
       "/* Specification for estimator info (e.g. \"i\" and \"?\") */\n",
       "\n",
       "/* Common style for \"i\" and \"?\" */\n",
       "\n",
       ".sk-estimator-doc-link,\n",
       "a:link.sk-estimator-doc-link,\n",
       "a:visited.sk-estimator-doc-link {\n",
       "  float: right;\n",
       "  font-size: smaller;\n",
       "  line-height: 1em;\n",
       "  font-family: monospace;\n",
       "  background-color: var(--sklearn-color-background);\n",
       "  border-radius: 1em;\n",
       "  height: 1em;\n",
       "  width: 1em;\n",
       "  text-decoration: none !important;\n",
       "  margin-left: 1ex;\n",
       "  /* unfitted */\n",
       "  border: var(--sklearn-color-unfitted-level-1) 1pt solid;\n",
       "  color: var(--sklearn-color-unfitted-level-1);\n",
       "}\n",
       "\n",
       ".sk-estimator-doc-link.fitted,\n",
       "a:link.sk-estimator-doc-link.fitted,\n",
       "a:visited.sk-estimator-doc-link.fitted {\n",
       "  /* fitted */\n",
       "  border: var(--sklearn-color-fitted-level-1) 1pt solid;\n",
       "  color: var(--sklearn-color-fitted-level-1);\n",
       "}\n",
       "\n",
       "/* On hover */\n",
       "div.sk-estimator:hover .sk-estimator-doc-link:hover,\n",
       ".sk-estimator-doc-link:hover,\n",
       "div.sk-label-container:hover .sk-estimator-doc-link:hover,\n",
       ".sk-estimator-doc-link:hover {\n",
       "  /* unfitted */\n",
       "  background-color: var(--sklearn-color-unfitted-level-3);\n",
       "  color: var(--sklearn-color-background);\n",
       "  text-decoration: none;\n",
       "}\n",
       "\n",
       "div.sk-estimator.fitted:hover .sk-estimator-doc-link.fitted:hover,\n",
       ".sk-estimator-doc-link.fitted:hover,\n",
       "div.sk-label-container:hover .sk-estimator-doc-link.fitted:hover,\n",
       ".sk-estimator-doc-link.fitted:hover {\n",
       "  /* fitted */\n",
       "  background-color: var(--sklearn-color-fitted-level-3);\n",
       "  color: var(--sklearn-color-background);\n",
       "  text-decoration: none;\n",
       "}\n",
       "\n",
       "/* Span, style for the box shown on hovering the info icon */\n",
       ".sk-estimator-doc-link span {\n",
       "  display: none;\n",
       "  z-index: 9999;\n",
       "  position: relative;\n",
       "  font-weight: normal;\n",
       "  right: .2ex;\n",
       "  padding: .5ex;\n",
       "  margin: .5ex;\n",
       "  width: min-content;\n",
       "  min-width: 20ex;\n",
       "  max-width: 50ex;\n",
       "  color: var(--sklearn-color-text);\n",
       "  box-shadow: 2pt 2pt 4pt #999;\n",
       "  /* unfitted */\n",
       "  background: var(--sklearn-color-unfitted-level-0);\n",
       "  border: .5pt solid var(--sklearn-color-unfitted-level-3);\n",
       "}\n",
       "\n",
       ".sk-estimator-doc-link.fitted span {\n",
       "  /* fitted */\n",
       "  background: var(--sklearn-color-fitted-level-0);\n",
       "  border: var(--sklearn-color-fitted-level-3);\n",
       "}\n",
       "\n",
       ".sk-estimator-doc-link:hover span {\n",
       "  display: block;\n",
       "}\n",
       "\n",
       "/* \"?\"-specific style due to the `<a>` HTML tag */\n",
       "\n",
       "#sk-container-id-3 a.estimator_doc_link {\n",
       "  float: right;\n",
       "  font-size: 1rem;\n",
       "  line-height: 1em;\n",
       "  font-family: monospace;\n",
       "  background-color: var(--sklearn-color-background);\n",
       "  border-radius: 1rem;\n",
       "  height: 1rem;\n",
       "  width: 1rem;\n",
       "  text-decoration: none;\n",
       "  /* unfitted */\n",
       "  color: var(--sklearn-color-unfitted-level-1);\n",
       "  border: var(--sklearn-color-unfitted-level-1) 1pt solid;\n",
       "}\n",
       "\n",
       "#sk-container-id-3 a.estimator_doc_link.fitted {\n",
       "  /* fitted */\n",
       "  border: var(--sklearn-color-fitted-level-1) 1pt solid;\n",
       "  color: var(--sklearn-color-fitted-level-1);\n",
       "}\n",
       "\n",
       "/* On hover */\n",
       "#sk-container-id-3 a.estimator_doc_link:hover {\n",
       "  /* unfitted */\n",
       "  background-color: var(--sklearn-color-unfitted-level-3);\n",
       "  color: var(--sklearn-color-background);\n",
       "  text-decoration: none;\n",
       "}\n",
       "\n",
       "#sk-container-id-3 a.estimator_doc_link.fitted:hover {\n",
       "  /* fitted */\n",
       "  background-color: var(--sklearn-color-fitted-level-3);\n",
       "}\n",
       "</style><div id=\"sk-container-id-3\" class=\"sk-top-container\"><div class=\"sk-text-repr-fallback\"><pre>DecisionTreeRegressor(max_depth=1)</pre><b>In a Jupyter environment, please rerun this cell to show the HTML representation or trust the notebook. <br />On GitHub, the HTML representation is unable to render, please try loading this page with nbviewer.org.</b></div><div class=\"sk-container\" hidden><div class=\"sk-item\"><div class=\"sk-estimator fitted sk-toggleable\"><input class=\"sk-toggleable__control sk-hidden--visually\" id=\"sk-estimator-id-3\" type=\"checkbox\" checked><label for=\"sk-estimator-id-3\" class=\"sk-toggleable__label fitted sk-toggleable__label-arrow fitted\">&nbsp;&nbsp;DecisionTreeRegressor<a class=\"sk-estimator-doc-link fitted\" rel=\"noreferrer\" target=\"_blank\" href=\"https://scikit-learn.org/1.5/modules/generated/sklearn.tree.DecisionTreeRegressor.html\">?<span>Documentation for DecisionTreeRegressor</span></a><span class=\"sk-estimator-doc-link fitted\">i<span>Fitted</span></span></label><div class=\"sk-toggleable__content fitted\"><pre>DecisionTreeRegressor(max_depth=1)</pre></div> </div></div></div></div>"
      ],
      "text/plain": [
       "DecisionTreeRegressor(max_depth=1)"
      ]
     },
     "execution_count": 106,
     "metadata": {},
     "output_type": "execute_result"
    }
   ],
   "source": [
    "dt.fit(X_train, y_train) "
   ]
  },
  {
   "cell_type": "code",
   "execution_count": 107,
   "id": "0acbf7a6-4f84-4a35-b55a-412b8af4955d",
   "metadata": {},
   "outputs": [],
   "source": [
    "from sklearn.tree import export_text"
   ]
  },
  {
   "cell_type": "code",
   "execution_count": 108,
   "id": "7a3008a4-e82e-4254-92aa-260a834a846b",
   "metadata": {},
   "outputs": [
    {
     "name": "stdout",
     "output_type": "stream",
     "text": [
      "|--- study_hours_per_week <= 18.50\n",
      "|   |--- value: [155.24]\n",
      "|--- study_hours_per_week >  18.50\n",
      "|   |--- value: [188.59]\n",
      "\n"
     ]
    }
   ],
   "source": [
    "output=export_text(dt, feature_names=dv_feature_names)\n",
    "print(output)"
   ]
  },
  {
   "cell_type": "code",
   "execution_count": 109,
   "id": "720be0dc-dcc2-45b8-a8fd-db8a4530512d",
   "metadata": {},
   "outputs": [],
   "source": [
    "def parse_tree_output(tree_output):\n",
    "    if tree_output is None:\n",
    "        print(\"No tree output available to parse.\")\n",
    "        return []\n",
    "    \n",
    "    feature_names = set()\n",
    "    for line in tree_output.strip().split('\\n'):\n",
    "        if '|---' in line:\n",
    "            feature_part = line.split('|---')[1].strip()\n",
    "            \n",
    "            \n",
    "            if '<=' in feature_part or '>' in feature_part:\n",
    "                feature_name = feature_part.split()[0]  \n",
    "                feature_names.add(feature_name)\n",
    "    \n",
    "    return list(feature_names)"
   ]
  },
  {
   "cell_type": "code",
   "execution_count": 110,
   "id": "77d30eea-5a4f-4be1-bc1b-7df78bfdb9d1",
   "metadata": {},
   "outputs": [
    {
     "name": "stdout",
     "output_type": "stream",
     "text": [
      "|--- study_hours_per_week <= 18.50\n",
      "|   |--- value: [155.24]\n",
      "|--- study_hours_per_week >  18.50\n",
      "|   |--- value: [188.59]\n",
      "\n"
     ]
    }
   ],
   "source": [
    "print(output)\n",
    "feature_names_in_tree = parse_tree_output(output)"
   ]
  },
  {
   "cell_type": "code",
   "execution_count": 111,
   "id": "664bc874-3ea3-4d45-b027-0c6c3ec71f46",
   "metadata": {},
   "outputs": [
    {
     "name": "stdout",
     "output_type": "stream",
     "text": [
      "['study_hours_per_week']\n"
     ]
    }
   ],
   "source": [
    "print(feature_names_in_tree)"
   ]
  },
  {
   "cell_type": "code",
   "execution_count": 112,
   "id": "066d7c8f-2691-45d0-959c-1e81b3799526",
   "metadata": {},
   "outputs": [
    {
     "name": "stdout",
     "output_type": "stream",
     "text": [
      "The feature used for splitting the data is: ['study_hours_per_week']\n"
     ]
    }
   ],
   "source": [
    "print(f'The feature used for splitting the data is: {feature_names_in_tree}')"
   ]
  },
  {
   "cell_type": "markdown",
   "id": "525cf6bc-c7eb-4cbd-8268-4e5e2de80db6",
   "metadata": {},
   "source": [
    "# Question 2"
   ]
  },
  {
   "cell_type": "code",
   "execution_count": 113,
   "id": "4a9aab58-1579-425d-ab27-793c0fe83a4f",
   "metadata": {},
   "outputs": [],
   "source": [
    "from sklearn.ensemble import RandomForestRegressor"
   ]
  },
  {
   "cell_type": "code",
   "execution_count": 114,
   "id": "886cd3da-c014-429e-bf4b-9e313abf5aee",
   "metadata": {},
   "outputs": [],
   "source": [
    "from sklearn.metrics import roc_auc_score"
   ]
  },
  {
   "cell_type": "code",
   "execution_count": 115,
   "id": "83af4bf4-e60c-4a63-b3e7-318d80ee6b12",
   "metadata": {},
   "outputs": [],
   "source": [
    "import numpy as np"
   ]
  },
  {
   "cell_type": "code",
   "execution_count": 116,
   "id": "1d20c96c-ff1a-474b-84b5-6daa0505ed2e",
   "metadata": {},
   "outputs": [],
   "source": [
    "def train_forest_regression(n_estimators, max_depth, X_train, y_train, X_val, y_val):\n",
    "   rf=RandomForestRegressor(n_estimators=n_estimators, max_depth=max_depth, random_state=1, n_jobs=-1) \n",
    "   rf.fit(X_train, y_train)\n",
    "   y_pred_val = rf.predict(X_val)\n",
    "   return rmse(y_val, y_pred_val), rf"
   ]
  },
  {
   "cell_type": "code",
   "execution_count": 117,
   "id": "63addb78-48fc-4c4f-a2e4-b760bc42fb48",
   "metadata": {},
   "outputs": [],
   "source": [
    "def rmse(y, y_pred):\n",
    "    error = y-y_pred\n",
    "    se = error**2\n",
    "    mse = se.mean()\n",
    "    return np.sqrt(mse).round(3)\n",
    "    "
   ]
  },
  {
   "cell_type": "code",
   "execution_count": 118,
   "id": "8b5180ff-74f2-4556-84c7-033484ce51e0",
   "metadata": {},
   "outputs": [
    {
     "data": {
      "text/plain": [
       "41.825"
      ]
     },
     "execution_count": 118,
     "metadata": {},
     "output_type": "execute_result"
    }
   ],
   "source": [
    "rmse_value, rf = train_forest_regression(10, None, X_train, y_train, X_val, y_val)\n",
    "rmse_value"
   ]
  },
  {
   "cell_type": "code",
   "execution_count": 119,
   "id": "25f90573-d757-425c-8f76-89c36bc08663",
   "metadata": {},
   "outputs": [],
   "source": [
    "possible_values = [22.13, 42.13, 62.13, 82.12]"
   ]
  },
  {
   "cell_type": "code",
   "execution_count": 120,
   "id": "ade093af-27a6-4a8d-86d8-19679b57ae4a",
   "metadata": {},
   "outputs": [],
   "source": [
    "closest_value = min(possible_values, key=lambda x: abs(x - rmse_value))"
   ]
  },
  {
   "cell_type": "code",
   "execution_count": 121,
   "id": "b58451d9-411e-4eea-98da-a76886fbff4d",
   "metadata": {},
   "outputs": [],
   "source": [
    "# Answer to Question 1"
   ]
  },
  {
   "cell_type": "code",
   "execution_count": 122,
   "id": "d2e5805b-9609-419e-9602-6967c1f7a632",
   "metadata": {},
   "outputs": [
    {
     "name": "stdout",
     "output_type": "stream",
     "text": [
      "The value that is closest to the rmse is: 42.13\n"
     ]
    }
   ],
   "source": [
    "print(\"The value that is closest to the rmse is:\", closest_value)"
   ]
  },
  {
   "cell_type": "markdown",
   "id": "b1014cfb-71a5-4d19-b7e8-da45ffb72ddb",
   "metadata": {},
   "source": [
    "# Question 3"
   ]
  },
  {
   "cell_type": "code",
   "execution_count": 123,
   "id": "711bfd82-8972-4ec7-8b97-5e6358fa0e0d",
   "metadata": {},
   "outputs": [],
   "source": [
    "import matplotlib.pyplot as plt"
   ]
  },
  {
   "cell_type": "code",
   "execution_count": 124,
   "id": "e1c069eb-7786-415f-97e7-46d295a88f5d",
   "metadata": {},
   "outputs": [],
   "source": [
    "rmse_list = []\n",
    "for n in range(10,210, 10):\n",
    "    rmse_for_n, rf = train_forest_regression(n, None, X_train, y_train, X_val, y_val)\n",
    "    rmse_list.append((n, rmse_for_n))\n",
    "df_rmse = pd.DataFrame(rmse_list, columns = [\"n_estimators\", \"rmse\"])"
   ]
  },
  {
   "cell_type": "code",
   "execution_count": 125,
   "id": "1c5260c9-4ceb-4402-8a56-934348aef359",
   "metadata": {},
   "outputs": [
    {
     "data": {
      "image/png": "[encoded data removed]",
      "text/plain": [
       "<Figure size 1000x600 with 1 Axes>"
      ]
     },
     "metadata": {},
     "output_type": "display_data"
    }
   ],
   "source": [
    "plt.figure(figsize=(10, 6))\n",
    "plt.plot(df_rmse['n_estimators'], df_rmse['rmse'])\n",
    "plt.xlabel('n_estimators')\n",
    "plt.ylabel('RMSE')\n",
    "\n",
    "plt.show()\n"
   ]
  },
  {
   "cell_type": "code",
   "execution_count": 126,
   "id": "097a5398-99c2-48b6-b0b4-e54e2e6704ae",
   "metadata": {},
   "outputs": [],
   "source": [
    "#Answer Question 3"
   ]
  },
  {
   "cell_type": "code",
   "execution_count": 127,
   "id": "88708250-0a1d-4f43-821f-e932aaddd988",
   "metadata": {},
   "outputs": [
    {
     "name": "stdout",
     "output_type": "stream",
     "text": [
      "Rmse stops improving when n_estimators is 80\n"
     ]
    }
   ],
   "source": [
    "print('Rmse stops improving when n_estimators is 80')"
   ]
  },
  {
   "cell_type": "markdown",
   "id": "5c82788a-ada2-4688-ada2-3c923faaf449",
   "metadata": {},
   "source": [
    "# Question 4"
   ]
  },
  {
   "cell_type": "code",
   "execution_count": 128,
   "id": "c2eb8426-d879-4c3d-8bab-75e68ac15064",
   "metadata": {},
   "outputs": [
    {
     "data": {
      "text/html": [
       "<div>\n",
       "<style scoped>\n",
       "    .dataframe tbody tr th:only-of-type {\n",
       "        vertical-align: middle;\n",
       "    }\n",
       "\n",
       "    .dataframe tbody tr th {\n",
       "        vertical-align: top;\n",
       "    }\n",
       "\n",
       "    .dataframe thead th {\n",
       "        text-align: right;\n",
       "    }\n",
       "</style>\n",
       "<table border=\"1\" class=\"dataframe\">\n",
       "  <thead>\n",
       "    <tr style=\"text-align: right;\">\n",
       "      <th></th>\n",
       "      <th>max_depth</th>\n",
       "      <th>mean_rmse</th>\n",
       "    </tr>\n",
       "  </thead>\n",
       "  <tbody>\n",
       "    <tr>\n",
       "      <th>0</th>\n",
       "      <td>10</td>\n",
       "      <td>40.36500</td>\n",
       "    </tr>\n",
       "    <tr>\n",
       "      <th>1</th>\n",
       "      <td>15</td>\n",
       "      <td>40.63980</td>\n",
       "    </tr>\n",
       "    <tr>\n",
       "      <th>2</th>\n",
       "      <td>20</td>\n",
       "      <td>40.68450</td>\n",
       "    </tr>\n",
       "    <tr>\n",
       "      <th>3</th>\n",
       "      <td>25</td>\n",
       "      <td>40.61145</td>\n",
       "    </tr>\n",
       "  </tbody>\n",
       "</table>\n",
       "</div>"
      ],
      "text/plain": [
       "   max_depth  mean_rmse\n",
       "0         10   40.36500\n",
       "1         15   40.63980\n",
       "2         20   40.68450\n",
       "3         25   40.61145"
      ]
     },
     "execution_count": 128,
     "metadata": {},
     "output_type": "execute_result"
    }
   ],
   "source": [
    "rmse_list=[]\n",
    "depth_values = [10,15,20,25]\n",
    "for depth in depth_values:\n",
    "    rmse_for_n_list = []\n",
    "    for n in range(10,210, 10):\n",
    "        rmse_for_n, rf = train_forest_regression(n, depth, X_train, y_train, X_val, y_val)\n",
    "        rmse_for_n_list.append(rmse_for_n)\n",
    "    mean_rmse_for_n= np.mean(rmse_for_n_list)\n",
    "    rmse_list.append((depth, mean_rmse_for_n))\n",
    "df_rmse = pd.DataFrame(rmse_list, columns = [\"max_depth\", \"mean_rmse\"])\n",
    "df_rmse"
   ]
  },
  {
   "cell_type": "code",
   "execution_count": 129,
   "id": "e0317593-9db1-42d6-a5d2-367af3f98717",
   "metadata": {},
   "outputs": [
    {
     "data": {
      "text/plain": [
       "10.0"
      ]
     },
     "execution_count": 129,
     "metadata": {},
     "output_type": "execute_result"
    }
   ],
   "source": [
    "row_min_rmse = df_rmse.loc[df_rmse['mean_rmse'].idxmin()]\n",
    "best_max_depth = row_min_rmse['max_depth']\n",
    "best_max_depth"
   ]
  },
  {
   "cell_type": "code",
   "execution_count": 130,
   "id": "9a9729c0-4848-4179-8594-aacef291bf1c",
   "metadata": {},
   "outputs": [],
   "source": [
    "#Answer Question 4"
   ]
  },
  {
   "cell_type": "code",
   "execution_count": 131,
   "id": "ba849732-e08b-4c19-8814-9ddf4333ec84",
   "metadata": {},
   "outputs": [
    {
     "name": "stdout",
     "output_type": "stream",
     "text": [
      "The best max_depth is:  10.0\n"
     ]
    }
   ],
   "source": [
    "print('The best max_depth is: ', best_max_depth)"
   ]
  },
  {
   "cell_type": "markdown",
   "id": "ce65411a-c317-4cc3-b3c2-c1d2dc28ad2f",
   "metadata": {},
   "source": [
    "# Question 5"
   ]
  },
  {
   "cell_type": "code",
   "execution_count": 132,
   "id": "89f03ee8-0bb9-4cc8-8022-8f662c718119",
   "metadata": {},
   "outputs": [
    {
     "data": {
      "text/plain": [
       "41.955"
      ]
     },
     "execution_count": 132,
     "metadata": {},
     "output_type": "execute_result"
    }
   ],
   "source": [
    "rmse_for_n, model = train_forest_regression(n_estimators=10, max_depth=20, X_train=X_train, y_train=y_train, X_val=X_val, y_val=y_val)\n",
    "rmse_for_n"
   ]
  },
  {
   "cell_type": "code",
   "execution_count": 133,
   "id": "0bc46110-6568-4126-952e-fea6120bc575",
   "metadata": {},
   "outputs": [
    {
     "data": {
      "text/plain": [
       "array([0.01093634, 0.01014068, 0.06981166, 0.03049321, 0.14898619,\n",
       "       0.13492521, 0.01018578, 0.01170238, 0.01063523, 0.0088544 ,\n",
       "       0.01757751, 0.01215927, 0.01102292, 0.01163625, 0.01497637,\n",
       "       0.01496113, 0.01423605, 0.02199681, 0.01400047, 0.01108758,\n",
       "       0.00998864, 0.00825745, 0.0095368 , 0.007989  , 0.02570122,\n",
       "       0.00975894, 0.00986943, 0.24633057, 0.08224251])"
      ]
     },
     "execution_count": 133,
     "metadata": {},
     "output_type": "execute_result"
    }
   ],
   "source": [
    "features_importance = model.feature_importances_\n",
    "features_importance"
   ]
  },
  {
   "cell_type": "code",
   "execution_count": 134,
   "id": "e94dfd57-62bd-42c7-a330-565eece7fdb9",
   "metadata": {},
   "outputs": [],
   "source": [
    "importance_df = pd.DataFrame({\n",
    "    'feature': dv_feature_names,\n",
    "    'importance': features_importance\n",
    "})"
   ]
  },
  {
   "cell_type": "code",
   "execution_count": 135,
   "id": "f70600cd-7546-4f08-97a0-08fe3717efe8",
   "metadata": {},
   "outputs": [
    {
     "data": {
      "text/html": [
       "<div>\n",
       "<style scoped>\n",
       "    .dataframe tbody tr th:only-of-type {\n",
       "        vertical-align: middle;\n",
       "    }\n",
       "\n",
       "    .dataframe tbody tr th {\n",
       "        vertical-align: top;\n",
       "    }\n",
       "\n",
       "    .dataframe thead th {\n",
       "        text-align: right;\n",
       "    }\n",
       "</style>\n",
       "<table border=\"1\" class=\"dataframe\">\n",
       "  <thead>\n",
       "    <tr style=\"text-align: right;\">\n",
       "      <th></th>\n",
       "      <th>feature</th>\n",
       "      <th>importance</th>\n",
       "    </tr>\n",
       "  </thead>\n",
       "  <tbody>\n",
       "    <tr>\n",
       "      <th>4</th>\n",
       "      <td>attendance_rate</td>\n",
       "      <td>0.148986</td>\n",
       "    </tr>\n",
       "    <tr>\n",
       "      <th>5</th>\n",
       "      <td>distance_to_school</td>\n",
       "      <td>0.134925</td>\n",
       "    </tr>\n",
       "    <tr>\n",
       "      <th>27</th>\n",
       "      <td>study_hours_per_week</td>\n",
       "      <td>0.246331</td>\n",
       "    </tr>\n",
       "    <tr>\n",
       "      <th>28</th>\n",
       "      <td>teacher_quality</td>\n",
       "      <td>0.082243</td>\n",
       "    </tr>\n",
       "  </tbody>\n",
       "</table>\n",
       "</div>"
      ],
      "text/plain": [
       "                 feature  importance\n",
       "4        attendance_rate    0.148986\n",
       "5     distance_to_school    0.134925\n",
       "27  study_hours_per_week    0.246331\n",
       "28       teacher_quality    0.082243"
      ]
     },
     "execution_count": 135,
     "metadata": {},
     "output_type": "execute_result"
    }
   ],
   "source": [
    "possible_features = ['study_hours_per_week', 'attendance_rate', 'distance_to_school', 'teacher_quality']\n",
    "filtered_importance_df=importance_df[importance_df.feature.isin(possible_features)]\n",
    "filtered_importance_df"
   ]
  },
  {
   "cell_type": "code",
   "execution_count": 136,
   "id": "93185d37-1ecc-4d6a-82dd-469eb6babb0b",
   "metadata": {},
   "outputs": [],
   "source": [
    "highest_importance_index = filtered_importance_df['importance'].idxmax()\n",
    "highest_importance_row = filtered_importance_df.loc[highest_importance_index]"
   ]
  },
  {
   "cell_type": "code",
   "execution_count": 137,
   "id": "a5c47835-e47f-4d7e-a9ea-1fe8747dca08",
   "metadata": {},
   "outputs": [],
   "source": [
    "#Answer Question 5"
   ]
  },
  {
   "cell_type": "code",
   "execution_count": 138,
   "id": "2ffacee8-899c-45a7-a8b9-c2c2ea838ed6",
   "metadata": {},
   "outputs": [
    {
     "name": "stdout",
     "output_type": "stream",
     "text": [
      "The most important feature is: 'study_hours_per_week' with an importance value of: 0.24633057043200604\n"
     ]
    }
   ],
   "source": [
    "print(f\"The most important feature is: '{highest_importance_row['feature']}' with an importance value of: {highest_importance_row['importance']}\")"
   ]
  },
  {
   "cell_type": "markdown",
   "id": "123bb688-019d-4b5d-bdd6-7a9d164950a5",
   "metadata": {},
   "source": [
    "# Question 6"
   ]
  },
  {
   "cell_type": "code",
   "execution_count": 139,
   "id": "d3499bd4-a2ee-4908-b6b1-92b768f7ee64",
   "metadata": {},
   "outputs": [
    {
     "name": "stdout",
     "output_type": "stream",
     "text": [
      "Requirement already satisfied: xgboost in /opt/software/anaconda3/lib/python3.12/site-packages (2.1.2)\n",
      "Requirement already satisfied: numpy in /opt/software/anaconda3/lib/python3.12/site-packages (from xgboost) (1.26.4)\n",
      "Requirement already satisfied: nvidia-nccl-cu12 in /opt/software/anaconda3/lib/python3.12/site-packages (from xgboost) (2.23.4)\n",
      "Requirement already satisfied: scipy in /opt/software/anaconda3/lib/python3.12/site-packages (from xgboost) (1.13.1)\n"
     ]
    }
   ],
   "source": [
    "!pip install xgboost"
   ]
  },
  {
   "cell_type": "code",
   "execution_count": 140,
   "id": "39cb7610-013b-420c-8e03-6cd4889ee819",
   "metadata": {},
   "outputs": [],
   "source": [
    "import xgboost as xgb"
   ]
  },
  {
   "cell_type": "code",
   "execution_count": 141,
   "id": "d53373cf-fb6b-4f7c-a813-9acbf65e7fdf",
   "metadata": {},
   "outputs": [],
   "source": [
    "def train_with_eta(eta, feature_names, X_train, y_train, X_val, y_val):\n",
    "    print ('Training with eta: ', eta)\n",
    "    d_train=xgb.DMatrix(X_train, label=y_train, feature_names=list(feature_names))\n",
    "    d_val=xgb.DMatrix(X_val, label=y_val, feature_names=list(feature_names))\n",
    "    xgb_params = {\n",
    "    'eta': eta, \n",
    "    'max_depth': 6,\n",
    "    'min_child_weight': 1,\n",
    "    \n",
    "    'objective': 'reg:squarederror',\n",
    "    'nthread': 8,\n",
    "    \n",
    "    'seed': 1,\n",
    "    'verbosity': 1\n",
    "    }\n",
    "    watchlist = [(d_train, 'train'), (d_val, 'val')]\n",
    "    evals_result={}\n",
    "    output = xgb.train(xgb_params, d_train, num_boost_round=100, evals=watchlist, evals_result=evals_result)\n",
    "    return evals_result[\"val\"][\"rmse\"][-1]"
   ]
  },
  {
   "cell_type": "code",
   "execution_count": 142,
   "id": "94bfa911-3f2d-4789-8dbf-a2f5dd16739b",
   "metadata": {},
   "outputs": [
    {
     "name": "stdout",
     "output_type": "stream",
     "text": [
      "Training with eta:  0.3\n",
      "[0]\ttrain-rmse:42.69384\tval-rmse:44.89114\n",
      "[1]\ttrain-rmse:39.83326\tval-rmse:43.07010\n",
      "[2]\ttrain-rmse:37.94542\tval-rmse:42.00332\n",
      "[3]\ttrain-rmse:36.56125\tval-rmse:41.46452\n",
      "[4]\ttrain-rmse:35.44252\tval-rmse:40.88896\n",
      "[5]\ttrain-rmse:34.57756\tval-rmse:40.69096\n",
      "[6]\ttrain-rmse:33.84230\tval-rmse:40.59315\n",
      "[7]\ttrain-rmse:33.25929\tval-rmse:40.47993\n",
      "[8]\ttrain-rmse:32.79415\tval-rmse:40.45326\n",
      "[9]\ttrain-rmse:32.16019\tval-rmse:40.43929\n",
      "[10]\ttrain-rmse:31.63404\tval-rmse:40.48319\n",
      "[11]\ttrain-rmse:31.17673\tval-rmse:40.68201\n",
      "[12]\ttrain-rmse:30.87313\tval-rmse:40.63522\n",
      "[13]\ttrain-rmse:30.30310\tval-rmse:40.70983\n",
      "[14]\ttrain-rmse:30.00098\tval-rmse:40.78133\n",
      "[15]\ttrain-rmse:29.41497\tval-rmse:40.86107\n",
      "[16]\ttrain-rmse:29.25816\tval-rmse:40.96580\n",
      "[17]\ttrain-rmse:28.59378\tval-rmse:41.12190\n",
      "[18]\ttrain-rmse:28.27990\tval-rmse:41.14360\n",
      "[19]\ttrain-rmse:27.94572\tval-rmse:41.22835\n",
      "[20]\ttrain-rmse:27.49658\tval-rmse:41.27921\n",
      "[21]\ttrain-rmse:27.25449\tval-rmse:41.32427\n",
      "[22]\ttrain-rmse:27.06652\tval-rmse:41.41887\n",
      "[23]\ttrain-rmse:26.78737\tval-rmse:41.44451\n",
      "[24]\ttrain-rmse:26.47071\tval-rmse:41.52684\n",
      "[25]\ttrain-rmse:26.34353\tval-rmse:41.57975\n",
      "[26]\ttrain-rmse:25.76052\tval-rmse:41.63976\n",
      "[27]\ttrain-rmse:25.30520\tval-rmse:41.70697\n",
      "[28]\ttrain-rmse:24.86506\tval-rmse:41.69887\n",
      "[29]\ttrain-rmse:24.53599\tval-rmse:41.73703\n",
      "[30]\ttrain-rmse:24.21076\tval-rmse:41.72928\n",
      "[31]\ttrain-rmse:23.82235\tval-rmse:41.72136\n",
      "[32]\ttrain-rmse:23.46994\tval-rmse:41.72436\n",
      "[33]\ttrain-rmse:23.12153\tval-rmse:41.85049\n",
      "[34]\ttrain-rmse:22.72535\tval-rmse:41.98504\n",
      "[35]\ttrain-rmse:22.46394\tval-rmse:42.03417\n",
      "[36]\ttrain-rmse:22.26444\tval-rmse:42.07600\n",
      "[37]\ttrain-rmse:21.83666\tval-rmse:42.04571\n",
      "[38]\ttrain-rmse:21.68940\tval-rmse:42.08106\n",
      "[39]\ttrain-rmse:21.41331\tval-rmse:42.21377\n",
      "[40]\ttrain-rmse:21.35340\tval-rmse:42.24363\n",
      "[41]\ttrain-rmse:20.98685\tval-rmse:42.31689\n",
      "[42]\ttrain-rmse:20.79036\tval-rmse:42.30732\n",
      "[43]\ttrain-rmse:20.66554\tval-rmse:42.26924\n",
      "[44]\ttrain-rmse:20.56989\tval-rmse:42.28523\n",
      "[45]\ttrain-rmse:20.24355\tval-rmse:42.27966\n",
      "[46]\ttrain-rmse:20.05148\tval-rmse:42.24641\n",
      "[47]\ttrain-rmse:19.84740\tval-rmse:42.24360\n",
      "[48]\ttrain-rmse:19.60971\tval-rmse:42.34091\n",
      "[49]\ttrain-rmse:19.50284\tval-rmse:42.39551\n",
      "[50]\ttrain-rmse:19.25157\tval-rmse:42.43824\n",
      "[51]\ttrain-rmse:19.02755\tval-rmse:42.48831\n",
      "[52]\ttrain-rmse:18.94180\tval-rmse:42.46744\n",
      "[53]\ttrain-rmse:18.74533\tval-rmse:42.47890\n",
      "[54]\ttrain-rmse:18.55230\tval-rmse:42.52560\n",
      "[55]\ttrain-rmse:18.28398\tval-rmse:42.54750\n",
      "[56]\ttrain-rmse:17.99065\tval-rmse:42.55931\n",
      "[57]\ttrain-rmse:17.81369\tval-rmse:42.61400\n",
      "[58]\ttrain-rmse:17.55091\tval-rmse:42.63357\n",
      "[59]\ttrain-rmse:17.36488\tval-rmse:42.61867\n",
      "[60]\ttrain-rmse:17.12178\tval-rmse:42.64446\n",
      "[61]\ttrain-rmse:16.99520\tval-rmse:42.66346\n",
      "[62]\ttrain-rmse:16.88259\tval-rmse:42.68190\n",
      "[63]\ttrain-rmse:16.74328\tval-rmse:42.69675\n",
      "[64]\ttrain-rmse:16.48594\tval-rmse:42.77870\n",
      "[65]\ttrain-rmse:16.41573\tval-rmse:42.77416\n",
      "[66]\ttrain-rmse:16.30770\tval-rmse:42.84447\n",
      "[67]\ttrain-rmse:16.23149\tval-rmse:42.85617\n",
      "[68]\ttrain-rmse:16.08017\tval-rmse:42.83880\n",
      "[69]\ttrain-rmse:15.94722\tval-rmse:42.82752\n",
      "[70]\ttrain-rmse:15.78314\tval-rmse:42.84909\n",
      "[71]\ttrain-rmse:15.64071\tval-rmse:42.88078\n",
      "[72]\ttrain-rmse:15.43077\tval-rmse:42.91743\n",
      "[73]\ttrain-rmse:15.20807\tval-rmse:42.95770\n",
      "[74]\ttrain-rmse:15.02855\tval-rmse:42.98525\n",
      "[75]\ttrain-rmse:14.80007\tval-rmse:43.00760\n",
      "[76]\ttrain-rmse:14.62744\tval-rmse:43.00140\n",
      "[77]\ttrain-rmse:14.49116\tval-rmse:43.04155\n",
      "[78]\ttrain-rmse:14.33021\tval-rmse:43.03951\n",
      "[79]\ttrain-rmse:14.17890\tval-rmse:43.05857\n",
      "[80]\ttrain-rmse:13.96907\tval-rmse:43.08250\n",
      "[81]\ttrain-rmse:13.89819\tval-rmse:43.09026\n",
      "[82]\ttrain-rmse:13.79731\tval-rmse:43.09671\n",
      "[83]\ttrain-rmse:13.59307\tval-rmse:43.13289\n",
      "[84]\ttrain-rmse:13.52063\tval-rmse:43.15163\n",
      "[85]\ttrain-rmse:13.39102\tval-rmse:43.16297\n",
      "[86]\ttrain-rmse:13.17943\tval-rmse:43.20404\n",
      "[87]\ttrain-rmse:12.95800\tval-rmse:43.26877\n",
      "[88]\ttrain-rmse:12.83429\tval-rmse:43.29748\n",
      "[89]\ttrain-rmse:12.66807\tval-rmse:43.29220\n",
      "[90]\ttrain-rmse:12.46485\tval-rmse:43.25161\n",
      "[91]\ttrain-rmse:12.30309\tval-rmse:43.28441\n",
      "[92]\ttrain-rmse:12.22398\tval-rmse:43.29293\n",
      "[93]\ttrain-rmse:12.01197\tval-rmse:43.35861\n",
      "[94]\ttrain-rmse:11.96875\tval-rmse:43.36460\n",
      "[95]\ttrain-rmse:11.95568\tval-rmse:43.37919\n",
      "[96]\ttrain-rmse:11.76819\tval-rmse:43.39410\n",
      "[97]\ttrain-rmse:11.58218\tval-rmse:43.40203\n",
      "[98]\ttrain-rmse:11.53812\tval-rmse:43.40245\n",
      "[99]\ttrain-rmse:11.39140\tval-rmse:43.41882\n"
     ]
    },
    {
     "data": {
      "text/plain": [
       "{0.3: 43.418817373880884}"
      ]
     },
     "execution_count": 142,
     "metadata": {},
     "output_type": "execute_result"
    }
   ],
   "source": [
    "eta=0.3\n",
    "etas_dict={}\n",
    "etas_dict[eta] = train_with_eta(eta=eta, feature_names=dv_feature_names, X_train=X_train, y_train=y_train, X_val=X_val, y_val=y_val)\n",
    "etas_dict"
   ]
  },
  {
   "cell_type": "code",
   "execution_count": 143,
   "id": "16657e3b-6bc8-4f41-9f35-528a0bc89bd6",
   "metadata": {},
   "outputs": [
    {
     "name": "stdout",
     "output_type": "stream",
     "text": [
      "Training with eta:  0.1\n",
      "[0]\ttrain-rmse:45.49999\tval-rmse:47.00533\n",
      "[1]\ttrain-rmse:44.12948\tval-rmse:45.92344\n",
      "[2]\ttrain-rmse:42.94858\tval-rmse:44.98366\n",
      "[3]\ttrain-rmse:41.90896\tval-rmse:44.25755\n",
      "[4]\ttrain-rmse:40.96728\tval-rmse:43.57339\n",
      "[5]\ttrain-rmse:40.17514\tval-rmse:43.11181\n",
      "[6]\ttrain-rmse:39.40436\tval-rmse:42.61054\n",
      "[7]\ttrain-rmse:38.71199\tval-rmse:42.18883\n",
      "[8]\ttrain-rmse:38.08081\tval-rmse:41.86754\n",
      "[9]\ttrain-rmse:37.57559\tval-rmse:41.64338\n",
      "[10]\ttrain-rmse:37.07490\tval-rmse:41.39235\n",
      "[11]\ttrain-rmse:36.58709\tval-rmse:41.14265\n",
      "[12]\ttrain-rmse:36.14574\tval-rmse:40.95201\n",
      "[13]\ttrain-rmse:35.76896\tval-rmse:40.81778\n",
      "[14]\ttrain-rmse:35.40802\tval-rmse:40.75008\n",
      "[15]\ttrain-rmse:35.08521\tval-rmse:40.61341\n",
      "[16]\ttrain-rmse:34.74187\tval-rmse:40.51800\n",
      "[17]\ttrain-rmse:34.43969\tval-rmse:40.41659\n",
      "[18]\ttrain-rmse:34.16132\tval-rmse:40.33546\n",
      "[19]\ttrain-rmse:33.91836\tval-rmse:40.25632\n",
      "[20]\ttrain-rmse:33.67389\tval-rmse:40.25010\n",
      "[21]\ttrain-rmse:33.45853\tval-rmse:40.19826\n",
      "[22]\ttrain-rmse:33.23371\tval-rmse:40.21101\n",
      "[23]\ttrain-rmse:32.98777\tval-rmse:40.14758\n",
      "[24]\ttrain-rmse:32.80930\tval-rmse:40.15079\n",
      "[25]\ttrain-rmse:32.55850\tval-rmse:40.12003\n",
      "[26]\ttrain-rmse:32.33472\tval-rmse:40.08693\n",
      "[27]\ttrain-rmse:32.16808\tval-rmse:40.08567\n",
      "[28]\ttrain-rmse:32.02459\tval-rmse:40.07263\n",
      "[29]\ttrain-rmse:31.88060\tval-rmse:40.14000\n",
      "[30]\ttrain-rmse:31.76039\tval-rmse:40.13806\n",
      "[31]\ttrain-rmse:31.59198\tval-rmse:40.11982\n",
      "[32]\ttrain-rmse:31.47040\tval-rmse:40.13489\n",
      "[33]\ttrain-rmse:31.23756\tval-rmse:40.16486\n",
      "[34]\ttrain-rmse:31.11811\tval-rmse:40.17118\n",
      "[35]\ttrain-rmse:31.01425\tval-rmse:40.16103\n",
      "[36]\ttrain-rmse:30.80211\tval-rmse:40.19895\n",
      "[37]\ttrain-rmse:30.59550\tval-rmse:40.19394\n",
      "[38]\ttrain-rmse:30.41278\tval-rmse:40.20019\n",
      "[39]\ttrain-rmse:30.29415\tval-rmse:40.18898\n",
      "[40]\ttrain-rmse:30.13427\tval-rmse:40.17753\n",
      "[41]\ttrain-rmse:30.03650\tval-rmse:40.19907\n",
      "[42]\ttrain-rmse:29.85009\tval-rmse:40.23107\n",
      "[43]\ttrain-rmse:29.78370\tval-rmse:40.24420\n",
      "[44]\ttrain-rmse:29.64129\tval-rmse:40.27500\n",
      "[45]\ttrain-rmse:29.49040\tval-rmse:40.27366\n",
      "[46]\ttrain-rmse:29.39188\tval-rmse:40.24679\n",
      "[47]\ttrain-rmse:29.18726\tval-rmse:40.28895\n",
      "[48]\ttrain-rmse:28.96397\tval-rmse:40.27880\n",
      "[49]\ttrain-rmse:28.84326\tval-rmse:40.30062\n",
      "[50]\ttrain-rmse:28.75947\tval-rmse:40.29573\n",
      "[51]\ttrain-rmse:28.66521\tval-rmse:40.32700\n",
      "[52]\ttrain-rmse:28.57470\tval-rmse:40.31936\n",
      "[53]\ttrain-rmse:28.42476\tval-rmse:40.35036\n",
      "[54]\ttrain-rmse:28.33097\tval-rmse:40.36356\n",
      "[55]\ttrain-rmse:28.17535\tval-rmse:40.40072\n",
      "[56]\ttrain-rmse:28.12505\tval-rmse:40.40093\n",
      "[57]\ttrain-rmse:28.01404\tval-rmse:40.41411\n",
      "[58]\ttrain-rmse:27.92953\tval-rmse:40.43980\n",
      "[59]\ttrain-rmse:27.85113\tval-rmse:40.44968\n",
      "[60]\ttrain-rmse:27.77264\tval-rmse:40.47477\n",
      "[61]\ttrain-rmse:27.58718\tval-rmse:40.47133\n",
      "[62]\ttrain-rmse:27.39983\tval-rmse:40.48235\n",
      "[63]\ttrain-rmse:27.25860\tval-rmse:40.45222\n",
      "[64]\ttrain-rmse:27.18493\tval-rmse:40.48469\n",
      "[65]\ttrain-rmse:27.10119\tval-rmse:40.47659\n",
      "[66]\ttrain-rmse:26.98914\tval-rmse:40.50645\n",
      "[67]\ttrain-rmse:26.87200\tval-rmse:40.51134\n",
      "[68]\ttrain-rmse:26.82231\tval-rmse:40.52407\n",
      "[69]\ttrain-rmse:26.67667\tval-rmse:40.53409\n",
      "[70]\ttrain-rmse:26.61847\tval-rmse:40.55225\n",
      "[71]\ttrain-rmse:26.52262\tval-rmse:40.57516\n",
      "[72]\ttrain-rmse:26.46754\tval-rmse:40.59012\n",
      "[73]\ttrain-rmse:26.39921\tval-rmse:40.59042\n",
      "[74]\ttrain-rmse:26.31420\tval-rmse:40.59015\n",
      "[75]\ttrain-rmse:26.21281\tval-rmse:40.62564\n",
      "[76]\ttrain-rmse:26.06486\tval-rmse:40.61919\n",
      "[77]\ttrain-rmse:25.95218\tval-rmse:40.60548\n",
      "[78]\ttrain-rmse:25.87666\tval-rmse:40.61558\n",
      "[79]\ttrain-rmse:25.76297\tval-rmse:40.62441\n",
      "[80]\ttrain-rmse:25.69135\tval-rmse:40.61309\n",
      "[81]\ttrain-rmse:25.60636\tval-rmse:40.61170\n",
      "[82]\ttrain-rmse:25.50292\tval-rmse:40.62077\n",
      "[83]\ttrain-rmse:25.40326\tval-rmse:40.64626\n",
      "[84]\ttrain-rmse:25.24225\tval-rmse:40.65516\n",
      "[85]\ttrain-rmse:25.14363\tval-rmse:40.66530\n",
      "[86]\ttrain-rmse:25.05938\tval-rmse:40.70928\n",
      "[87]\ttrain-rmse:24.96816\tval-rmse:40.73308\n",
      "[88]\ttrain-rmse:24.88831\tval-rmse:40.78140\n",
      "[89]\ttrain-rmse:24.75435\tval-rmse:40.82961\n",
      "[90]\ttrain-rmse:24.60413\tval-rmse:40.84708\n",
      "[91]\ttrain-rmse:24.46832\tval-rmse:40.87368\n",
      "[92]\ttrain-rmse:24.34226\tval-rmse:40.89024\n",
      "[93]\ttrain-rmse:24.25047\tval-rmse:40.92316\n",
      "[94]\ttrain-rmse:24.14802\tval-rmse:40.94518\n",
      "[95]\ttrain-rmse:24.03404\tval-rmse:40.99952\n",
      "[96]\ttrain-rmse:24.00230\tval-rmse:41.00887\n",
      "[97]\ttrain-rmse:23.88940\tval-rmse:41.05015\n",
      "[98]\ttrain-rmse:23.76232\tval-rmse:41.06328\n",
      "[99]\ttrain-rmse:23.59704\tval-rmse:41.05034\n"
     ]
    },
    {
     "data": {
      "text/plain": [
       "{0.3: 43.418817373880884, 0.1: 41.050340171841135}"
      ]
     },
     "execution_count": 143,
     "metadata": {},
     "output_type": "execute_result"
    }
   ],
   "source": [
    "eta=0.1\n",
    "etas_dict[eta] = train_with_eta(eta=eta, feature_names=dv_feature_names, X_train=X_train, y_train=y_train, X_val=X_val, y_val=y_val)\n",
    "etas_dict"
   ]
  },
  {
   "cell_type": "code",
   "execution_count": 144,
   "id": "5e081333-75bd-4c19-849f-0070d2b80f60",
   "metadata": {},
   "outputs": [
    {
     "data": {
      "text/plain": [
       "41.050340171841135"
      ]
     },
     "execution_count": 144,
     "metadata": {},
     "output_type": "execute_result"
    }
   ],
   "source": [
    "best_eta = min(etas_dict, key=etas_dict.get)\n",
    "min_error = etas_dict[best_eta]\n",
    "min_error"
   ]
  },
  {
   "cell_type": "code",
   "execution_count": 145,
   "id": "847dc7e4-94aa-4897-b208-ae0b2ffad680",
   "metadata": {},
   "outputs": [],
   "source": [
    "#Answer Question 6"
   ]
  },
  {
   "cell_type": "code",
   "execution_count": 146,
   "id": "c48b44d4-20c9-45b5-967c-54e5c7d9276b",
   "metadata": {},
   "outputs": [
    {
     "name": "stdout",
     "output_type": "stream",
     "text": [
      "The best esta is: 0.1 with score: 41.050340171841135\n"
     ]
    }
   ],
   "source": [
    "print(f'The best esta is: {best_eta} with square error: {min_error}')"
   ]
  },
  {
   "cell_type": "code",
   "execution_count": null,
   "id": "4dcb7fdb-0c60-4a38-8fcd-ff5985cbadfd",
   "metadata": {},
   "outputs": [],
   "source": []
  }
 ],
 "metadata": {
  "kernelspec": {
   "display_name": "Python 3 (ipykernel)",
   "language": "python",
   "name": "python3"
  },
  "language_info": {
   "codemirror_mode": {
    "name": "ipython",
    "version": 3
   },
   "file_extension": ".py",
   "mimetype": "text/x-python",
   "name": "python",
   "nbconvert_exporter": "python",
   "pygments_lexer": "ipython3",
   "version": "3.12.4"
  }
 },
 "nbformat": 4,
 "nbformat_minor": 5
}
